{
  "nbformat": 4,
  "nbformat_minor": 0,
  "metadata": {
    "colab": {
      "name": "venice_lstm_test.ipynb",
      "provenance": [],
      "collapsed_sections": []
    },
    "kernelspec": {
      "name": "python3",
      "display_name": "Python 3"
    },
    "accelerator": "GPU"
  },
  "cells": [
    {
      "cell_type": "code",
      "metadata": {
        "id": "tLX17sFpCqZ6",
        "colab_type": "code",
        "outputId": "2c5a0720-c62d-492a-fc33-ccee07fefe66",
        "colab": {
          "base_uri": "https://localhost:8080/",
          "height": 312
        }
      },
      "source": [
        "!nvidia-smi"
      ],
      "execution_count": 1,
      "outputs": [
        {
          "output_type": "stream",
          "text": [
            "Tue Jan 21 14:11:08 2020       \n",
            "+-----------------------------------------------------------------------------+\n",
            "| NVIDIA-SMI 440.44       Driver Version: 418.67       CUDA Version: 10.1     |\n",
            "|-------------------------------+----------------------+----------------------+\n",
            "| GPU  Name        Persistence-M| Bus-Id        Disp.A | Volatile Uncorr. ECC |\n",
            "| Fan  Temp  Perf  Pwr:Usage/Cap|         Memory-Usage | GPU-Util  Compute M. |\n",
            "|===============================+======================+======================|\n",
            "|   0  Tesla T4            Off  | 00000000:00:04.0 Off |                    0 |\n",
            "| N/A   51C    P8    10W /  70W |      0MiB / 15079MiB |      0%      Default |\n",
            "+-------------------------------+----------------------+----------------------+\n",
            "                                                                               \n",
            "+-----------------------------------------------------------------------------+\n",
            "| Processes:                                                       GPU Memory |\n",
            "|  GPU       PID   Type   Process name                             Usage      |\n",
            "|=============================================================================|\n",
            "|  No running processes found                                                 |\n",
            "+-----------------------------------------------------------------------------+\n"
          ],
          "name": "stdout"
        }
      ]
    },
    {
      "cell_type": "code",
      "metadata": {
        "id": "VYyvPbEZ7sCY",
        "colab_type": "code",
        "outputId": "081dc96e-0f2a-4345-b237-9ed7ce7c8b3e",
        "colab": {
          "base_uri": "https://localhost:8080/",
          "height": 208
        }
      },
      "source": [
        "!wget https://raw.githubusercontent.com/DBertazioli/host/master/datas/df_final_processed.csv"
      ],
      "execution_count": 2,
      "outputs": [
        {
          "output_type": "stream",
          "text": [
            "--2020-01-21 14:11:12--  https://raw.githubusercontent.com/DBertazioli/host/master/datas/df_final_processed.csv\n",
            "Resolving raw.githubusercontent.com (raw.githubusercontent.com)... 151.101.0.133, 151.101.64.133, 151.101.128.133, ...\n",
            "Connecting to raw.githubusercontent.com (raw.githubusercontent.com)|151.101.0.133|:443... connected.\n",
            "HTTP request sent, awaiting response... 200 OK\n",
            "Length: 22162490 (21M) [text/plain]\n",
            "Saving to: ‘df_final_processed.csv’\n",
            "\n",
            "\rdf_final_processed.   0%[                    ]       0  --.-KB/s               \rdf_final_processed.  12%[=>                  ]   2.72M  13.5MB/s               \rdf_final_processed.  47%[========>           ]   9.98M  24.9MB/s               \rdf_final_processed. 100%[===================>]  21.14M  39.0MB/s    in 0.5s    \n",
            "\n",
            "2020-01-21 14:11:13 (39.0 MB/s) - ‘df_final_processed.csv’ saved [22162490/22162490]\n",
            "\n"
          ],
          "name": "stdout"
        }
      ]
    },
    {
      "cell_type": "code",
      "metadata": {
        "id": "14JMWnZb8Ead",
        "colab_type": "code",
        "outputId": "31cd36c0-bc29-4c73-e0bc-0af9cad920dc",
        "colab": {
          "base_uri": "https://localhost:8080/",
          "height": 173
        }
      },
      "source": [
        "!pip install pyforest\n",
        "from pyforest import *"
      ],
      "execution_count": 3,
      "outputs": [
        {
          "output_type": "stream",
          "text": [
            "Collecting pyforest\n",
            "  Downloading https://files.pythonhosted.org/packages/ac/c3/ae8976c2c281c69aef2a615e8e3e6ce8c0b401c55dd68c50911d0d532b3b/pyforest-1.0.2.tar.gz\n",
            "Building wheels for collected packages: pyforest\n",
            "  Building wheel for pyforest (setup.py) ... \u001b[?25l\u001b[?25hdone\n",
            "  Created wheel for pyforest: filename=pyforest-1.0.2-py2.py3-none-any.whl size=13557 sha256=9ff8c58e4b5cc73f47f955193673c6df3ada933fbd9f067848e631f49eba682c\n",
            "  Stored in directory: /root/.cache/pip/wheels/e2/1b/b1/f7ff0a6aee79ec158aea4a339d7bd722deb261f65d8c9968c2\n",
            "Successfully built pyforest\n",
            "Installing collected packages: pyforest\n",
            "Successfully installed pyforest-1.0.2\n"
          ],
          "name": "stdout"
        }
      ]
    },
    {
      "cell_type": "code",
      "metadata": {
        "id": "BKOsu1TFOSVT",
        "colab_type": "code",
        "outputId": "20a245b7-7042-4511-91a9-a22ef9ade743",
        "colab": {
          "base_uri": "https://localhost:8080/",
          "height": 81
        }
      },
      "source": [
        "from IPython.display import clear_output\n",
        "class TrainingPlot(keras.callbacks.Callback):\n",
        "    \n",
        "    def on_train_begin(self, logs={}):\n",
        "        self.losses = []\n",
        "        self.acc = []\n",
        "        self.val_losses = []\n",
        "        self.val_acc = []\n",
        "        #self.f1=[]\n",
        "        #self.val_f1=[]\n",
        "        self.logs = []\n",
        "    \n",
        "    def on_epoch_end(self, epoch, logs={}):\n",
        "        self.logs.append(logs)\n",
        "        self.losses.append(logs.get('loss'))\n",
        "        self.acc.append(logs.get('mean_absolute_error'))\n",
        "        self.val_losses.append(logs.get('val_loss'))\n",
        "        self.val_acc.append(logs.get('val_mean_absolute_error'))\n",
        "        #self.f1.append(logs.get('f1'))\n",
        "        #self.val_f1.append(logs.get('val_f1'))\n",
        "        \n",
        "        if len(self.losses)%5==0:\n",
        "            \n",
        "            clear_output(wait=True)\n",
        "            N = np.arange(0, len(self.losses))\n",
        "            \n",
        "            #%matplotlib inline\n",
        "            plt.style.use(\"seaborn\")\n",
        "            plt.figure()\n",
        "            plt.plot(N, self.losses, label = \"train_mse\")\n",
        "            plt.plot(N, self.acc, label = \"train_mae\")\n",
        "            plt.plot(N, self.val_losses, label = \"val_mse\")\n",
        "            plt.plot(N, self.val_acc, label = \"val_mae\")\n",
        "            #plt.plot(N, self.f1, label = \"f1\")\n",
        "            #plt.plot(N, self.val_f1, label = \"val_f1\")\n",
        "            plt.ylim(0,0.1)\n",
        "            plt.title(\"Training Loss and Accuracy [Epoch {}]\".format(epoch))\n",
        "            plt.xlabel(\"Epoch #\")\n",
        "            plt.ylabel(\"Loss(Mse)/Mae\")\n",
        "            plt.legend()\n",
        "            plt.show()\n",
        "\n",
        "plot_losses = TrainingPlot()"
      ],
      "execution_count": 4,
      "outputs": [
        {
          "output_type": "stream",
          "text": [
            "Using TensorFlow backend.\n"
          ],
          "name": "stderr"
        },
        {
          "output_type": "display_data",
          "data": {
            "text/html": [
              "<p style=\"color: red;\">\n",
              "The default version of TensorFlow in Colab will soon switch to TensorFlow 2.x.<br>\n",
              "We recommend you <a href=\"https://www.tensorflow.org/guide/migrate\" target=\"_blank\">upgrade</a> now \n",
              "or ensure your notebook will continue to use TensorFlow 1.x via the <code>%tensorflow_version 1.x</code> magic:\n",
              "<a href=\"https://colab.research.google.com/notebooks/tensorflow_version.ipynb\" target=\"_blank\">more info</a>.</p>\n"
            ],
            "text/plain": [
              "<IPython.core.display.HTML object>"
            ]
          },
          "metadata": {
            "tags": []
          }
        },
        {
          "output_type": "display_data",
          "data": {
            "application/javascript": [
              "\n",
              "        if (window._pyforest_update_imports_cell) { window._pyforest_update_imports_cell('import keras'); }\n",
              "    "
            ],
            "text/plain": [
              "<IPython.core.display.Javascript object>"
            ]
          },
          "metadata": {
            "tags": []
          }
        }
      ]
    },
    {
      "cell_type": "code",
      "metadata": {
        "id": "o8d1y7J78Hrd",
        "colab_type": "code",
        "outputId": "4e7085bc-e442-40fb-9ad1-d0de6e7e2585",
        "colab": {
          "base_uri": "https://localhost:8080/",
          "height": 313
        }
      },
      "source": [
        "df = pd.read_csv(\"df_final_processed.csv\", index_col = 0)\n",
        "df.head()"
      ],
      "execution_count": 5,
      "outputs": [
        {
          "output_type": "display_data",
          "data": {
            "application/javascript": [
              "\n",
              "        if (window._pyforest_update_imports_cell) { window._pyforest_update_imports_cell('import pandas as pd\\nimport keras'); }\n",
              "    "
            ],
            "text/plain": [
              "<IPython.core.display.Javascript object>"
            ]
          },
          "metadata": {
            "tags": []
          }
        },
        {
          "output_type": "execute_result",
          "data": {
            "text/html": [
              "<div>\n",
              "<style scoped>\n",
              "    .dataframe tbody tr th:only-of-type {\n",
              "        vertical-align: middle;\n",
              "    }\n",
              "\n",
              "    .dataframe tbody tr th {\n",
              "        vertical-align: top;\n",
              "    }\n",
              "\n",
              "    .dataframe thead th {\n",
              "        text-align: right;\n",
              "    }\n",
              "</style>\n",
              "<table border=\"1\" class=\"dataframe\">\n",
              "  <thead>\n",
              "    <tr style=\"text-align: right;\">\n",
              "      <th></th>\n",
              "      <th>datetime</th>\n",
              "      <th>level</th>\n",
              "      <th>rain</th>\n",
              "      <th>vel_wind</th>\n",
              "      <th>dir_wind</th>\n",
              "      <th>level_std</th>\n",
              "      <th>level_scaled</th>\n",
              "      <th>dist</th>\n",
              "      <th>dist_std</th>\n",
              "      <th>dist_scaled</th>\n",
              "      <th>ts</th>\n",
              "      <th>inv_dist</th>\n",
              "      <th>inv_dist_std</th>\n",
              "      <th>inv_dist_scaled</th>\n",
              "      <th>inv_dist_2</th>\n",
              "      <th>inv_dist_2_std</th>\n",
              "      <th>inv_dist_2_scaled</th>\n",
              "    </tr>\n",
              "  </thead>\n",
              "  <tbody>\n",
              "    <tr>\n",
              "      <th>0</th>\n",
              "      <td>2010-01-01 00:00:00</td>\n",
              "      <td>102.0</td>\n",
              "      <td>0.0</td>\n",
              "      <td>0.2</td>\n",
              "      <td>337.5</td>\n",
              "      <td>2.461852</td>\n",
              "      <td>0.763636</td>\n",
              "      <td>353510.208614</td>\n",
              "      <td>-2.034933</td>\n",
              "      <td>0.043682</td>\n",
              "      <td>1262304000000000000</td>\n",
              "      <td>0.000003</td>\n",
              "      <td>2.156252</td>\n",
              "      <td>0.949046</td>\n",
              "      <td>8.001955e-12</td>\n",
              "      <td>2.219529</td>\n",
              "      <td>0.945147</td>\n",
              "    </tr>\n",
              "    <tr>\n",
              "      <th>1</th>\n",
              "      <td>2010-01-01 01:00:00</td>\n",
              "      <td>100.0</td>\n",
              "      <td>0.0</td>\n",
              "      <td>0.7</td>\n",
              "      <td>315.0</td>\n",
              "      <td>2.389875</td>\n",
              "      <td>0.754545</td>\n",
              "      <td>353731.458075</td>\n",
              "      <td>-2.020637</td>\n",
              "      <td>0.047277</td>\n",
              "      <td>1262307600000000000</td>\n",
              "      <td>0.000003</td>\n",
              "      <td>2.139458</td>\n",
              "      <td>0.944887</td>\n",
              "      <td>7.991948e-12</td>\n",
              "      <td>2.201361</td>\n",
              "      <td>0.940688</td>\n",
              "    </tr>\n",
              "    <tr>\n",
              "      <th>2</th>\n",
              "      <td>2010-01-01 02:00:00</td>\n",
              "      <td>86.0</td>\n",
              "      <td>0.0</td>\n",
              "      <td>1.5</td>\n",
              "      <td>247.5</td>\n",
              "      <td>1.886035</td>\n",
              "      <td>0.690909</td>\n",
              "      <td>354197.433405</td>\n",
              "      <td>-1.990529</td>\n",
              "      <td>0.054849</td>\n",
              "      <td>1262311200000000000</td>\n",
              "      <td>0.000003</td>\n",
              "      <td>2.104155</td>\n",
              "      <td>0.936144</td>\n",
              "      <td>7.970933e-12</td>\n",
              "      <td>2.163208</td>\n",
              "      <td>0.931324</td>\n",
              "    </tr>\n",
              "    <tr>\n",
              "      <th>3</th>\n",
              "      <td>2010-01-01 03:00:00</td>\n",
              "      <td>74.0</td>\n",
              "      <td>0.0</td>\n",
              "      <td>1.3</td>\n",
              "      <td>247.5</td>\n",
              "      <td>1.454172</td>\n",
              "      <td>0.636364</td>\n",
              "      <td>354875.253700</td>\n",
              "      <td>-1.946732</td>\n",
              "      <td>0.065863</td>\n",
              "      <td>1262314800000000000</td>\n",
              "      <td>0.000003</td>\n",
              "      <td>2.052969</td>\n",
              "      <td>0.923467</td>\n",
              "      <td>7.940513e-12</td>\n",
              "      <td>2.107977</td>\n",
              "      <td>0.917768</td>\n",
              "    </tr>\n",
              "    <tr>\n",
              "      <th>4</th>\n",
              "      <td>2010-01-01 04:00:00</td>\n",
              "      <td>65.0</td>\n",
              "      <td>0.0</td>\n",
              "      <td>1.3</td>\n",
              "      <td>247.5</td>\n",
              "      <td>1.130275</td>\n",
              "      <td>0.595455</td>\n",
              "      <td>355718.662776</td>\n",
              "      <td>-1.892236</td>\n",
              "      <td>0.079569</td>\n",
              "      <td>1262318400000000000</td>\n",
              "      <td>0.000003</td>\n",
              "      <td>1.989551</td>\n",
              "      <td>0.907761</td>\n",
              "      <td>7.902904e-12</td>\n",
              "      <td>2.039695</td>\n",
              "      <td>0.901010</td>\n",
              "    </tr>\n",
              "  </tbody>\n",
              "</table>\n",
              "</div>"
            ],
            "text/plain": [
              "              datetime  level  ...  inv_dist_2_std  inv_dist_2_scaled\n",
              "0  2010-01-01 00:00:00  102.0  ...        2.219529           0.945147\n",
              "1  2010-01-01 01:00:00  100.0  ...        2.201361           0.940688\n",
              "2  2010-01-01 02:00:00   86.0  ...        2.163208           0.931324\n",
              "3  2010-01-01 03:00:00   74.0  ...        2.107977           0.917768\n",
              "4  2010-01-01 04:00:00   65.0  ...        2.039695           0.901010\n",
              "\n",
              "[5 rows x 17 columns]"
            ]
          },
          "metadata": {
            "tags": []
          },
          "execution_count": 5
        }
      ]
    },
    {
      "cell_type": "code",
      "metadata": {
        "id": "HrMRFlKoeYsL",
        "colab_type": "code",
        "colab": {
          "base_uri": "https://localhost:8080/",
          "height": 617
        },
        "outputId": "d112adf4-c795-4faa-f4a4-a9ac423cc503"
      },
      "source": [
        "split_index = -7*24\n",
        "\n",
        "df[split_index:]"
      ],
      "execution_count": 17,
      "outputs": [
        {
          "output_type": "execute_result",
          "data": {
            "text/html": [
              "<div>\n",
              "<style scoped>\n",
              "    .dataframe tbody tr th:only-of-type {\n",
              "        vertical-align: middle;\n",
              "    }\n",
              "\n",
              "    .dataframe tbody tr th {\n",
              "        vertical-align: top;\n",
              "    }\n",
              "\n",
              "    .dataframe thead th {\n",
              "        text-align: right;\n",
              "    }\n",
              "</style>\n",
              "<table border=\"1\" class=\"dataframe\">\n",
              "  <thead>\n",
              "    <tr style=\"text-align: right;\">\n",
              "      <th></th>\n",
              "      <th>datetime</th>\n",
              "      <th>level</th>\n",
              "      <th>rain</th>\n",
              "      <th>vel_wind</th>\n",
              "      <th>dir_wind</th>\n",
              "      <th>level_std</th>\n",
              "      <th>level_scaled</th>\n",
              "      <th>dist</th>\n",
              "      <th>dist_std</th>\n",
              "      <th>dist_scaled</th>\n",
              "      <th>ts</th>\n",
              "      <th>inv_dist</th>\n",
              "      <th>inv_dist_std</th>\n",
              "      <th>inv_dist_scaled</th>\n",
              "      <th>inv_dist_2</th>\n",
              "      <th>inv_dist_2_std</th>\n",
              "      <th>inv_dist_2_scaled</th>\n",
              "    </tr>\n",
              "  </thead>\n",
              "  <tbody>\n",
              "    <tr>\n",
              "      <th>78720</th>\n",
              "      <td>2018-12-25 00:00:00</td>\n",
              "      <td>52.0</td>\n",
              "      <td>0.0</td>\n",
              "      <td>0.9</td>\n",
              "      <td>292.5</td>\n",
              "      <td>0.662424</td>\n",
              "      <td>0.536364</td>\n",
              "      <td>355892.715603</td>\n",
              "      <td>-1.880990</td>\n",
              "      <td>0.082397</td>\n",
              "      <td>1545696000000000000</td>\n",
              "      <td>0.000003</td>\n",
              "      <td>1.976501</td>\n",
              "      <td>0.904529</td>\n",
              "      <td>7.895176e-12</td>\n",
              "      <td>2.025664</td>\n",
              "      <td>0.897566</td>\n",
              "    </tr>\n",
              "    <tr>\n",
              "      <th>78721</th>\n",
              "      <td>2018-12-25 01:00:00</td>\n",
              "      <td>54.0</td>\n",
              "      <td>0.0</td>\n",
              "      <td>0.8</td>\n",
              "      <td>315.0</td>\n",
              "      <td>0.734401</td>\n",
              "      <td>0.545455</td>\n",
              "      <td>355680.557154</td>\n",
              "      <td>-1.894698</td>\n",
              "      <td>0.078949</td>\n",
              "      <td>1545699600000000000</td>\n",
              "      <td>0.000003</td>\n",
              "      <td>1.992410</td>\n",
              "      <td>0.908469</td>\n",
              "      <td>7.904597e-12</td>\n",
              "      <td>2.042769</td>\n",
              "      <td>0.901764</td>\n",
              "    </tr>\n",
              "    <tr>\n",
              "      <th>78722</th>\n",
              "      <td>2018-12-25 02:00:00</td>\n",
              "      <td>47.0</td>\n",
              "      <td>0.0</td>\n",
              "      <td>1.5</td>\n",
              "      <td>247.5</td>\n",
              "      <td>0.482481</td>\n",
              "      <td>0.513636</td>\n",
              "      <td>355738.063902</td>\n",
              "      <td>-1.890983</td>\n",
              "      <td>0.079884</td>\n",
              "      <td>1545703200000000000</td>\n",
              "      <td>0.000003</td>\n",
              "      <td>1.988095</td>\n",
              "      <td>0.907401</td>\n",
              "      <td>7.902042e-12</td>\n",
              "      <td>2.038130</td>\n",
              "      <td>0.900625</td>\n",
              "    </tr>\n",
              "    <tr>\n",
              "      <th>78723</th>\n",
              "      <td>2018-12-25 03:00:00</td>\n",
              "      <td>30.0</td>\n",
              "      <td>0.0</td>\n",
              "      <td>1.8</td>\n",
              "      <td>247.5</td>\n",
              "      <td>-0.129324</td>\n",
              "      <td>0.436364</td>\n",
              "      <td>356065.131351</td>\n",
              "      <td>-1.869850</td>\n",
              "      <td>0.085199</td>\n",
              "      <td>1545706800000000000</td>\n",
              "      <td>0.000003</td>\n",
              "      <td>1.963586</td>\n",
              "      <td>0.901331</td>\n",
              "      <td>7.887532e-12</td>\n",
              "      <td>2.011785</td>\n",
              "      <td>0.894160</td>\n",
              "    </tr>\n",
              "    <tr>\n",
              "      <th>78724</th>\n",
              "      <td>2018-12-25 04:00:00</td>\n",
              "      <td>13.0</td>\n",
              "      <td>0.0</td>\n",
              "      <td>1.5</td>\n",
              "      <td>225.0</td>\n",
              "      <td>-0.741129</td>\n",
              "      <td>0.359091</td>\n",
              "      <td>356644.343771</td>\n",
              "      <td>-1.832424</td>\n",
              "      <td>0.094611</td>\n",
              "      <td>1545710400000000000</td>\n",
              "      <td>0.000003</td>\n",
              "      <td>1.920291</td>\n",
              "      <td>0.890609</td>\n",
              "      <td>7.861933e-12</td>\n",
              "      <td>1.965308</td>\n",
              "      <td>0.882753</td>\n",
              "    </tr>\n",
              "    <tr>\n",
              "      <th>...</th>\n",
              "      <td>...</td>\n",
              "      <td>...</td>\n",
              "      <td>...</td>\n",
              "      <td>...</td>\n",
              "      <td>...</td>\n",
              "      <td>...</td>\n",
              "      <td>...</td>\n",
              "      <td>...</td>\n",
              "      <td>...</td>\n",
              "      <td>...</td>\n",
              "      <td>...</td>\n",
              "      <td>...</td>\n",
              "      <td>...</td>\n",
              "      <td>...</td>\n",
              "      <td>...</td>\n",
              "      <td>...</td>\n",
              "      <td>...</td>\n",
              "    </tr>\n",
              "    <tr>\n",
              "      <th>78883</th>\n",
              "      <td>2018-12-31 19:00:00</td>\n",
              "      <td>8.0</td>\n",
              "      <td>0.0</td>\n",
              "      <td>1.6</td>\n",
              "      <td>22.5</td>\n",
              "      <td>-0.921072</td>\n",
              "      <td>0.336364</td>\n",
              "      <td>391447.768733</td>\n",
              "      <td>0.416360</td>\n",
              "      <td>0.660158</td>\n",
              "      <td>1546282800000000000</td>\n",
              "      <td>0.000003</td>\n",
              "      <td>-0.446021</td>\n",
              "      <td>0.304572</td>\n",
              "      <td>6.526079e-12</td>\n",
              "      <td>-0.460040</td>\n",
              "      <td>0.287493</td>\n",
              "    </tr>\n",
              "    <tr>\n",
              "      <th>78884</th>\n",
              "      <td>2018-12-31 20:00:00</td>\n",
              "      <td>11.0</td>\n",
              "      <td>0.0</td>\n",
              "      <td>1.8</td>\n",
              "      <td>22.5</td>\n",
              "      <td>-0.813106</td>\n",
              "      <td>0.350000</td>\n",
              "      <td>391516.944021</td>\n",
              "      <td>0.420830</td>\n",
              "      <td>0.661282</td>\n",
              "      <td>1546286400000000000</td>\n",
              "      <td>0.000003</td>\n",
              "      <td>-0.450305</td>\n",
              "      <td>0.303511</td>\n",
              "      <td>6.523774e-12</td>\n",
              "      <td>-0.464227</td>\n",
              "      <td>0.286466</td>\n",
              "    </tr>\n",
              "    <tr>\n",
              "      <th>78885</th>\n",
              "      <td>2018-12-31 21:00:00</td>\n",
              "      <td>9.0</td>\n",
              "      <td>0.0</td>\n",
              "      <td>1.8</td>\n",
              "      <td>45.0</td>\n",
              "      <td>-0.885084</td>\n",
              "      <td>0.340909</td>\n",
              "      <td>391314.329393</td>\n",
              "      <td>0.407738</td>\n",
              "      <td>0.657989</td>\n",
              "      <td>1546290000000000000</td>\n",
              "      <td>0.000003</td>\n",
              "      <td>-0.437752</td>\n",
              "      <td>0.306620</td>\n",
              "      <td>6.530531e-12</td>\n",
              "      <td>-0.451958</td>\n",
              "      <td>0.289477</td>\n",
              "    </tr>\n",
              "    <tr>\n",
              "      <th>78886</th>\n",
              "      <td>2018-12-31 22:00:00</td>\n",
              "      <td>3.0</td>\n",
              "      <td>0.0</td>\n",
              "      <td>1.8</td>\n",
              "      <td>45.0</td>\n",
              "      <td>-1.101015</td>\n",
              "      <td>0.313636</td>\n",
              "      <td>390864.167549</td>\n",
              "      <td>0.378651</td>\n",
              "      <td>0.650674</td>\n",
              "      <td>1546293600000000000</td>\n",
              "      <td>0.000003</td>\n",
              "      <td>-0.409815</td>\n",
              "      <td>0.313539</td>\n",
              "      <td>6.545582e-12</td>\n",
              "      <td>-0.424631</td>\n",
              "      <td>0.296184</td>\n",
              "    </tr>\n",
              "    <tr>\n",
              "      <th>78887</th>\n",
              "      <td>2018-12-31 23:00:00</td>\n",
              "      <td>-3.0</td>\n",
              "      <td>0.0</td>\n",
              "      <td>1.6</td>\n",
              "      <td>45.0</td>\n",
              "      <td>-1.316946</td>\n",
              "      <td>0.286364</td>\n",
              "      <td>390206.096694</td>\n",
              "      <td>0.336131</td>\n",
              "      <td>0.639981</td>\n",
              "      <td>1546297200000000000</td>\n",
              "      <td>0.000003</td>\n",
              "      <td>-0.368860</td>\n",
              "      <td>0.323682</td>\n",
              "      <td>6.567679e-12</td>\n",
              "      <td>-0.384513</td>\n",
              "      <td>0.306030</td>\n",
              "    </tr>\n",
              "  </tbody>\n",
              "</table>\n",
              "<p>168 rows × 17 columns</p>\n",
              "</div>"
            ],
            "text/plain": [
              "                  datetime  level  ...  inv_dist_2_std  inv_dist_2_scaled\n",
              "78720  2018-12-25 00:00:00   52.0  ...        2.025664           0.897566\n",
              "78721  2018-12-25 01:00:00   54.0  ...        2.042769           0.901764\n",
              "78722  2018-12-25 02:00:00   47.0  ...        2.038130           0.900625\n",
              "78723  2018-12-25 03:00:00   30.0  ...        2.011785           0.894160\n",
              "78724  2018-12-25 04:00:00   13.0  ...        1.965308           0.882753\n",
              "...                    ...    ...  ...             ...                ...\n",
              "78883  2018-12-31 19:00:00    8.0  ...       -0.460040           0.287493\n",
              "78884  2018-12-31 20:00:00   11.0  ...       -0.464227           0.286466\n",
              "78885  2018-12-31 21:00:00    9.0  ...       -0.451958           0.289477\n",
              "78886  2018-12-31 22:00:00    3.0  ...       -0.424631           0.296184\n",
              "78887  2018-12-31 23:00:00   -3.0  ...       -0.384513           0.306030\n",
              "\n",
              "[168 rows x 17 columns]"
            ]
          },
          "metadata": {
            "tags": []
          },
          "execution_count": 17
        }
      ]
    },
    {
      "cell_type": "code",
      "metadata": {
        "id": "hsD3McW88LQr",
        "colab_type": "code",
        "outputId": "86cb73d7-0d93-4042-f1f0-97ec62ec63e2",
        "colab": {
          "base_uri": "https://localhost:8080/",
          "height": 34
        }
      },
      "source": [
        "from keras.preprocessing.sequence import TimeseriesGenerator\n",
        "\n",
        "series = df.level_std.values\n",
        "split_index = -7*24\n",
        "\n",
        "test_series = series [split_index:]\n",
        "series = series [:split_index]\n",
        "n_features = 1\n",
        "series = series.reshape((len(series), n_features))\n",
        "test_series = test_series.reshape((len(test_series), n_features))\n",
        "\n",
        "series.shape\n"
      ],
      "execution_count": 9,
      "outputs": [
        {
          "output_type": "execute_result",
          "data": {
            "text/plain": [
              "(78720, 1)"
            ]
          },
          "metadata": {
            "tags": []
          },
          "execution_count": 9
        }
      ]
    },
    {
      "cell_type": "code",
      "metadata": {
        "id": "JdUtP7bL9JcU",
        "colab_type": "code",
        "colab": {}
      },
      "source": [
        "# define generator\n",
        "n_input = 1*24\n",
        "train_generator = TimeseriesGenerator(series, series, length=n_input, batch_size=256)\n",
        "test_generator = TimeseriesGenerator(test_series, test_series, length=n_input, batch_size=8)"
      ],
      "execution_count": 0,
      "outputs": []
    },
    {
      "cell_type": "code",
      "metadata": {
        "id": "T9Df004m9P3m",
        "colab_type": "code",
        "outputId": "b5ee13e2-8c23-487c-f6af-b47e425a9f86",
        "colab": {
          "base_uri": "https://localhost:8080/",
          "height": 454
        }
      },
      "source": [
        "from keras.models import Sequential\n",
        "from keras.layers import LSTM, Dense\n",
        "# define model\n",
        "model = Sequential()\n",
        "model.add(LSTM(1024, activation='relu', input_shape=(n_input, n_features), return_sequences=True))\n",
        "model.add(LSTM(512, activation='relu', return_sequences=True))\n",
        "#model.add(LSTM(256, activation='relu', return_sequences=True))\n",
        "model.add(LSTM(128, activation='relu'))\n",
        "#model.add(Dense(64, activation = \"relu\" ))\n",
        "model.add(Dense(1) )\n",
        "model.compile(optimizer='adam', loss='mse', metrics = [\"mae\"])\n",
        "model.summary()"
      ],
      "execution_count": 0,
      "outputs": [
        {
          "output_type": "stream",
          "text": [
            "WARNING:tensorflow:From /usr/local/lib/python3.6/dist-packages/keras/backend/tensorflow_backend.py:66: The name tf.get_default_graph is deprecated. Please use tf.compat.v1.get_default_graph instead.\n",
            "\n",
            "WARNING:tensorflow:From /usr/local/lib/python3.6/dist-packages/keras/backend/tensorflow_backend.py:541: The name tf.placeholder is deprecated. Please use tf.compat.v1.placeholder instead.\n",
            "\n",
            "WARNING:tensorflow:From /usr/local/lib/python3.6/dist-packages/keras/backend/tensorflow_backend.py:4432: The name tf.random_uniform is deprecated. Please use tf.random.uniform instead.\n",
            "\n",
            "WARNING:tensorflow:From /usr/local/lib/python3.6/dist-packages/keras/optimizers.py:793: The name tf.train.Optimizer is deprecated. Please use tf.compat.v1.train.Optimizer instead.\n",
            "\n",
            "Model: \"sequential_1\"\n",
            "_________________________________________________________________\n",
            "Layer (type)                 Output Shape              Param #   \n",
            "=================================================================\n",
            "lstm_1 (LSTM)                (None, 24, 1024)          4202496   \n",
            "_________________________________________________________________\n",
            "lstm_2 (LSTM)                (None, 24, 512)           3147776   \n",
            "_________________________________________________________________\n",
            "lstm_3 (LSTM)                (None, 128)               328192    \n",
            "_________________________________________________________________\n",
            "dense_1 (Dense)              (None, 1)                 129       \n",
            "=================================================================\n",
            "Total params: 7,678,593\n",
            "Trainable params: 7,678,593\n",
            "Non-trainable params: 0\n",
            "_________________________________________________________________\n"
          ],
          "name": "stdout"
        }
      ]
    },
    {
      "cell_type": "code",
      "metadata": {
        "id": "rfEoaQZB9P-2",
        "colab_type": "code",
        "outputId": "0ccf5af4-519e-4dcb-d12c-18365410c741",
        "colab": {
          "base_uri": "https://localhost:8080/",
          "height": 445
        }
      },
      "source": [
        "# fit model\n",
        "history1 = model.fit_generator(train_generator,  epochs=100, verbose=1, validation_data=test_generator, callbacks=[plot_losses])"
      ],
      "execution_count": 0,
      "outputs": [
        {
          "output_type": "display_data",
          "data": {
            "application/javascript": [
              "\n",
              "        if (window._pyforest_update_imports_cell) { window._pyforest_update_imports_cell('import keras\\nimport numpy as np\\nimport pandas as pd\\nimport matplotlib.pyplot as plt'); }\n",
              "    "
            ],
            "text/plain": [
              "<IPython.core.display.Javascript object>"
            ]
          },
          "metadata": {
            "tags": []
          }
        },
        {
          "output_type": "display_data",
          "data": {
            "application/javascript": [
              "\n",
              "        if (window._pyforest_update_imports_cell) { window._pyforest_update_imports_cell('import keras\\nimport numpy as np\\nimport pandas as pd\\nimport matplotlib.pyplot as plt'); }\n",
              "    "
            ],
            "text/plain": [
              "<IPython.core.display.Javascript object>"
            ]
          },
          "metadata": {
            "tags": []
          }
        },
        {
          "output_type": "display_data",
          "data": {
            "application/javascript": [
              "\n",
              "        if (window._pyforest_update_imports_cell) { window._pyforest_update_imports_cell('import keras\\nimport numpy as np\\nimport pandas as pd\\nimport matplotlib.pyplot as plt'); }\n",
              "    "
            ],
            "text/plain": [
              "<IPython.core.display.Javascript object>"
            ]
          },
          "metadata": {
            "tags": []
          }
        },
        {
          "output_type": "display_data",
          "data": {
            "application/javascript": [
              "\n",
              "        if (window._pyforest_update_imports_cell) { window._pyforest_update_imports_cell('import keras\\nimport numpy as np\\nimport pandas as pd\\nimport matplotlib.pyplot as plt'); }\n",
              "    "
            ],
            "text/plain": [
              "<IPython.core.display.Javascript object>"
            ]
          },
          "metadata": {
            "tags": []
          }
        },
        {
          "output_type": "display_data",
          "data": {
            "application/javascript": [
              "\n",
              "        if (window._pyforest_update_imports_cell) { window._pyforest_update_imports_cell('import keras\\nimport numpy as np\\nimport pandas as pd\\nimport matplotlib.pyplot as plt'); }\n",
              "    "
            ],
            "text/plain": [
              "<IPython.core.display.Javascript object>"
            ]
          },
          "metadata": {
            "tags": []
          }
        },
        {
          "output_type": "display_data",
          "data": {
            "application/javascript": [
              "\n",
              "        if (window._pyforest_update_imports_cell) { window._pyforest_update_imports_cell('import keras\\nimport numpy as np\\nimport pandas as pd\\nimport matplotlib.pyplot as plt'); }\n",
              "    "
            ],
            "text/plain": [
              "<IPython.core.display.Javascript object>"
            ]
          },
          "metadata": {
            "tags": []
          }
        },
        {
          "output_type": "display_data",
          "data": {
            "application/javascript": [
              "\n",
              "        if (window._pyforest_update_imports_cell) { window._pyforest_update_imports_cell('import keras\\nimport numpy as np\\nimport pandas as pd\\nimport matplotlib.pyplot as plt'); }\n",
              "    "
            ],
            "text/plain": [
              "<IPython.core.display.Javascript object>"
            ]
          },
          "metadata": {
            "tags": []
          }
        },
        {
          "output_type": "display_data",
          "data": {
            "application/javascript": [
              "\n",
              "        if (window._pyforest_update_imports_cell) { window._pyforest_update_imports_cell('import keras\\nimport numpy as np\\nimport pandas as pd\\nimport matplotlib.pyplot as plt'); }\n",
              "    "
            ],
            "text/plain": [
              "<IPython.core.display.Javascript object>"
            ]
          },
          "metadata": {
            "tags": []
          }
        },
        {
          "output_type": "display_data",
          "data": {
            "application/javascript": [
              "\n",
              "        if (window._pyforest_update_imports_cell) { window._pyforest_update_imports_cell('import keras\\nimport numpy as np\\nimport pandas as pd\\nimport matplotlib.pyplot as plt'); }\n",
              "    "
            ],
            "text/plain": [
              "<IPython.core.display.Javascript object>"
            ]
          },
          "metadata": {
            "tags": []
          }
        },
        {
          "output_type": "display_data",
          "data": {
            "application/javascript": [
              "\n",
              "        if (window._pyforest_update_imports_cell) { window._pyforest_update_imports_cell('import keras\\nimport numpy as np\\nimport pandas as pd\\nimport matplotlib.pyplot as plt'); }\n",
              "    "
            ],
            "text/plain": [
              "<IPython.core.display.Javascript object>"
            ]
          },
          "metadata": {
            "tags": []
          }
        },
        {
          "output_type": "display_data",
          "data": {
            "application/javascript": [
              "\n",
              "        if (window._pyforest_update_imports_cell) { window._pyforest_update_imports_cell('import keras\\nimport numpy as np\\nimport pandas as pd\\nimport matplotlib.pyplot as plt'); }\n",
              "    "
            ],
            "text/plain": [
              "<IPython.core.display.Javascript object>"
            ]
          },
          "metadata": {
            "tags": []
          }
        },
        {
          "output_type": "display_data",
          "data": {
            "application/javascript": [
              "\n",
              "        if (window._pyforest_update_imports_cell) { window._pyforest_update_imports_cell('import keras\\nimport numpy as np\\nimport pandas as pd\\nimport matplotlib.pyplot as plt'); }\n",
              "    "
            ],
            "text/plain": [
              "<IPython.core.display.Javascript object>"
            ]
          },
          "metadata": {
            "tags": []
          }
        },
        {
          "output_type": "display_data",
          "data": {
            "application/javascript": [
              "\n",
              "        if (window._pyforest_update_imports_cell) { window._pyforest_update_imports_cell('import keras\\nimport numpy as np\\nimport pandas as pd\\nimport matplotlib.pyplot as plt'); }\n",
              "    "
            ],
            "text/plain": [
              "<IPython.core.display.Javascript object>"
            ]
          },
          "metadata": {
            "tags": []
          }
        },
        {
          "output_type": "display_data",
          "data": {
            "image/png": "[encoded data removed]",
            "text/plain": [
              "<Figure size 576x396 with 1 Axes>"
            ]
          },
          "metadata": {
            "tags": []
          }
        },
        {
          "output_type": "stream",
          "text": [
            "Epoch 71/100\n",
            "308/308 [==============================] - 53s 171ms/step - loss: 0.0045 - mean_absolute_error: 0.0495 - val_loss: 0.0031 - val_mean_absolute_error: 0.0440\n",
            "Epoch 72/100\n",
            "281/308 [==========================>...] - ETA: 4s - loss: 0.0045 - mean_absolute_error: 0.0492"
          ],
          "name": "stdout"
        }
      ]
    },
    {
      "cell_type": "code",
      "metadata": {
        "id": "Pad46DGVBowW",
        "colab_type": "code",
        "outputId": "6ba2717f-2b63-452c-91bf-0c76bccadb07",
        "colab": {
          "base_uri": "https://localhost:8080/",
          "height": 286
        }
      },
      "source": [
        "plt.plot(history.history[\"mean_absolute_error\"], label = \"mae\")\n",
        "plt.plot(history.history[\"mean_squared_error\"], label = \"mse\")\n",
        "plt.plot(history.history[\"val_mean_absolute_error\"], label = \"val_mae\")\n",
        "plt.plot(history.history[\"val_mean_squared_error\"], label = \"val_mse\")\n",
        "plt.ylim((0,1))\n",
        "plt.legend()\n",
        "plt.plot()"
      ],
      "execution_count": 0,
      "outputs": [
        {
          "output_type": "display_data",
          "data": {
            "application/javascript": [
              "\n",
              "        if (window._pyforest_update_imports_cell) { window._pyforest_update_imports_cell('import pandas as pd\\nimport seaborn as sns\\nimport spacy\\nimport matplotlib.pyplot as plt\\nfrom sklearn import svm\\nimport altair as alt\\nimport keras\\nimport bokeh\\nimport statistics\\nimport sklearn\\nfrom sklearn.model_selection import train_test_split\\nimport sys'); }\n",
              "    "
            ],
            "text/plain": [
              "<IPython.core.display.Javascript object>"
            ]
          },
          "metadata": {
            "tags": []
          }
        },
        {
          "output_type": "display_data",
          "data": {
            "application/javascript": [
              "\n",
              "        if (window._pyforest_update_imports_cell) { window._pyforest_update_imports_cell('import pandas as pd\\nimport seaborn as sns\\nimport spacy\\nimport matplotlib.pyplot as plt\\nfrom sklearn import svm\\nimport altair as alt\\nimport keras\\nimport bokeh\\nimport statistics\\nimport sklearn\\nfrom sklearn.model_selection import train_test_split\\nimport sys'); }\n",
              "    "
            ],
            "text/plain": [
              "<IPython.core.display.Javascript object>"
            ]
          },
          "metadata": {
            "tags": []
          }
        },
        {
          "output_type": "display_data",
          "data": {
            "application/javascript": [
              "\n",
              "        if (window._pyforest_update_imports_cell) { window._pyforest_update_imports_cell('import pandas as pd\\nimport seaborn as sns\\nimport spacy\\nimport matplotlib.pyplot as plt\\nfrom sklearn import svm\\nimport altair as alt\\nimport keras\\nimport bokeh\\nimport statistics\\nimport sklearn\\nfrom sklearn.model_selection import train_test_split\\nimport sys'); }\n",
              "    "
            ],
            "text/plain": [
              "<IPython.core.display.Javascript object>"
            ]
          },
          "metadata": {
            "tags": []
          }
        },
        {
          "output_type": "display_data",
          "data": {
            "application/javascript": [
              "\n",
              "        if (window._pyforest_update_imports_cell) { window._pyforest_update_imports_cell('import pandas as pd\\nimport seaborn as sns\\nimport spacy\\nimport matplotlib.pyplot as plt\\nfrom sklearn import svm\\nimport altair as alt\\nimport keras\\nimport bokeh\\nimport statistics\\nimport sklearn\\nfrom sklearn.model_selection import train_test_split\\nimport sys'); }\n",
              "    "
            ],
            "text/plain": [
              "<IPython.core.display.Javascript object>"
            ]
          },
          "metadata": {
            "tags": []
          }
        },
        {
          "output_type": "display_data",
          "data": {
            "application/javascript": [
              "\n",
              "        if (window._pyforest_update_imports_cell) { window._pyforest_update_imports_cell('import pandas as pd\\nimport seaborn as sns\\nimport spacy\\nimport matplotlib.pyplot as plt\\nfrom sklearn import svm\\nimport altair as alt\\nimport keras\\nimport bokeh\\nimport statistics\\nimport sklearn\\nfrom sklearn.model_selection import train_test_split\\nimport sys'); }\n",
              "    "
            ],
            "text/plain": [
              "<IPython.core.display.Javascript object>"
            ]
          },
          "metadata": {
            "tags": []
          }
        },
        {
          "output_type": "display_data",
          "data": {
            "application/javascript": [
              "\n",
              "        if (window._pyforest_update_imports_cell) { window._pyforest_update_imports_cell('import pandas as pd\\nimport seaborn as sns\\nimport spacy\\nimport matplotlib.pyplot as plt\\nfrom sklearn import svm\\nimport altair as alt\\nimport keras\\nimport bokeh\\nimport statistics\\nimport sklearn\\nfrom sklearn.model_selection import train_test_split\\nimport sys'); }\n",
              "    "
            ],
            "text/plain": [
              "<IPython.core.display.Javascript object>"
            ]
          },
          "metadata": {
            "tags": []
          }
        },
        {
          "output_type": "display_data",
          "data": {
            "application/javascript": [
              "\n",
              "        if (window._pyforest_update_imports_cell) { window._pyforest_update_imports_cell('import pandas as pd\\nimport seaborn as sns\\nimport spacy\\nimport matplotlib.pyplot as plt\\nfrom sklearn import svm\\nimport altair as alt\\nimport keras\\nimport bokeh\\nimport statistics\\nimport sklearn\\nfrom sklearn.model_selection import train_test_split\\nimport sys'); }\n",
              "    "
            ],
            "text/plain": [
              "<IPython.core.display.Javascript object>"
            ]
          },
          "metadata": {
            "tags": []
          }
        },
        {
          "output_type": "execute_result",
          "data": {
            "text/plain": [
              "[]"
            ]
          },
          "metadata": {
            "tags": []
          },
          "execution_count": 104
        },
        {
          "output_type": "display_data",
          "data": {
            "image/png": "[encoded data removed]",
            "text/plain": [
              "<Figure size 432x288 with 1 Axes>"
            ]
          },
          "metadata": {
            "tags": []
          }
        }
      ]
    },
    {
      "cell_type": "code",
      "metadata": {
        "id": "GNhEi38d89Qx",
        "colab_type": "code",
        "colab": {}
      },
      "source": [
        "# make a one step prediction out of sample\n",
        "x_input = array([9, 10]).reshape((1, n_input, n_features))\n",
        "yhat = model.predict(x_input, verbose=0)\n",
        "print(yhat)"
      ],
      "execution_count": 0,
      "outputs": []
    },
    {
      "cell_type": "code",
      "metadata": {
        "id": "9ALRSDjj_VnU",
        "colab_type": "code",
        "outputId": "3308e8cf-ad8b-48b6-c5cf-b851e121b18b",
        "colab": {
          "base_uri": "https://localhost:8080/",
          "height": 282
        }
      },
      "source": [
        "plt.plot(test_series[1:])\n",
        "plt.plot(model.predict_generator(test_generator)[:-1])"
      ],
      "execution_count": 0,
      "outputs": [
        {
          "output_type": "display_data",
          "data": {
            "application/javascript": [
              "\n",
              "        if (window._pyforest_update_imports_cell) { window._pyforest_update_imports_cell('import pandas as pd\\nimport seaborn as sns\\nimport spacy\\nimport matplotlib.pyplot as plt\\nfrom sklearn import svm\\nimport altair as alt\\nimport keras\\nimport bokeh\\nimport statistics\\nimport sklearn\\nfrom sklearn.model_selection import train_test_split\\nimport sys'); }\n",
              "    "
            ],
            "text/plain": [
              "<IPython.core.display.Javascript object>"
            ]
          },
          "metadata": {
            "tags": []
          }
        },
        {
          "output_type": "display_data",
          "data": {
            "application/javascript": [
              "\n",
              "        if (window._pyforest_update_imports_cell) { window._pyforest_update_imports_cell('import pandas as pd\\nimport seaborn as sns\\nimport spacy\\nimport matplotlib.pyplot as plt\\nfrom sklearn import svm\\nimport altair as alt\\nimport keras\\nimport bokeh\\nimport statistics\\nimport sklearn\\nfrom sklearn.model_selection import train_test_split\\nimport sys'); }\n",
              "    "
            ],
            "text/plain": [
              "<IPython.core.display.Javascript object>"
            ]
          },
          "metadata": {
            "tags": []
          }
        },
        {
          "output_type": "execute_result",
          "data": {
            "text/plain": [
              "[<matplotlib.lines.Line2D at 0x7f97f785aef0>]"
            ]
          },
          "metadata": {
            "tags": []
          },
          "execution_count": 31
        },
        {
          "output_type": "display_data",
          "data": {
            "image/png": "[encoded data removed]",
            "text/plain": [
              "<Figure size 432x288 with 1 Axes>"
            ]
          },
          "metadata": {
            "tags": []
          }
        }
      ]
    },
    {
      "cell_type": "code",
      "metadata": {
        "id": "Dh8IRzS1_8pc",
        "colab_type": "code",
        "outputId": "47afa134-8ba1-4f53-ca29-0634839bc53b",
        "colab": {
          "base_uri": "https://localhost:8080/",
          "height": 573
        }
      },
      "source": [
        "for x, y in test_generator:\n",
        "  print(x)\n",
        "  print(\"#\")\n",
        "  print(y)\n",
        "  break"
      ],
      "execution_count": 0,
      "outputs": [
        {
          "output_type": "stream",
          "text": [
            "[[[-2.21666001]\n",
            "  [-2.1446829 ]]\n",
            "\n",
            " [[-2.1446829 ]\n",
            "  [-1.85677448]]\n",
            "\n",
            " [[-1.85677448]\n",
            "  [-1.35293474]]\n",
            "\n",
            " [[-1.35293474]\n",
            "  [-0.77711789]]\n",
            "\n",
            " [[-0.77711789]\n",
            "  [-0.27327815]]\n",
            "\n",
            " [[-0.27327815]\n",
            "  [ 0.15858448]]\n",
            "\n",
            " [[ 0.15858448]\n",
            "  [ 0.41050435]]\n",
            "\n",
            " [[ 0.41050435]\n",
            "  [ 0.48248146]]]\n",
            "#\n",
            "[[-1.85677448]\n",
            " [-1.35293474]\n",
            " [-0.77711789]\n",
            " [-0.27327815]\n",
            " [ 0.15858448]\n",
            " [ 0.41050435]\n",
            " [ 0.48248146]\n",
            " [ 0.3745158 ]]\n"
          ],
          "name": "stdout"
        }
      ]
    },
    {
      "cell_type": "code",
      "metadata": {
        "id": "i3vS0-z69-oq",
        "colab_type": "code",
        "outputId": "71c1104e-7a91-474a-ad96-e1970a45b155",
        "colab": {
          "base_uri": "https://localhost:8080/",
          "height": 34
        }
      },
      "source": [
        "model.evaluate_generator(test_generator)"
      ],
      "execution_count": 0,
      "outputs": [
        {
          "output_type": "execute_result",
          "data": {
            "text/plain": [
              "[0.022409923222600197, 0.12407879561794047, 0.022409923222600197]"
            ]
          },
          "metadata": {
            "tags": []
          },
          "execution_count": 24
        }
      ]
    },
    {
      "cell_type": "code",
      "metadata": {
        "id": "49Yndrey-Fcw",
        "colab_type": "code",
        "colab": {}
      },
      "source": [
        ""
      ],
      "execution_count": 0,
      "outputs": []
    }
  ]
}