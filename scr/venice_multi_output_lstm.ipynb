{
 "cells": [
  {
   "cell_type": "code",
   "execution_count": 44,
   "metadata": {},
   "outputs": [
    {
     "name": "stdout",
     "output_type": "stream",
     "text": [
      "Thu Jan 23 15:50:17 2020       \r\n",
      "+-----------------------------------------------------------------------------+\r\n",
      "| NVIDIA-SMI 440.33.01    Driver Version: 440.33.01    CUDA Version: 10.2     |\r\n",
      "|-------------------------------+----------------------+----------------------+\r\n",
      "| GPU  Name        Persistence-M| Bus-Id        Disp.A | Volatile Uncorr. ECC |\r\n",
      "| Fan  Temp  Perf  Pwr:Usage/Cap|         Memory-Usage | GPU-Util  Compute M. |\r\n",
      "|===============================+======================+======================|\r\n",
      "|   0  Tesla K20Xm         On   | 00000000:08:00.0 Off |                    0 |\r\n",
      "| N/A   46C    P0    56W / 235W |   5489MiB /  5700MiB |      0%      Default |\r\n",
      "+-------------------------------+----------------------+----------------------+\r\n",
      "|   1  Tesla K20Xm         On   | 00000000:84:00.0 Off |                    0 |\r\n",
      "| N/A   52C    P0    56W / 235W |   5489MiB /  5700MiB |      0%      Default |\r\n",
      "+-------------------------------+----------------------+----------------------+\r\n",
      "                                                                               \r\n",
      "+-----------------------------------------------------------------------------+\r\n",
      "| Processes:                                                       GPU Memory |\r\n",
      "|  GPU       PID   Type   Process name                             Usage      |\r\n",
      "|=============================================================================|\r\n",
      "+-----------------------------------------------------------------------------+\r\n"
     ]
    }
   ],
   "source": [
    "!nvidia-smi"
   ]
  },
  {
   "cell_type": "code",
   "execution_count": 45,
   "metadata": {
    "colab": {
     "base_uri": "https://localhost:8080/",
     "height": 173
    },
    "colab_type": "code",
    "id": "14JMWnZb8Ead",
    "outputId": "31cd36c0-bc29-4c73-e0bc-0af9cad920dc"
   },
   "outputs": [
    {
     "data": {
      "text/plain": [
       "(78888, 24)"
      ]
     },
     "execution_count": 45,
     "metadata": {},
     "output_type": "execute_result"
    }
   ],
   "source": [
    "#!pip install pyforest\n",
    "#from pyforest import *\n",
    "import pandas as pd\n",
    "import numpy as np\n",
    "from matplotlib import pyplot as plt\n",
    "import keras\n",
    "\n",
    "\n",
    "df = pd.read_csv(\"../data/df_final_processed.csv\", index_col = 0)\n",
    "df.head()\n",
    "\n",
    "from keras.preprocessing.sequence import TimeseriesGenerator\n",
    "\n",
    "#some zeroes\n",
    "#series = df.level_scaled.values\n",
    "from sklearn.preprocessing import MinMaxScaler\n",
    "\n",
    "sc = MinMaxScaler(feature_range=(0.01, 1))\n",
    "\n",
    "series = sc.fit_transform(df.level.values.reshape(-1, 1))\n",
    "\n",
    "\n",
    "#test_series = series [split_index:]\n",
    "#series = series [:split_index]\n",
    "n_features = 1\n",
    "#series = series.reshape((len(series), n_features))\n",
    "#test_series = test_series.reshape((len(test_series), n_features))\n",
    "\n",
    "series.shape\n",
    "\n",
    "\n",
    "n_steps = 24\n",
    "\n",
    "padded_series = np.expand_dims(np.concatenate([series.flatten(), series.mean()*np.ones(n_steps)]), axis = -1)\n",
    "\n",
    "target_series = np.hstack([np.roll(padded_series, -i)[:series.shape[0]] for i in range(1,n_steps+1)])\n",
    "target_series.shape"
   ]
  },
  {
   "cell_type": "code",
   "execution_count": null,
   "metadata": {},
   "outputs": [],
   "source": []
  },
  {
   "cell_type": "code",
   "execution_count": null,
   "metadata": {},
   "outputs": [],
   "source": [
    "#TODOS:\n",
    "#- add reg\n",
    "#- add gradient clipping\n"
   ]
  },
  {
   "cell_type": "code",
   "execution_count": 26,
   "metadata": {
    "colab": {
     "base_uri": "https://localhost:8080/",
     "height": 173
    },
    "colab_type": "code",
    "id": "14JMWnZb8Ead",
    "outputId": "31cd36c0-bc29-4c73-e0bc-0af9cad920dc"
   },
   "outputs": [],
   "source": [
    "from keras.models import Sequential\n",
    "from keras.layers import LSTM, Dense, CuDNNLSTM, LeakyReLU, Dropout, BatchNormalization\n",
    "from keras.utils import multi_gpu_model\n",
    "from keras import backend as K\n",
    "from keras.optimizers import Adam \n",
    "\n",
    "\n",
    "# define model\n",
    "def make_model(n_input, n_features, \n",
    "               verbose = False, multi = True, use_CuDNNLSTM = True,\n",
    "              loss = \"mse\", metrics = [\"mae\", \"mape\"],\n",
    "              lr = 0.001, n_steps = n_steps):\n",
    "    K.clear_session()\n",
    "    LSTM_layer = LSTM if not use_CuDNNLSTM else CuDNNLSTM\n",
    "    opt = Adam (lr = lr )\n",
    "    \n",
    "    model = Sequential()\n",
    "    \n",
    "    model.add(LSTM_layer(1024, input_shape=(n_input, n_features), return_sequences=True))\n",
    "    model.add(BatchNormalization())\n",
    "    model.add(LeakyReLU())\n",
    "    model.add(Dropout(rate = 0.5))\n",
    "    \n",
    "    model.add(LSTM_layer(512, return_sequences=True))\n",
    "    model.add(BatchNormalization())\n",
    "    model.add(LeakyReLU())\n",
    "    model.add(Dropout( rate = 0.4))\n",
    "    \n",
    "    model.add(LSTM_layer(512, return_sequences = False))\n",
    "    model.add(BatchNormalization())\n",
    "    model.add(LeakyReLU())\n",
    "    model.add(Dropout(rate = 0.3))\n",
    "    \n",
    "    model.add(Dense(256))\n",
    "    model.add(LeakyReLU())\n",
    "    model.add(Dropout(rate = 0.2))\n",
    "    \n",
    "    model.add(Dense(n_steps))\n",
    "    \n",
    "    model.compile(optimizer=opt, loss=loss, metrics = metrics)\n",
    "    if verbose:\n",
    "        model.summary()\n",
    "    if multi:\n",
    "        mmodel = multi_gpu_model(model, 2)\n",
    "        mmodel.compile(optimizer=opt, loss=loss, metrics = metrics)\n",
    "        return mmodel, model\n",
    "    else: \n",
    "        \n",
    "        return None, model"
   ]
  },
  {
   "cell_type": "code",
   "execution_count": 46,
   "metadata": {},
   "outputs": [],
   "source": [
    "# define generator\n",
    "n_input = 1*24*7\n",
    "batch_size = 256\n",
    "split_index = -168-1\n",
    "train_generator = TimeseriesGenerator(series[:split_index], target_series[:split_index], length=n_input, batch_size=batch_size)\n",
    "test_generator = TimeseriesGenerator(series[-n_input + split_index:], target_series[-n_input + split_index:], length=n_input, batch_size=8)\n",
    "ttest_generator = TimeseriesGenerator(series[-n_input + split_index:], target_series[-n_input + split_index:], length=n_input, batch_size=2)"
   ]
  },
  {
   "cell_type": "code",
   "execution_count": 47,
   "metadata": {},
   "outputs": [
    {
     "name": "stdout",
     "output_type": "stream",
     "text": [
      "[[[0.559 ]\n",
      "  [0.5905]\n",
      "  [0.586 ]\n",
      "  [0.5455]\n",
      "  [0.478 ]\n",
      "  [0.4285]\n",
      "  [0.397 ]\n",
      "  [0.4015]\n",
      "  [0.4465]\n",
      "  [0.514 ]\n",
      "  [0.577 ]\n",
      "  [0.6175]\n",
      "  [0.6445]\n",
      "  [0.64  ]\n",
      "  [0.577 ]\n",
      "  [0.4825]\n",
      "  [0.397 ]\n",
      "  [0.3025]\n",
      "  [0.217 ]\n",
      "  [0.181 ]\n",
      "  [0.1855]\n",
      "  [0.2485]\n",
      "  [0.343 ]\n",
      "  [0.433 ]]\n",
      "\n",
      " [[0.5905]\n",
      "  [0.586 ]\n",
      "  [0.5455]\n",
      "  [0.478 ]\n",
      "  [0.4285]\n",
      "  [0.397 ]\n",
      "  [0.4015]\n",
      "  [0.4465]\n",
      "  [0.514 ]\n",
      "  [0.577 ]\n",
      "  [0.6175]\n",
      "  [0.6445]\n",
      "  [0.64  ]\n",
      "  [0.577 ]\n",
      "  [0.4825]\n",
      "  [0.397 ]\n",
      "  [0.3025]\n",
      "  [0.217 ]\n",
      "  [0.181 ]\n",
      "  [0.1855]\n",
      "  [0.2485]\n",
      "  [0.343 ]\n",
      "  [0.433 ]\n",
      "  [0.5005]]] [[0.541  0.55   0.5185 0.442  0.3655 0.3025 0.28   0.298  0.3655 0.442\n",
      "  0.514  0.5545 0.5725 0.55   0.478  0.3835 0.2935 0.2125 0.154  0.127\n",
      "  0.1585 0.2215 0.298  0.37  ]\n",
      " [0.55   0.5185 0.442  0.3655 0.3025 0.28   0.298  0.3655 0.442  0.514\n",
      "  0.5545 0.5725 0.55   0.478  0.3835 0.2935 0.2125 0.154  0.127  0.1585\n",
      "  0.2215 0.298  0.37   0.433 ]]\n",
      "######\n",
      "########\n",
      "[[[0.586 ]\n",
      "  [0.5455]\n",
      "  [0.478 ]\n",
      "  [0.4285]\n",
      "  [0.397 ]\n",
      "  [0.4015]\n",
      "  [0.4465]\n",
      "  [0.514 ]\n",
      "  [0.577 ]\n",
      "  [0.6175]\n",
      "  [0.6445]\n",
      "  [0.64  ]\n",
      "  [0.577 ]\n",
      "  [0.4825]\n",
      "  [0.397 ]\n",
      "  [0.3025]\n",
      "  [0.217 ]\n",
      "  [0.181 ]\n",
      "  [0.1855]\n",
      "  [0.2485]\n",
      "  [0.343 ]\n",
      "  [0.433 ]\n",
      "  [0.5005]\n",
      "  [0.541 ]]\n",
      "\n",
      " [[0.5455]\n",
      "  [0.478 ]\n",
      "  [0.4285]\n",
      "  [0.397 ]\n",
      "  [0.4015]\n",
      "  [0.4465]\n",
      "  [0.514 ]\n",
      "  [0.577 ]\n",
      "  [0.6175]\n",
      "  [0.6445]\n",
      "  [0.64  ]\n",
      "  [0.577 ]\n",
      "  [0.4825]\n",
      "  [0.397 ]\n",
      "  [0.3025]\n",
      "  [0.217 ]\n",
      "  [0.181 ]\n",
      "  [0.1855]\n",
      "  [0.2485]\n",
      "  [0.343 ]\n",
      "  [0.433 ]\n",
      "  [0.5005]\n",
      "  [0.541 ]\n",
      "  [0.55  ]]] [[0.5185 0.442  0.3655 0.3025 0.28   0.298  0.3655 0.442  0.514  0.5545\n",
      "  0.5725 0.55   0.478  0.3835 0.2935 0.2125 0.154  0.127  0.1585 0.2215\n",
      "  0.298  0.37   0.433  0.469 ]\n",
      " [0.442  0.3655 0.3025 0.28   0.298  0.3655 0.442  0.514  0.5545 0.5725\n",
      "  0.55   0.478  0.3835 0.2935 0.2125 0.154  0.127  0.1585 0.2215 0.298\n",
      "  0.37   0.433  0.469  0.4735]]\n",
      "######\n",
      "########\n",
      "[[[0.478 ]\n",
      "  [0.4285]\n",
      "  [0.397 ]\n",
      "  [0.4015]\n",
      "  [0.4465]\n",
      "  [0.514 ]\n",
      "  [0.577 ]\n",
      "  [0.6175]\n",
      "  [0.6445]\n",
      "  [0.64  ]\n",
      "  [0.577 ]\n",
      "  [0.4825]\n",
      "  [0.397 ]\n",
      "  [0.3025]\n",
      "  [0.217 ]\n",
      "  [0.181 ]\n",
      "  [0.1855]\n",
      "  [0.2485]\n",
      "  [0.343 ]\n",
      "  [0.433 ]\n",
      "  [0.5005]\n",
      "  [0.541 ]\n",
      "  [0.55  ]\n",
      "  [0.5185]]\n",
      "\n",
      " [[0.4285]\n",
      "  [0.397 ]\n",
      "  [0.4015]\n",
      "  [0.4465]\n",
      "  [0.514 ]\n",
      "  [0.577 ]\n",
      "  [0.6175]\n",
      "  [0.6445]\n",
      "  [0.64  ]\n",
      "  [0.577 ]\n",
      "  [0.4825]\n",
      "  [0.397 ]\n",
      "  [0.3025]\n",
      "  [0.217 ]\n",
      "  [0.181 ]\n",
      "  [0.1855]\n",
      "  [0.2485]\n",
      "  [0.343 ]\n",
      "  [0.433 ]\n",
      "  [0.5005]\n",
      "  [0.541 ]\n",
      "  [0.55  ]\n",
      "  [0.5185]\n",
      "  [0.442 ]]] [[0.3655 0.3025 0.28   0.298  0.3655 0.442  0.514  0.5545 0.5725 0.55\n",
      "  0.478  0.3835 0.2935 0.2125 0.154  0.127  0.1585 0.2215 0.298  0.37\n",
      "  0.433  0.469  0.4735 0.442 ]\n",
      " [0.3025 0.28   0.298  0.3655 0.442  0.514  0.5545 0.5725 0.55   0.478\n",
      "  0.3835 0.2935 0.2125 0.154  0.127  0.1585 0.2215 0.298  0.37   0.433\n",
      "  0.469  0.4735 0.442  0.3925]]\n",
      "######\n",
      "########\n"
     ]
    }
   ],
   "source": [
    "for it, (train, test) in enumerate(ttest_generator):\n",
    "    print(train, test)\n",
    "    print(\"######\\n########\")\n",
    "    if it == 2:\n",
    "        break"
   ]
  },
  {
   "cell_type": "code",
   "execution_count": 124,
   "metadata": {},
   "outputs": [
    {
     "data": {
      "text/plain": [
       "True"
      ]
     },
     "execution_count": 124,
     "metadata": {},
     "output_type": "execute_result"
    }
   ],
   "source": [
    "import wandb\n",
    "wandb.login()\n",
    "\n",
    "\n",
    "from wandb.keras import WandbCallback as wb\n",
    "\n",
    "wandb.init(project = \"venice_is_drowing\", name = \"lstm_multi_output_test_24h\")\n",
    "cfg = wandb.config\n",
    "n_input = 1*24\n",
    "batch_size = 512\n",
    "cfg.gen_batch_size = batch_size\n",
    "cfg.n_features = n_features\n",
    "cfg.n_input = n_input\n",
    "cfg.epochs = 150"
   ]
  },
  {
   "cell_type": "code",
   "execution_count": 157,
   "metadata": {},
   "outputs": [],
   "source": [
    "# define generator\n",
    "split_index = -168-1\n",
    "train_generator = TimeseriesGenerator(series[:split_index], target_series[:split_index], length=n_input, batch_size=batch_size)\n",
    "train_list = []\n",
    "test_list = []\n",
    "for train,test in train_generator:\n",
    "    train_list.append(train)\n",
    "    test_list.append(test)\n",
    "train_input = np.concatenate(train_list, axis = 0)\n",
    "train_targets = np.concatenate(test_list, axis = 0)\n",
    "\n",
    "ttest_generator = TimeseriesGenerator(series[-n_input + split_index:], target_series[-n_input + split_index:], length=n_input, batch_size=len(target_series[-n_input + split_index:]), shuffle=False) #a whole batch size for faster splitting after the padding zone\n",
    "\n",
    "train_test, test_test = ttest_generator[0]\n",
    "\n",
    "train_test.shape, test_test.shape\n",
    "\n",
    "val_train, val_test = train_test[:-20],test_test[:-20] #@-20 index starts the paddings due to h24 preds"
   ]
  },
  {
   "cell_type": "code",
   "execution_count": 159,
   "metadata": {
    "scrolled": true
   },
   "outputs": [
    {
     "name": "stdout",
     "output_type": "stream",
     "text": [
      "_________________________________________________________________\n",
      "Layer (type)                 Output Shape              Param #   \n",
      "=================================================================\n",
      "cu_dnnlstm_1 (CuDNNLSTM)     (None, 24, 1024)          4206592   \n",
      "_________________________________________________________________\n",
      "batch_normalization_1 (Batch (None, 24, 1024)          4096      \n",
      "_________________________________________________________________\n",
      "leaky_re_lu_1 (LeakyReLU)    (None, 24, 1024)          0         \n",
      "_________________________________________________________________\n",
      "dropout_1 (Dropout)          (None, 24, 1024)          0         \n",
      "_________________________________________________________________\n",
      "cu_dnnlstm_2 (CuDNNLSTM)     (None, 24, 512)           3149824   \n",
      "_________________________________________________________________\n",
      "batch_normalization_2 (Batch (None, 24, 512)           2048      \n",
      "_________________________________________________________________\n",
      "leaky_re_lu_2 (LeakyReLU)    (None, 24, 512)           0         \n",
      "_________________________________________________________________\n",
      "dropout_2 (Dropout)          (None, 24, 512)           0         \n",
      "_________________________________________________________________\n",
      "cu_dnnlstm_3 (CuDNNLSTM)     (None, 512)               2101248   \n",
      "_________________________________________________________________\n",
      "batch_normalization_3 (Batch (None, 512)               2048      \n",
      "_________________________________________________________________\n",
      "leaky_re_lu_3 (LeakyReLU)    (None, 512)               0         \n",
      "_________________________________________________________________\n",
      "dropout_3 (Dropout)          (None, 512)               0         \n",
      "_________________________________________________________________\n",
      "dense_1 (Dense)              (None, 256)               131328    \n",
      "_________________________________________________________________\n",
      "leaky_re_lu_4 (LeakyReLU)    (None, 256)               0         \n",
      "_________________________________________________________________\n",
      "dropout_4 (Dropout)          (None, 256)               0         \n",
      "_________________________________________________________________\n",
      "dense_2 (Dense)              (None, 24)                6168      \n",
      "=================================================================\n",
      "Total params: 9,603,352\n",
      "Trainable params: 9,599,256\n",
      "Non-trainable params: 4,096\n",
      "_________________________________________________________________\n"
     ]
    }
   ],
   "source": [
    "mmodel, model = make_model(n_input, n_features,  n_steps = 24, lr = 0.001, \n",
    "                           multi = True, use_CuDNNLSTM = True, verbose = True,\n",
    "                           loss = \"mse\", metrics = [\"mae\", \"mape\"])"
   ]
  },
  {
   "cell_type": "code",
   "execution_count": 160,
   "metadata": {
    "scrolled": true
   },
   "outputs": [
    {
     "data": {
      "image/png": "[encoded data removed]",
      "text/plain": [
       "<Figure size 1440x720 with 2 Axes>"
      ]
     },
     "metadata": {},
     "output_type": "display_data"
    },
    {
     "name": "stdout",
     "output_type": "stream",
     "text": [
      "Epoch 81/150\n",
      "78695/78695 [==============================] - 39s 496us/step - loss: 0.0017 - mean_absolute_error: 0.0306 - mean_absolute_percentage_error: 7.3551 - val_loss: 0.0017 - val_mean_absolute_error: 0.0327 - val_mean_absolute_percentage_error: 9.3395\n",
      "Epoch 82/150\n",
      "78695/78695 [==============================] - 40s 507us/step - loss: 0.0017 - mean_absolute_error: 0.0305 - mean_absolute_percentage_error: 7.3417 - val_loss: 0.0016 - val_mean_absolute_error: 0.0307 - val_mean_absolute_percentage_error: 8.9613\n",
      "Epoch 83/150\n",
      "78695/78695 [==============================] - 40s 511us/step - loss: 0.0017 - mean_absolute_error: 0.0306 - mean_absolute_percentage_error: 7.3496 - val_loss: 0.0017 - val_mean_absolute_error: 0.0324 - val_mean_absolute_percentage_error: 9.7004\n",
      "Epoch 84/150\n",
      "78695/78695 [==============================] - 41s 520us/step - loss: 0.0017 - mean_absolute_error: 0.0305 - mean_absolute_percentage_error: 7.3387 - val_loss: 0.0019 - val_mean_absolute_error: 0.0349 - val_mean_absolute_percentage_error: 10.1473\n",
      "Epoch 85/150\n",
      "78695/78695 [==============================] - 41s 518us/step - loss: 0.0017 - mean_absolute_error: 0.0307 - mean_absolute_percentage_error: 7.3897 - val_loss: 0.0014 - val_mean_absolute_error: 0.0301 - val_mean_absolute_percentage_error: 8.7272\n",
      "Epoch 86/150\n",
      "78695/78695 [==============================] - 39s 490us/step - loss: 0.0017 - mean_absolute_error: 0.0304 - mean_absolute_percentage_error: 7.3205 - val_loss: 0.0015 - val_mean_absolute_error: 0.0302 - val_mean_absolute_percentage_error: 8.7670\n",
      "Epoch 87/150\n",
      "78695/78695 [==============================] - 38s 482us/step - loss: 0.0017 - mean_absolute_error: 0.0306 - mean_absolute_percentage_error: 7.3517 - val_loss: 0.0026 - val_mean_absolute_error: 0.0431 - val_mean_absolute_percentage_error: 12.9927\n",
      "Restoring model weights from the end of the best epoch\n",
      "Epoch 00087: early stopping\n"
     ]
    }
   ],
   "source": [
    "from keras.callbacks import EarlyStopping\n",
    "from myutils import TrainingPlot\n",
    "\n",
    "plot_losses = TrainingPlot()\n",
    "es = EarlyStopping(monitor = \"val_loss\", patience = 50, restore_best_weights = True, verbose = 1)\n",
    "# fit model\n",
    "history = mmodel.fit(train_input, train_targets,\n",
    "    epochs=cfg.epochs,\n",
    "    batch_size = batch_size,\n",
    "    \n",
    "    verbose=1, \n",
    "    \n",
    "    #validation_data=ttest_generator, \n",
    "    #validation_steps = 6,\n",
    "    validation_data = (val_train, val_test),\n",
    "    \n",
    "    callbacks=[plot_losses, \n",
    "              es, \n",
    "              wb(log_gradients=False, log_weights=False)\n",
    "              ]\n",
    ")"
   ]
  },
  {
   "cell_type": "code",
   "execution_count": 161,
   "metadata": {},
   "outputs": [
    {
     "name": "stdout",
     "output_type": "stream",
     "text": [
      "149/149 [==============================] - 1s 4ms/step\n"
     ]
    },
    {
     "data": {
      "text/plain": [
       "[0.001137318982642719, 0.026385619386330546, 7.719998007652744]"
      ]
     },
     "execution_count": 161,
     "metadata": {},
     "output_type": "execute_result"
    }
   ],
   "source": [
    "model.evaluate(val_train, val_test)"
   ]
  },
  {
   "cell_type": "code",
   "execution_count": 142,
   "metadata": {
    "scrolled": false
   },
   "outputs": [
    {
     "name": "stdout",
     "output_type": "stream",
     "text": [
      "Epoch 1/150\n",
      "10/10 [==============================] - 5s 491ms/step - loss: 0.9924 - mean_absolute_error: 0.7848 - mean_absolute_percentage_error: 183.1849 - val_loss: 2.6954 - val_mean_absolute_error: 1.3259 - val_mean_absolute_percentage_error: 393.3767\n",
      "Epoch 2/150\n",
      "10/10 [==============================] - 1s 117ms/step - loss: 0.5325 - mean_absolute_error: 0.5742 - mean_absolute_percentage_error: 138.0820 - val_loss: 2.3434 - val_mean_absolute_error: 1.1926 - val_mean_absolute_percentage_error: 353.7223\n",
      "Epoch 3/150\n",
      "10/10 [==============================] - 1s 117ms/step - loss: 0.2812 - mean_absolute_error: 0.4171 - mean_absolute_percentage_error: 112.8265 - val_loss: 1.2455 - val_mean_absolute_error: 0.8269 - val_mean_absolute_percentage_error: 246.1078\n",
      "Epoch 4/150\n",
      "10/10 [==============================] - 1s 117ms/step - loss: 0.1910 - mean_absolute_error: 0.3438 - mean_absolute_percentage_error: 81.5971 - val_loss: 0.8951 - val_mean_absolute_error: 0.7394 - val_mean_absolute_percentage_error: 215.8585\n",
      "Epoch 5/150\n",
      "10/10 [==============================] - 1s 117ms/step - loss: 0.1375 - mean_absolute_error: 0.2910 - mean_absolute_percentage_error: 69.5211 - val_loss: 1.2501 - val_mean_absolute_error: 0.8795 - val_mean_absolute_percentage_error: 263.3829\n",
      "Epoch 6/150\n",
      "10/10 [==============================] - 1s 117ms/step - loss: 0.1223 - mean_absolute_error: 0.2757 - mean_absolute_percentage_error: 68.8849 - val_loss: 0.2584 - val_mean_absolute_error: 0.3776 - val_mean_absolute_percentage_error: 113.3475\n",
      "Epoch 7/150\n"
     ]
    },
    {
     "ename": "KeyboardInterrupt",
     "evalue": "",
     "output_type": "error",
     "traceback": [
      "\u001b[0;31m---------------------------------------------------------------------------\u001b[0m",
      "\u001b[0;31mKeyboardInterrupt\u001b[0m                         Traceback (most recent call last)",
      "\u001b[0;32m<ipython-input-142-74615cae6f6c>\u001b[0m in \u001b[0;36m<module>\u001b[0;34m()\u001b[0m\n\u001b[1;32m     15\u001b[0m     \u001b[0mvalidation_data\u001b[0m \u001b[0;34m=\u001b[0m \u001b[0;34m(\u001b[0m\u001b[0mval_train\u001b[0m\u001b[0;34m,\u001b[0m \u001b[0mval_test\u001b[0m\u001b[0;34m)\u001b[0m\u001b[0;34m,\u001b[0m\u001b[0;34m\u001b[0m\u001b[0m\n\u001b[1;32m     16\u001b[0m \u001b[0;34m\u001b[0m\u001b[0m\n\u001b[0;32m---> 17\u001b[0;31m     callbacks=[plot_losses, \n\u001b[0m\u001b[1;32m     18\u001b[0m               \u001b[0;31m# es,\u001b[0m\u001b[0;34m\u001b[0m\u001b[0;34m\u001b[0m\u001b[0m\n\u001b[1;32m     19\u001b[0m               \u001b[0;31m# wb(log_gradients=False, log_weights=False)\u001b[0m\u001b[0;34m\u001b[0m\u001b[0;34m\u001b[0m\u001b[0m\n",
      "\u001b[0;32m~/.local/lib/python3.6/site-packages/keras/legacy/interfaces.py\u001b[0m in \u001b[0;36mwrapper\u001b[0;34m(*args, **kwargs)\u001b[0m\n\u001b[1;32m     89\u001b[0m                 warnings.warn('Update your `' + object_name + '` call to the ' +\n\u001b[1;32m     90\u001b[0m                               'Keras 2 API: ' + signature, stacklevel=2)\n\u001b[0;32m---> 91\u001b[0;31m             \u001b[0;32mreturn\u001b[0m \u001b[0mfunc\u001b[0m\u001b[0;34m(\u001b[0m\u001b[0;34m*\u001b[0m\u001b[0margs\u001b[0m\u001b[0;34m,\u001b[0m \u001b[0;34m**\u001b[0m\u001b[0mkwargs\u001b[0m\u001b[0;34m)\u001b[0m\u001b[0;34m\u001b[0m\u001b[0m\n\u001b[0m\u001b[1;32m     92\u001b[0m         \u001b[0mwrapper\u001b[0m\u001b[0;34m.\u001b[0m\u001b[0m_original_function\u001b[0m \u001b[0;34m=\u001b[0m \u001b[0mfunc\u001b[0m\u001b[0;34m\u001b[0m\u001b[0m\n\u001b[1;32m     93\u001b[0m         \u001b[0;32mreturn\u001b[0m \u001b[0mwrapper\u001b[0m\u001b[0;34m\u001b[0m\u001b[0m\n",
      "\u001b[0;32m~/.local/lib/python3.6/site-packages/keras/engine/training.py\u001b[0m in \u001b[0;36mfit_generator\u001b[0;34m(self, generator, steps_per_epoch, epochs, verbose, callbacks, validation_data, validation_steps, class_weight, max_queue_size, workers, use_multiprocessing, shuffle, initial_epoch)\u001b[0m\n\u001b[1;32m   1416\u001b[0m             \u001b[0muse_multiprocessing\u001b[0m\u001b[0;34m=\u001b[0m\u001b[0muse_multiprocessing\u001b[0m\u001b[0;34m,\u001b[0m\u001b[0;34m\u001b[0m\u001b[0m\n\u001b[1;32m   1417\u001b[0m             \u001b[0mshuffle\u001b[0m\u001b[0;34m=\u001b[0m\u001b[0mshuffle\u001b[0m\u001b[0;34m,\u001b[0m\u001b[0;34m\u001b[0m\u001b[0m\n\u001b[0;32m-> 1418\u001b[0;31m             initial_epoch=initial_epoch)\n\u001b[0m\u001b[1;32m   1419\u001b[0m \u001b[0;34m\u001b[0m\u001b[0m\n\u001b[1;32m   1420\u001b[0m     \u001b[0;34m@\u001b[0m\u001b[0minterfaces\u001b[0m\u001b[0;34m.\u001b[0m\u001b[0mlegacy_generator_methods_support\u001b[0m\u001b[0;34m\u001b[0m\u001b[0m\n",
      "\u001b[0;32m~/.local/lib/python3.6/site-packages/keras/engine/training_generator.py\u001b[0m in \u001b[0;36mfit_generator\u001b[0;34m(model, generator, steps_per_epoch, epochs, verbose, callbacks, validation_data, validation_steps, class_weight, max_queue_size, workers, use_multiprocessing, shuffle, initial_epoch)\u001b[0m\n\u001b[1;32m    215\u001b[0m                 outs = model.train_on_batch(x, y,\n\u001b[1;32m    216\u001b[0m                                             \u001b[0msample_weight\u001b[0m\u001b[0;34m=\u001b[0m\u001b[0msample_weight\u001b[0m\u001b[0;34m,\u001b[0m\u001b[0;34m\u001b[0m\u001b[0m\n\u001b[0;32m--> 217\u001b[0;31m                                             class_weight=class_weight)\n\u001b[0m\u001b[1;32m    218\u001b[0m \u001b[0;34m\u001b[0m\u001b[0m\n\u001b[1;32m    219\u001b[0m                 \u001b[0mouts\u001b[0m \u001b[0;34m=\u001b[0m \u001b[0mto_list\u001b[0m\u001b[0;34m(\u001b[0m\u001b[0mouts\u001b[0m\u001b[0;34m)\u001b[0m\u001b[0;34m\u001b[0m\u001b[0m\n",
      "\u001b[0;32m~/.local/lib/python3.6/site-packages/keras/engine/training.py\u001b[0m in \u001b[0;36mtrain_on_batch\u001b[0;34m(self, x, y, sample_weight, class_weight)\u001b[0m\n\u001b[1;32m   1215\u001b[0m             \u001b[0mins\u001b[0m \u001b[0;34m=\u001b[0m \u001b[0mx\u001b[0m \u001b[0;34m+\u001b[0m \u001b[0my\u001b[0m \u001b[0;34m+\u001b[0m \u001b[0msample_weights\u001b[0m\u001b[0;34m\u001b[0m\u001b[0m\n\u001b[1;32m   1216\u001b[0m         \u001b[0mself\u001b[0m\u001b[0;34m.\u001b[0m\u001b[0m_make_train_function\u001b[0m\u001b[0;34m(\u001b[0m\u001b[0;34m)\u001b[0m\u001b[0;34m\u001b[0m\u001b[0m\n\u001b[0;32m-> 1217\u001b[0;31m         \u001b[0moutputs\u001b[0m \u001b[0;34m=\u001b[0m \u001b[0mself\u001b[0m\u001b[0;34m.\u001b[0m\u001b[0mtrain_function\u001b[0m\u001b[0;34m(\u001b[0m\u001b[0mins\u001b[0m\u001b[0;34m)\u001b[0m\u001b[0;34m\u001b[0m\u001b[0m\n\u001b[0m\u001b[1;32m   1218\u001b[0m         \u001b[0;32mreturn\u001b[0m \u001b[0munpack_singleton\u001b[0m\u001b[0;34m(\u001b[0m\u001b[0moutputs\u001b[0m\u001b[0;34m)\u001b[0m\u001b[0;34m\u001b[0m\u001b[0m\n\u001b[1;32m   1219\u001b[0m \u001b[0;34m\u001b[0m\u001b[0m\n",
      "\u001b[0;32m~/.local/lib/python3.6/site-packages/keras/backend/tensorflow_backend.py\u001b[0m in \u001b[0;36m__call__\u001b[0;34m(self, inputs)\u001b[0m\n\u001b[1;32m   2713\u001b[0m                 \u001b[0;32mreturn\u001b[0m \u001b[0mself\u001b[0m\u001b[0;34m.\u001b[0m\u001b[0m_legacy_call\u001b[0m\u001b[0;34m(\u001b[0m\u001b[0minputs\u001b[0m\u001b[0;34m)\u001b[0m\u001b[0;34m\u001b[0m\u001b[0m\n\u001b[1;32m   2714\u001b[0m \u001b[0;34m\u001b[0m\u001b[0m\n\u001b[0;32m-> 2715\u001b[0;31m             \u001b[0;32mreturn\u001b[0m \u001b[0mself\u001b[0m\u001b[0;34m.\u001b[0m\u001b[0m_call\u001b[0m\u001b[0;34m(\u001b[0m\u001b[0minputs\u001b[0m\u001b[0;34m)\u001b[0m\u001b[0;34m\u001b[0m\u001b[0m\n\u001b[0m\u001b[1;32m   2716\u001b[0m         \u001b[0;32melse\u001b[0m\u001b[0;34m:\u001b[0m\u001b[0;34m\u001b[0m\u001b[0m\n\u001b[1;32m   2717\u001b[0m             \u001b[0;32mif\u001b[0m \u001b[0mpy_any\u001b[0m\u001b[0;34m(\u001b[0m\u001b[0mis_tensor\u001b[0m\u001b[0;34m(\u001b[0m\u001b[0mx\u001b[0m\u001b[0;34m)\u001b[0m \u001b[0;32mfor\u001b[0m \u001b[0mx\u001b[0m \u001b[0;32min\u001b[0m \u001b[0minputs\u001b[0m\u001b[0;34m)\u001b[0m\u001b[0;34m:\u001b[0m\u001b[0;34m\u001b[0m\u001b[0m\n",
      "\u001b[0;32m~/.local/lib/python3.6/site-packages/keras/backend/tensorflow_backend.py\u001b[0m in \u001b[0;36m_call\u001b[0;34m(self, inputs)\u001b[0m\n\u001b[1;32m   2673\u001b[0m             \u001b[0mfetched\u001b[0m \u001b[0;34m=\u001b[0m \u001b[0mself\u001b[0m\u001b[0;34m.\u001b[0m\u001b[0m_callable_fn\u001b[0m\u001b[0;34m(\u001b[0m\u001b[0;34m*\u001b[0m\u001b[0marray_vals\u001b[0m\u001b[0;34m,\u001b[0m \u001b[0mrun_metadata\u001b[0m\u001b[0;34m=\u001b[0m\u001b[0mself\u001b[0m\u001b[0;34m.\u001b[0m\u001b[0mrun_metadata\u001b[0m\u001b[0;34m)\u001b[0m\u001b[0;34m\u001b[0m\u001b[0m\n\u001b[1;32m   2674\u001b[0m         \u001b[0;32melse\u001b[0m\u001b[0;34m:\u001b[0m\u001b[0;34m\u001b[0m\u001b[0m\n\u001b[0;32m-> 2675\u001b[0;31m             \u001b[0mfetched\u001b[0m \u001b[0;34m=\u001b[0m \u001b[0mself\u001b[0m\u001b[0;34m.\u001b[0m\u001b[0m_callable_fn\u001b[0m\u001b[0;34m(\u001b[0m\u001b[0;34m*\u001b[0m\u001b[0marray_vals\u001b[0m\u001b[0;34m)\u001b[0m\u001b[0;34m\u001b[0m\u001b[0m\n\u001b[0m\u001b[1;32m   2676\u001b[0m         \u001b[0;32mreturn\u001b[0m \u001b[0mfetched\u001b[0m\u001b[0;34m[\u001b[0m\u001b[0;34m:\u001b[0m\u001b[0mlen\u001b[0m\u001b[0;34m(\u001b[0m\u001b[0mself\u001b[0m\u001b[0;34m.\u001b[0m\u001b[0moutputs\u001b[0m\u001b[0;34m)\u001b[0m\u001b[0;34m]\u001b[0m\u001b[0;34m\u001b[0m\u001b[0m\n\u001b[1;32m   2677\u001b[0m \u001b[0;34m\u001b[0m\u001b[0m\n",
      "\u001b[0;32m/opt/intel/intelpython3/lib/python3.6/site-packages/tensorflow/python/client/session.py\u001b[0m in \u001b[0;36m__call__\u001b[0;34m(self, *args, **kwargs)\u001b[0m\n\u001b[1;32m   1397\u001b[0m           ret = tf_session.TF_SessionRunCallable(\n\u001b[1;32m   1398\u001b[0m               \u001b[0mself\u001b[0m\u001b[0;34m.\u001b[0m\u001b[0m_session\u001b[0m\u001b[0;34m.\u001b[0m\u001b[0m_session\u001b[0m\u001b[0;34m,\u001b[0m \u001b[0mself\u001b[0m\u001b[0;34m.\u001b[0m\u001b[0m_handle\u001b[0m\u001b[0;34m,\u001b[0m \u001b[0margs\u001b[0m\u001b[0;34m,\u001b[0m \u001b[0mstatus\u001b[0m\u001b[0;34m,\u001b[0m\u001b[0;34m\u001b[0m\u001b[0m\n\u001b[0;32m-> 1399\u001b[0;31m               run_metadata_ptr)\n\u001b[0m\u001b[1;32m   1400\u001b[0m         \u001b[0;32mif\u001b[0m \u001b[0mrun_metadata\u001b[0m\u001b[0;34m:\u001b[0m\u001b[0;34m\u001b[0m\u001b[0m\n\u001b[1;32m   1401\u001b[0m           \u001b[0mproto_data\u001b[0m \u001b[0;34m=\u001b[0m \u001b[0mtf_session\u001b[0m\u001b[0;34m.\u001b[0m\u001b[0mTF_GetBuffer\u001b[0m\u001b[0;34m(\u001b[0m\u001b[0mrun_metadata_ptr\u001b[0m\u001b[0;34m)\u001b[0m\u001b[0;34m\u001b[0m\u001b[0m\n",
      "\u001b[0;31mKeyboardInterrupt\u001b[0m: "
     ]
    }
   ],
   "source": [
    "from keras.callbacks import EarlyStopping\n",
    "from myutils import TrainingPlot\n",
    "\n",
    "plot_losses = TrainingPlot()\n",
    "es = EarlyStopping(monitor = \"val_loss\", patience = 50, restore_best_weights = True, verbose = 1)\n",
    "# fit model\n",
    "history = mmodel.fit_generator(\n",
    "    train_generator,  \n",
    "    epochs=cfg.epochs,\n",
    "    steps_per_epoch=10,\n",
    "    verbose=1, \n",
    "    \n",
    "    #validation_data=ttest_generator, \n",
    "    #validation_steps = 6,\n",
    "    validation_data = (val_train, val_test),\n",
    "    \n",
    "    callbacks=[plot_losses, \n",
    "              # es, \n",
    "              # wb(log_gradients=False, log_weights=False)\n",
    "              ]\n",
    ")"
   ]
  },
  {
   "cell_type": "code",
   "execution_count": null,
   "metadata": {},
   "outputs": [],
   "source": [
    "#model.save(\"lstm_1_step_ahead_y_10_18.h5\") #more compat along win loading"
   ]
  },
  {
   "cell_type": "code",
   "execution_count": null,
   "metadata": {},
   "outputs": [],
   "source": [
    "init_test_arr = series[-n_input+split_index:split_index]\n",
    "test_features = np.squeeze(init_test_arr, axis = -1).tolist()\n",
    "test_features.append(3)\n",
    "np.atleast_3d(test_features[-n_input:])"
   ]
  },
  {
   "cell_type": "code",
   "execution_count": null,
   "metadata": {},
   "outputs": [],
   "source": [
    "pred = model.predict(np.expand_dims(init_test_arr, axis = 0))\n",
    "pred[0][0]"
   ]
  },
  {
   "cell_type": "code",
   "execution_count": null,
   "metadata": {},
   "outputs": [],
   "source": [
    "def iterate_prediction(input_seq = series[-n_input+split_index:split_index], pred_len = 168):\n",
    "    init_test_arr = np.expand_dims(input_seq, axis = 0)\n",
    "    preds = []\n",
    "    for i in range(pred_len):\n",
    "        test_features = np.squeeze(np.squeeze(init_test_arr, axis = -1), axis = 0).tolist()\n",
    "        pred = model.predict(init_test_arr)[0][0]\n",
    "        preds.append(pred)\n",
    "        test_features.append(pred)\n",
    "        init_test_arr = np.atleast_3d(test_features[-n_input:])\n",
    "\n",
    "    return np.array(preds)\n",
    "\n",
    "preds = iterate_prediction()\n",
    "\n"
   ]
  },
  {
   "cell_type": "code",
   "execution_count": null,
   "metadata": {},
   "outputs": [],
   "source": [
    "real_preds = model.predict_generator(test_generator).flatten()\n",
    "real_data = series[split_index:].flatten()\n",
    "\n",
    "def plot_preds(real_preds, real_data, preds):\n",
    "    plt.plot(real_preds, label = \"real data preds\")\n",
    "    plt.plot(preds, label = \"iterated preds\")\n",
    "    plt.plot(real_data, label = \"real data\")\n",
    "    plt.legend()\n",
    "    plt.show()\n",
    "\n",
    "plot_preds(real_preds, real_data, preds)"
   ]
  },
  {
   "cell_type": "code",
   "execution_count": null,
   "metadata": {},
   "outputs": [],
   "source": [
    "real_data[0:10],preds[0:10]"
   ]
  },
  {
   "cell_type": "code",
   "execution_count": null,
   "metadata": {},
   "outputs": [],
   "source": [
    "def calc_mape(real, pred):\n",
    "    return (100*np.abs(real-pred)/real/real.shape[0]).sum()\n",
    "print(calc_mape(real_data, real_preds)) #mape on real-data preds\n",
    "print(calc_mape(real_data, preds)) #mape on iterated preds\n",
    "print(calc_mape(real_data[0:1], preds[0:1]))"
   ]
  },
  {
   "cell_type": "code",
   "execution_count": null,
   "metadata": {},
   "outputs": [],
   "source": []
  },
  {
   "cell_type": "code",
   "execution_count": null,
   "metadata": {},
   "outputs": [],
   "source": [
    "pred_generator = TimeseriesGenerator(series[-n_input + split_index:], series[-n_input + split_index:], length=n_input, batch_size=1)\n",
    "mmodel.predict_generator(test_generator, steps=1)[0]"
   ]
  },
  {
   "cell_type": "code",
   "execution_count": null,
   "metadata": {},
   "outputs": [],
   "source": [
    "test_series = series[split_index:]\n",
    "test_series[0]"
   ]
  },
  {
   "cell_type": "code",
   "execution_count": null,
   "metadata": {},
   "outputs": [],
   "source": [
    "mape = (test_series[0]-mmodel.predict_generator(test_generator, steps=1)[0])/test_series[0]\n",
    "mape"
   ]
  },
  {
   "cell_type": "code",
   "execution_count": null,
   "metadata": {
    "colab": {
     "base_uri": "https://localhost:8080/",
     "height": 286
    },
    "colab_type": "code",
    "id": "Pad46DGVBowW",
    "outputId": "6ba2717f-2b63-452c-91bf-0c76bccadb07"
   },
   "outputs": [],
   "source": [
    "#plt.plot(history1.history[\"mean_absolute_error\"], label = \"mae\")\n",
    "#plt.plot(history1.history[\"mean_absolute_percentage_error\"], label = \"mape\")\n",
    "#plt.plot(history1.history[\"val_mean_absolute_error\"], label = \"val_mae\")\n",
    "plt.plot(history1.history[\"val_mean_absolute_percentage_error\"], label = \"val_mse\")\n",
    "#plt.ylim((0,1))\n",
    "plt.legend()\n",
    "plt.plot()"
   ]
  },
  {
   "cell_type": "code",
   "execution_count": null,
   "metadata": {
    "colab": {
     "base_uri": "https://localhost:8080/",
     "height": 282
    },
    "colab_type": "code",
    "id": "9ALRSDjj_VnU",
    "outputId": "3308e8cf-ad8b-48b6-c5cf-b851e121b18b"
   },
   "outputs": [],
   "source": [
    "plt.plot(test_series[1:])\n",
    "plt.plot(model.predict_generator(test_generator)[:-1])"
   ]
  },
  {
   "cell_type": "code",
   "execution_count": null,
   "metadata": {
    "colab": {
     "base_uri": "https://localhost:8080/",
     "height": 573
    },
    "colab_type": "code",
    "id": "Dh8IRzS1_8pc",
    "outputId": "47afa134-8ba1-4f53-ca29-0634839bc53b"
   },
   "outputs": [],
   "source": [
    "for x, y in test_generator:\n",
    "  print(x)\n",
    "  print(\"#\")\n",
    "  print(y)\n",
    "  break"
   ]
  },
  {
   "cell_type": "code",
   "execution_count": null,
   "metadata": {
    "colab": {
     "base_uri": "https://localhost:8080/",
     "height": 34
    },
    "colab_type": "code",
    "id": "i3vS0-z69-oq",
    "outputId": "71c1104e-7a91-474a-ad96-e1970a45b155"
   },
   "outputs": [],
   "source": [
    "model.evaluate_generator(test_generator)"
   ]
  },
  {
   "cell_type": "code",
   "execution_count": null,
   "metadata": {
    "colab": {},
    "colab_type": "code",
    "id": "49Yndrey-Fcw"
   },
   "outputs": [],
   "source": []
  }
 ],
 "metadata": {
  "accelerator": "GPU",
  "colab": {
   "collapsed_sections": [],
   "name": "venice_lstm_test.ipynb",
   "provenance": []
  },
  "kernelspec": {
   "display_name": "Python 3",
   "language": "python",
   "name": "python3"
  },
  "language_info": {
   "codemirror_mode": {
    "name": "ipython",
    "version": 3
   },
   "file_extension": ".py",
   "mimetype": "text/x-python",
   "name": "python",
   "nbconvert_exporter": "python",
   "pygments_lexer": "ipython3",
   "version": "3.6.3"
  }
 },
 "nbformat": 4,
 "nbformat_minor": 1
}
