{
 "cells": [
  {
   "cell_type": "markdown",
   "metadata": {
    "colab": {
     "base_uri": "https://localhost:8080/",
     "height": 312
    },
    "colab_type": "code",
    "id": "tLX17sFpCqZ6",
    "outputId": "2c5a0720-c62d-492a-fc33-ccee07fefe66"
   },
   "source": [
    "### !nvidia-smi"
   ]
  },
  {
   "cell_type": "code",
   "execution_count": 145,
   "metadata": {},
   "outputs": [],
   "source": [
    "go = False\n",
    "if go:\n",
    "    \n",
    "    import os\n",
    "    os.environ['TF_CPP_MIN_LOG_LEVEL'] = '2' \n",
    "    import tensorflow as tf\n",
    "    from keras import backend as K\n",
    "\n",
    "    set_gpu=True\n",
    "\n",
    "    if set_gpu:\n",
    "        os.environ[\"CUDA_DEVICE_ORDER\"]=\"PCI_BUS_ID\";  # The GPU id to use, usually either \"0\" or \"1\";\n",
    "        os.environ[\"CUDA_VISIBLE_DEVICES\"]=\"0\";  # Do other imports now...\n",
    "        print(os.environ[\"CUDA_VISIBLE_DEVICES\"])\n",
    "\n",
    "\n",
    "        num_cores = 39\n",
    "\n",
    "        GPU=True\n",
    "        CPU=False\n",
    "\n",
    "        if GPU:\n",
    "            num_GPU = 1\n",
    "            num_CPU = 1\n",
    "        if CPU:\n",
    "            num_CPU = 1\n",
    "            num_GPU = 0\n",
    "\n",
    "        config = tf.ConfigProto(intra_op_parallelism_threads=num_cores,\n",
    "                                inter_op_parallelism_threads=num_cores, \n",
    "                                allow_soft_placement=True,\n",
    "                                device_count = {'CPU' : num_CPU,\n",
    "                                                'GPU' : num_GPU}\n",
    "                               )\n",
    "\n",
    "        session = tf.Session(config=config)\n",
    "        K.set_session(session)\n"
   ]
  },
  {
   "cell_type": "code",
   "execution_count": 146,
   "metadata": {
    "colab": {
     "base_uri": "https://localhost:8080/",
     "height": 208
    },
    "colab_type": "code",
    "id": "VYyvPbEZ7sCY",
    "outputId": "081dc96e-0f2a-4345-b237-9ed7ce7c8b3e"
   },
   "outputs": [],
   "source": [
    "#!wget https://raw.githubusercontent.com/DBertazioli/host/master/datas/df_final_processed.csv"
   ]
  },
  {
   "cell_type": "code",
   "execution_count": 147,
   "metadata": {
    "colab": {
     "base_uri": "https://localhost:8080/",
     "height": 173
    },
    "colab_type": "code",
    "id": "14JMWnZb8Ead",
    "outputId": "31cd36c0-bc29-4c73-e0bc-0af9cad920dc"
   },
   "outputs": [],
   "source": [
    "#!pip install pyforest\n",
    "#from pyforest import *\n",
    "import pandas as pd\n",
    "import numpy as np\n",
    "from matplotlib import pyplot as plt\n",
    "import keras"
   ]
  },
  {
   "cell_type": "code",
   "execution_count": 148,
   "metadata": {},
   "outputs": [
    {
     "data": {
      "text/html": [
       "<div>\n",
       "<style scoped>\n",
       "    .dataframe tbody tr th:only-of-type {\n",
       "        vertical-align: middle;\n",
       "    }\n",
       "\n",
       "    .dataframe tbody tr th {\n",
       "        vertical-align: top;\n",
       "    }\n",
       "\n",
       "    .dataframe thead th {\n",
       "        text-align: right;\n",
       "    }\n",
       "</style>\n",
       "<table border=\"1\" class=\"dataframe\">\n",
       "  <thead>\n",
       "    <tr style=\"text-align: right;\">\n",
       "      <th></th>\n",
       "      <th>V1</th>\n",
       "      <th>V2</th>\n",
       "      <th>V3</th>\n",
       "      <th>V4</th>\n",
       "      <th>V5</th>\n",
       "      <th>V6</th>\n",
       "      <th>V7</th>\n",
       "      <th>V8</th>\n",
       "      <th>V9</th>\n",
       "    </tr>\n",
       "  </thead>\n",
       "  <tbody>\n",
       "    <tr>\n",
       "      <th>1</th>\n",
       "      <td>1</td>\n",
       "      <td>0.192241</td>\n",
       "      <td>0.111166</td>\n",
       "      <td>0.017747</td>\n",
       "      <td>-0.012548</td>\n",
       "      <td>0.033027</td>\n",
       "      <td>-0.010471</td>\n",
       "      <td>0.014676</td>\n",
       "      <td>-0.007925</td>\n",
       "    </tr>\n",
       "    <tr>\n",
       "      <th>2</th>\n",
       "      <td>2</td>\n",
       "      <td>0.097356</td>\n",
       "      <td>0.057627</td>\n",
       "      <td>-0.001360</td>\n",
       "      <td>0.004587</td>\n",
       "      <td>0.072702</td>\n",
       "      <td>0.000261</td>\n",
       "      <td>0.014648</td>\n",
       "      <td>0.005893</td>\n",
       "    </tr>\n",
       "    <tr>\n",
       "      <th>3</th>\n",
       "      <td>3</td>\n",
       "      <td>-0.021915</td>\n",
       "      <td>-0.011354</td>\n",
       "      <td>-0.020139</td>\n",
       "      <td>0.020487</td>\n",
       "      <td>0.107396</td>\n",
       "      <td>0.010978</td>\n",
       "      <td>0.014621</td>\n",
       "      <td>0.019311</td>\n",
       "    </tr>\n",
       "    <tr>\n",
       "      <th>4</th>\n",
       "      <td>4</td>\n",
       "      <td>-0.135697</td>\n",
       "      <td>-0.077292</td>\n",
       "      <td>-0.034058</td>\n",
       "      <td>0.030868</td>\n",
       "      <td>0.134730</td>\n",
       "      <td>0.021047</td>\n",
       "      <td>0.014593</td>\n",
       "      <td>0.031421</td>\n",
       "    </tr>\n",
       "    <tr>\n",
       "      <th>5</th>\n",
       "      <td>5</td>\n",
       "      <td>-0.215488</td>\n",
       "      <td>-0.122519</td>\n",
       "      <td>-0.039756</td>\n",
       "      <td>0.032934</td>\n",
       "      <td>0.152834</td>\n",
       "      <td>0.029876</td>\n",
       "      <td>0.014565</td>\n",
       "      <td>0.041401</td>\n",
       "    </tr>\n",
       "  </tbody>\n",
       "</table>\n",
       "</div>"
      ],
      "text/plain": [
       "   V1        V2        V3        V4        V5        V6        V7        V8  \\\n",
       "1   1  0.192241  0.111166  0.017747 -0.012548  0.033027 -0.010471  0.014676   \n",
       "2   2  0.097356  0.057627 -0.001360  0.004587  0.072702  0.000261  0.014648   \n",
       "3   3 -0.021915 -0.011354 -0.020139  0.020487  0.107396  0.010978  0.014621   \n",
       "4   4 -0.135697 -0.077292 -0.034058  0.030868  0.134730  0.021047  0.014593   \n",
       "5   5 -0.215488 -0.122519 -0.039756  0.032934  0.152834  0.029876  0.014565   \n",
       "\n",
       "         V9  \n",
       "1 -0.007925  \n",
       "2  0.005893  \n",
       "3  0.019311  \n",
       "4  0.031421  \n",
       "5  0.041401  "
      ]
     },
     "execution_count": 148,
     "metadata": {},
     "output_type": "execute_result"
    }
   ],
   "source": [
    "df_harmonics = pd.read_csv(\"../data/output/harmonics.csv\", index_col=0)\n",
    "df_harmonics.head()"
   ]
  },
  {
   "cell_type": "code",
   "execution_count": 149,
   "metadata": {
    "colab": {
     "base_uri": "https://localhost:8080/",
     "height": 173
    },
    "colab_type": "code",
    "id": "14JMWnZb8Ead",
    "outputId": "31cd36c0-bc29-4c73-e0bc-0af9cad920dc"
   },
   "outputs": [
    {
     "data": {
      "text/plain": [
       "(78888, 1)"
      ]
     },
     "execution_count": 149,
     "metadata": {},
     "output_type": "execute_result"
    }
   ],
   "source": [
    "df = pd.read_csv(\"../data/df_final_processed.csv\", index_col = 0)\n",
    "df.head()\n",
    "\n",
    "from keras.preprocessing.sequence import TimeseriesGenerator\n",
    "\n",
    "#some zeroes\n",
    "#series = df.level_scaled.values\n",
    "from sklearn.preprocessing import MinMaxScaler\n",
    "\n",
    "sc = MinMaxScaler(feature_range=(0.01, 1))\n",
    "\n",
    "series = sc.fit_transform(df.level.values.reshape(-1, 1))\n",
    "\n",
    "split_index = -7*24\n",
    "\n",
    "#test_series = series [split_index:]\n",
    "#series = series [:split_index]\n",
    "#series = series.reshape((len(series), n_features))\n",
    "#test_series = test_series.reshape((len(test_series), n_features))\n",
    "\n",
    "series.shape"
   ]
  },
  {
   "cell_type": "code",
   "execution_count": 150,
   "metadata": {},
   "outputs": [],
   "source": [
    "sc_harmonics_list = []\n",
    "harmonics_list = []\n",
    "for col in df_harmonics.columns[1:]:\n",
    "    #print(col)\n",
    "    sc_harm = MinMaxScaler()\n",
    "    harmonics_list.append(sc_harm.fit_transform(df_harmonics[col].values.reshape(-1, 1)))\n",
    "    sc_harmonics_list.append(sc_harm)"
   ]
  },
  {
   "cell_type": "code",
   "execution_count": 151,
   "metadata": {},
   "outputs": [],
   "source": [
    "sc_rain = MinMaxScaler()\n",
    "rain = sc_rain.fit_transform(df.rain.values.reshape(-1, 1))\n",
    "\n",
    "sc_wind = MinMaxScaler()\n",
    "vel_wind = sc_wind.fit_transform(df.vel_wind.values.reshape(-1, 1))\n",
    "\n",
    "sc_dir_wind = MinMaxScaler()\n",
    "dir_wind = sc_dir_wind.fit_transform(df.dir_wind.values.reshape(-1, 1))\n",
    "\n",
    "sc_lunar = MinMaxScaler()\n",
    "lunar = sc_lunar.fit_transform(df.inv_dist.values.reshape(-1, 1))\n"
   ]
  },
  {
   "cell_type": "code",
   "execution_count": 152,
   "metadata": {},
   "outputs": [
    {
     "data": {
      "text/plain": [
       "(12,)"
      ]
     },
     "execution_count": 152,
     "metadata": {},
     "output_type": "execute_result"
    }
   ],
   "source": [
    "harmonics_list.extend([series, rain, vel_wind, dir_wind])\n",
    "\n",
    "len(harmonics_list),#harmonics_list"
   ]
  },
  {
   "cell_type": "code",
   "execution_count": 153,
   "metadata": {
    "scrolled": true
   },
   "outputs": [
    {
     "data": {
      "text/plain": [
       "(78888, 12)"
      ]
     },
     "execution_count": 153,
     "metadata": {},
     "output_type": "execute_result"
    }
   ],
   "source": [
    "input_series = np.hstack(harmonics_list)\n",
    "input_series.shape"
   ]
  },
  {
   "cell_type": "code",
   "execution_count": 219,
   "metadata": {},
   "outputs": [
    {
     "data": {
      "text/plain": [
       "(array([0.60277651, 0.72624026, 0.83420205, ..., 0.33405387, 0.46213994,\n",
       "        0.59282018]), array([[0.766],\n",
       "        [0.757],\n",
       "        [0.694],\n",
       "        ...,\n",
       "        [0.289],\n",
       "        [0.28 ],\n",
       "        [0.289]]))"
      ]
     },
     "execution_count": 219,
     "metadata": {},
     "output_type": "execute_result"
    }
   ],
   "source": [
    "input_series[:,-8], series"
   ]
  },
  {
   "cell_type": "code",
   "execution_count": 154,
   "metadata": {},
   "outputs": [],
   "source": [
    "# 24h ahead single preds\n",
    "steps_ahead = 24-1\n",
    "padded_series = np.expand_dims(np.concatenate([series.flatten(), np.zeros(steps_ahead)]), axis = -1)\n",
    "padded_series\n",
    "\n",
    "target_series = np.roll(padded_series, -steps_ahead)[:series.shape[0]] #need to discard the last as well"
   ]
  },
  {
   "cell_type": "code",
   "execution_count": 155,
   "metadata": {},
   "outputs": [
    {
     "data": {
      "text/plain": [
       "((78865, 1), (78865, 1), (78865, 12))"
      ]
     },
     "execution_count": 155,
     "metadata": {},
     "output_type": "execute_result"
    }
   ],
   "source": [
    "target_series = target_series[:-steps_ahead]  #removing the zero padding\n",
    "series = series[:-steps_ahead] #removing the zero padding\n",
    "input_series = input_series[:-steps_ahead]\n",
    "series.shape, target_series.shape, input_series.shape"
   ]
  },
  {
   "cell_type": "code",
   "execution_count": 156,
   "metadata": {},
   "outputs": [],
   "source": [
    "from keras.models import Sequential\n",
    "from keras.layers import LSTM, Dense, CuDNNLSTM, LeakyReLU, Dropout, BatchNormalization\n",
    "from keras.utils import multi_gpu_model\n",
    "from keras import backend as K\n",
    "from keras.optimizers import Adam \n",
    "\n",
    "\n",
    "# define model\n",
    "def make_model(n_input, n_features, \n",
    "               verbose = False, multi = True, use_CuDNNLSTM = True,\n",
    "              loss = \"mse\", metrics = [\"mae\", \"mape\"], opt = \"adam\",\n",
    "              lr = 0.001, batch_size = 512, reg = True):\n",
    "    K.clear_session()\n",
    "    LSTM_layer = LSTM if not use_CuDNNLSTM else CuDNNLSTM\n",
    "    if opt == \"adam\":\n",
    "        opt = Adam (lr = lr )\n",
    "    else:\n",
    "        opt = opt\n",
    "    \n",
    "    model = Sequential()\n",
    "    \n",
    "    model.add(LSTM_layer(1024, input_shape=(n_input, n_features), return_sequences=True))\n",
    "    if reg:\n",
    "        model.add(BatchNormalization())\n",
    "    model.add(LeakyReLU())\n",
    "    if reg:\n",
    "        model.add(Dropout(rate = 0.5))\n",
    "    for i in range(1):\n",
    "        model.add(LSTM_layer(512, return_sequences=True))\n",
    "        if reg:\n",
    "            model.add(BatchNormalization())\n",
    "        model.add(LeakyReLU())\n",
    "        if reg:\n",
    "            model.add(Dropout( rate = 0.4))\n",
    "    \n",
    "    for i in range(1):\n",
    "        model.add(LSTM_layer(256, return_sequences = False))\n",
    "        if reg:\n",
    "            model.add(BatchNormalization())\n",
    "        model.add(LeakyReLU())\n",
    "        if reg:\n",
    "            model.add(Dropout(rate = 0.3))\n",
    "\n",
    "    model.add(Dense(128))\n",
    "    model.add(LeakyReLU())\n",
    "    if reg:\n",
    "        model.add(Dropout(rate = 0.2))\n",
    "    \n",
    "    model.add(Dense(1))\n",
    "    \n",
    "    model.compile(optimizer=opt, loss=loss, metrics = metrics)\n",
    "    if verbose:\n",
    "        model.summary()\n",
    "    if multi:\n",
    "        mmodel = multi_gpu_model(model, 2)\n",
    "        mmodel.compile(optimizer=opt, loss=loss, metrics = metrics)\n",
    "        return mmodel, model\n",
    "    else: \n",
    "        \n",
    "        return None, model"
   ]
  },
  {
   "cell_type": "code",
   "execution_count": 264,
   "metadata": {},
   "outputs": [],
   "source": [
    "n_input = 1*24\n",
    "\n",
    "train_generator = TimeseriesGenerator(input_series, target_series, start_index=0, end_index=len(series) + split_index-1, length=n_input, batch_size=1)\n",
    "#val_generator = TimeseriesGenerator(series, target_series, start_index=len(series) + 2*split_index-n_input, end_index=len(series)+split_index-1, length=n_input, batch_size=1)\n",
    "test_generator = TimeseriesGenerator(input_series, target_series, start_index=len(series) + split_index -n_input, end_index=len(series)-1, length=n_input, batch_size=1)"
   ]
  },
  {
   "cell_type": "code",
   "execution_count": 265,
   "metadata": {},
   "outputs": [
    {
     "data": {
      "text/plain": [
       "(78673, 168)"
      ]
     },
     "execution_count": 265,
     "metadata": {},
     "output_type": "execute_result"
    }
   ],
   "source": [
    "len(train_generator), len(test_generator)"
   ]
  },
  {
   "cell_type": "code",
   "execution_count": 266,
   "metadata": {},
   "outputs": [
    {
     "data": {
      "text/plain": [
       "((78673, 24, 12), (78673, 1))"
      ]
     },
     "execution_count": 266,
     "metadata": {},
     "output_type": "execute_result"
    }
   ],
   "source": [
    "train_list = []\n",
    "test_list = []\n",
    "for train,test in train_generator:\n",
    "    train_list.append(train)\n",
    "    test_list.append(test)\n",
    "train_input = np.concatenate(train_list, axis = 0)\n",
    "train_targets = np.concatenate(test_list, axis = 0)\n",
    "train_input.shape, train_targets.shape"
   ]
  },
  {
   "cell_type": "code",
   "execution_count": 267,
   "metadata": {},
   "outputs": [
    {
     "data": {
      "text/plain": [
       "((168, 24, 12), (168, 1))"
      ]
     },
     "execution_count": 267,
     "metadata": {},
     "output_type": "execute_result"
    }
   ],
   "source": [
    "train_list = []\n",
    "test_list = []\n",
    "for train, test in test_generator: #some weird but with the last access\n",
    "    train_list.append(train)\n",
    "    test_list.append(test)\n",
    "\n",
    "    \n",
    "test_input = np.concatenate(train_list, axis = 0)\n",
    "test_targets = np.concatenate(test_list, axis = 0)\n",
    "test_input.shape, test_targets.shape"
   ]
  },
  {
   "cell_type": "code",
   "execution_count": 268,
   "metadata": {},
   "outputs": [
    {
     "data": {
      "text/plain": [
       "True"
      ]
     },
     "execution_count": 268,
     "metadata": {},
     "output_type": "execute_result"
    }
   ],
   "source": [
    "import wandb\n",
    "wandb.login()\n"
   ]
  },
  {
   "cell_type": "code",
   "execution_count": 269,
   "metadata": {},
   "outputs": [
    {
     "data": {
      "text/html": [
       "\n",
       "                Logging results to <a href=\"https://wandb.com\" target=\"_blank\">Weights & Biases</a> <a href=\"https://docs.wandb.com/integrations/jupyter.html\" target=\"_blank\">(Documentation)</a>.<br/>\n",
       "                Project page: <a href=\"https://app.wandb.ai/dbertazioli/venice_is_drowing\" target=\"_blank\">https://app.wandb.ai/dbertazioli/venice_is_drowing</a><br/>\n",
       "                Run page: <a href=\"https://app.wandb.ai/dbertazioli/venice_is_drowing/runs/lu222syo\" target=\"_blank\">https://app.wandb.ai/dbertazioli/venice_is_drowing/runs/lu222syo</a><br/>\n",
       "            "
      ],
      "text/plain": [
       "<IPython.core.display.HTML object>"
      ]
     },
     "metadata": {},
     "output_type": "display_data"
    },
    {
     "name": "stderr",
     "output_type": "stream",
     "text": [
      "Failed to query for notebook name, you can set it manually with the WANDB_NOTEBOOK_NAME environment variable\n",
      "wandb: Wandb version 0.8.22 is available!  To upgrade, please run:\n",
      "wandb:  $ pip install wandb --upgrade\n"
     ]
    }
   ],
   "source": [
    "from wandb.keras import WandbCallback as wb\n",
    "\n",
    "wandb.init(project = \"venice_is_drowing\", name = f\"lstm_single_output_test_24h_{n_input}_input_{input_series.shape[1]}_feat\")\n",
    "cfg = wandb.config\n",
    "batch_size = 256\n",
    "cfg.batch_size = batch_size\n",
    "cfg.n_features = n_features\n",
    "cfg.n_input = n_input\n",
    "cfg.epochs = 250"
   ]
  },
  {
   "cell_type": "code",
   "execution_count": 270,
   "metadata": {
    "scrolled": true
   },
   "outputs": [
    {
     "name": "stdout",
     "output_type": "stream",
     "text": [
      "_________________________________________________________________\n",
      "Layer (type)                 Output Shape              Param #   \n",
      "=================================================================\n",
      "cu_dnnlstm_1 (CuDNNLSTM)     (None, 24, 512)           1077248   \n",
      "_________________________________________________________________\n",
      "batch_normalization_1 (Batch (None, 24, 512)           2048      \n",
      "_________________________________________________________________\n",
      "leaky_re_lu_1 (LeakyReLU)    (None, 24, 512)           0         \n",
      "_________________________________________________________________\n",
      "dropout_1 (Dropout)          (None, 24, 512)           0         \n",
      "_________________________________________________________________\n",
      "cu_dnnlstm_2 (CuDNNLSTM)     (None, 256)               788480    \n",
      "_________________________________________________________________\n",
      "batch_normalization_2 (Batch (None, 256)               1024      \n",
      "_________________________________________________________________\n",
      "leaky_re_lu_2 (LeakyReLU)    (None, 256)               0         \n",
      "_________________________________________________________________\n",
      "dropout_2 (Dropout)          (None, 256)               0         \n",
      "_________________________________________________________________\n",
      "dense_1 (Dense)              (None, 128)               32896     \n",
      "_________________________________________________________________\n",
      "leaky_re_lu_3 (LeakyReLU)    (None, 128)               0         \n",
      "_________________________________________________________________\n",
      "dropout_3 (Dropout)          (None, 128)               0         \n",
      "_________________________________________________________________\n",
      "dense_2 (Dense)              (None, 1)                 129       \n",
      "=================================================================\n",
      "Total params: 1,901,825\n",
      "Trainable params: 1,900,289\n",
      "Non-trainable params: 1,536\n",
      "_________________________________________________________________\n"
     ]
    }
   ],
   "source": [
    "mmodel, model = make_model(n_input, input_series.shape[1], opt = \"adam\", lr = 0.001, reg = True, \n",
    "                           multi = True, use_CuDNNLSTM = True, verbose = True,\n",
    "                           loss = \"mape\", metrics = [\"mse\",\"mae\", \"mape\"])"
   ]
  },
  {
   "cell_type": "code",
   "execution_count": 186,
   "metadata": {},
   "outputs": [],
   "source": [
    "# try again with mape loss 1*24 and 1*7*24"
   ]
  },
  {
   "cell_type": "code",
   "execution_count": 276,
   "metadata": {
    "scrolled": false
   },
   "outputs": [
    {
     "data": {
      "image/png": "[encoded data removed]",
      "text/plain": [
       "<Figure size 1440x720 with 2 Axes>"
      ]
     },
     "metadata": {},
     "output_type": "display_data"
    },
    {
     "name": "stdout",
     "output_type": "stream",
     "text": [
      "Epoch 71/250\n",
      "78673/78673 [==============================] - 16s 207us/step - loss: 8.6340 - mean_squared_error: 0.0025 - mean_absolute_error: 0.0368 - mean_absolute_percentage_error: 8.6340 - val_loss: 21.3690 - val_mean_squared_error: 0.0055 - val_mean_absolute_error: 0.0706 - val_mean_absolute_percentage_error: 21.3690\n",
      "Epoch 72/250\n",
      "78673/78673 [==============================] - 16s 208us/step - loss: 8.9273 - mean_squared_error: 0.0026 - mean_absolute_error: 0.0377 - mean_absolute_percentage_error: 8.9273 - val_loss: 16.7693 - val_mean_squared_error: 0.0037 - val_mean_absolute_error: 0.0561 - val_mean_absolute_percentage_error: 16.7693\n",
      "Epoch 73/250\n",
      "78673/78673 [==============================] - 16s 208us/step - loss: 8.1614 - mean_squared_error: 0.0023 - mean_absolute_error: 0.0348 - mean_absolute_percentage_error: 8.1614 - val_loss: 23.1818 - val_mean_squared_error: 0.0059 - val_mean_absolute_error: 0.0725 - val_mean_absolute_percentage_error: 23.1818\n",
      "Restoring model weights from the end of the best epoch\n",
      "Epoch 00073: early stopping\n"
     ]
    }
   ],
   "source": [
    "from keras.callbacks import EarlyStopping, ReduceLROnPlateau\n",
    "from myutils import TrainingPlot\n",
    "\n",
    "\n",
    "plot_losses = TrainingPlot()\n",
    "es = EarlyStopping(monitor = \"val_loss\", patience = 50, restore_best_weights = True, verbose = 1)\n",
    "rl = ReduceLROnPlateau(monitor = \"val_loss\", patience = 25, cooldown=10, factor=0.5, verbose = 1)\n",
    "\n",
    "# fit model\n",
    "history = mmodel.fit(\n",
    "    train_input, train_targets,\n",
    "    epochs=cfg.epochs,\n",
    "    batch_size = cfg.batch_size, \n",
    "    \n",
    "    verbose=1, \n",
    "    shuffle = False,\n",
    "    \n",
    "    #validation_data=ttest_generator, \n",
    "    #validation_steps = 6,\n",
    "    validation_data = (test_input, test_targets),\n",
    "    \n",
    "    callbacks=[plot_losses, \n",
    "              es, rl,\n",
    "              wb(log_gradients=False, log_weights=False)\n",
    "              ]\n",
    ")"
   ]
  },
  {
   "cell_type": "code",
   "execution_count": 277,
   "metadata": {},
   "outputs": [
    {
     "name": "stdout",
     "output_type": "stream",
     "text": [
      "168/168 [==============================] - 0s 2ms/step\n"
     ]
    },
    {
     "data": {
      "text/plain": [
       "[5.394392149788993,\n",
       " 0.0006283936755997794,\n",
       " 0.019254181179262343,\n",
       " 5.394392149788993]"
      ]
     },
     "execution_count": 277,
     "metadata": {},
     "output_type": "execute_result"
    }
   ],
   "source": [
    "model.evaluate(test_input,test_targets)"
   ]
  },
  {
   "cell_type": "code",
   "execution_count": 278,
   "metadata": {},
   "outputs": [],
   "source": [
    "real_preds = model.predict(test_input).flatten() #iterated predictions on real data\n",
    "real_data = test_targets.flatten()\n"
   ]
  },
  {
   "cell_type": "code",
   "execution_count": 287,
   "metadata": {
    "scrolled": true
   },
   "outputs": [],
   "source": [
    "def iterate_prediction(input_seq = series[-n_input+split_index:split_index], pred_len = 168):\n",
    "    init_test_arr = np.expand_dims(input_seq, axis = 0)\n",
    "    preds = []\n",
    "    for i in range(pred_len):\n",
    "        if i < 24: #evaluate on real data for \n",
    "            pred = model.predict(test_input[i:i+1], )[0][0]\n",
    "            preds.append(pred)\n",
    "        else:\n",
    "            test_features = np.squeeze(np.squeeze(init_test_arr, axis = -1), axis = 0).tolist()\n",
    "            tmp = [test_input[i:i+1, :, j] for j in range(8)]\n",
    "            #print(len(tmp), set([elem.shape for elem in tmp]))\n",
    "            #print(init_test_arr.shape)\n",
    "            #print(np.squeeze(init_test_arr, axis = -1).shape)\n",
    "            tmp.append(np.squeeze(init_test_arr, axis = -1))\n",
    "            #print(len(tmp), set([elem.shape for elem in tmp]))\n",
    "            tmp1 = [test_input[i:i+1, :, j] for j in range(9,12)]\n",
    "            #print(len(tmp1), set([elem.shape for elem in tmp1]))\n",
    "            \n",
    "            tmp.extend([test_input[i:i+1, :, j] for j in range(9,12)])\n",
    "            #print(len(tmp), set([elem.shape for elem in tmp]))\n",
    "            \n",
    "            pred_input = np.array(tmp).reshape(1, 24, 12)\n",
    "            #print(pred_input.shape)\n",
    "            \n",
    "            pred = model.predict(pred_input)[0][0]\n",
    "            preds.append(pred)\n",
    "            test_features.append(pred)\n",
    "            init_test_arr = np.atleast_3d(test_features[-n_input:])\n",
    "\n",
    "    return np.array(preds)\n",
    "\n",
    "preds1 = iterate_prediction()"
   ]
  },
  {
   "cell_type": "code",
   "execution_count": 292,
   "metadata": {},
   "outputs": [
    {
     "name": "stdout",
     "output_type": "stream",
     "text": [
      "5.394392298451539\n",
      "19.227264588828145\n",
      "0.2212827855890528\n"
     ]
    }
   ],
   "source": [
    "def calc_mape(real, pred):\n",
    "    return (100*np.abs(real-pred)/real/real.shape[0]).sum()\n",
    "print(calc_mape(real_data, real_preds)) #mape on real-data preds\n",
    "print(calc_mape(real_data, preds))  #mape on iterated preds #not really makes sense with 168 steps ahead\n",
    "print(calc_mape(real_data[0:1], real_preds[0:1]))"
   ]
  },
  {
   "cell_type": "code",
   "execution_count": 290,
   "metadata": {},
   "outputs": [
    {
     "data": {
      "text/plain": [
       "(5.570618513020297, 22.97673398205078, 0.27045440673829546)"
      ]
     },
     "execution_count": 290,
     "metadata": {},
     "output_type": "execute_result"
    }
   ],
   "source": [
    "from sklearn.metrics import mean_squared_error\n",
    "from math import sqrt\n",
    "\n",
    "\n",
    "rmse_real_preds = sqrt(mean_squared_error(sc.inverse_transform(real_preds.reshape(-1, 1)), sc.inverse_transform(real_data.reshape(-1, 1))))\n",
    "rmse_preds = sqrt(mean_squared_error(sc.inverse_transform(preds1.reshape(-1, 1)), sc.inverse_transform(real_data.reshape(-1, 1))))\n",
    "rmse_single_pred = sqrt(mean_squared_error(sc.inverse_transform(real_data[0:1].reshape(-1, 1)), sc.inverse_transform(real_preds[0:1].reshape(-1, 1))))\n",
    "\n",
    "rmse_real_preds,rmse_preds,  rmse_single_pred"
   ]
  },
  {
   "cell_type": "code",
   "execution_count": null,
   "metadata": {},
   "outputs": [],
   "source": []
  }
 ],
 "metadata": {
  "accelerator": "GPU",
  "colab": {
   "collapsed_sections": [],
   "name": "venice_lstm_test.ipynb",
   "provenance": []
  },
  "kernelspec": {
   "display_name": "Python 3",
   "language": "python",
   "name": "python3"
  },
  "language_info": {
   "codemirror_mode": {
    "name": "ipython",
    "version": 3
   },
   "file_extension": ".py",
   "mimetype": "text/x-python",
   "name": "python",
   "nbconvert_exporter": "python",
   "pygments_lexer": "ipython3",
   "version": "3.6.3"
  }
 },
 "nbformat": 4,
 "nbformat_minor": 1
}
