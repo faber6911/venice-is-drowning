{
 "cells": [
  {
   "cell_type": "code",
   "execution_count": 1,
   "metadata": {
    "colab": {
     "base_uri": "https://localhost:8080/",
     "height": 312
    },
    "colab_type": "code",
    "id": "tLX17sFpCqZ6",
    "outputId": "2c5a0720-c62d-492a-fc33-ccee07fefe66"
   },
   "outputs": [
    {
     "name": "stdout",
     "output_type": "stream",
     "text": [
      "Fri Jan 24 12:40:00 2020       \r\n",
      "+-----------------------------------------------------------------------------+\r\n",
      "| NVIDIA-SMI 440.33.01    Driver Version: 440.33.01    CUDA Version: 10.2     |\r\n",
      "|-------------------------------+----------------------+----------------------+\r\n",
      "| GPU  Name        Persistence-M| Bus-Id        Disp.A | Volatile Uncorr. ECC |\r\n",
      "| Fan  Temp  Perf  Pwr:Usage/Cap|         Memory-Usage | GPU-Util  Compute M. |\r\n",
      "|===============================+======================+======================|\r\n",
      "|   0  Tesla K20Xm         On   | 00000000:08:00.0 Off |                    0 |\r\n",
      "| N/A   45C    P8    19W / 235W |      0MiB /  5700MiB |      0%      Default |\r\n",
      "+-------------------------------+----------------------+----------------------+\r\n",
      "|   1  Tesla K20Xm         On   | 00000000:84:00.0 Off |                    0 |\r\n",
      "| N/A   51C    P8    18W / 235W |      0MiB /  5700MiB |      0%      Default |\r\n",
      "+-------------------------------+----------------------+----------------------+\r\n",
      "                                                                               \r\n",
      "+-----------------------------------------------------------------------------+\r\n",
      "| Processes:                                                       GPU Memory |\r\n",
      "|  GPU       PID   Type   Process name                             Usage      |\r\n",
      "|=============================================================================|\r\n",
      "|  No running processes found                                                 |\r\n",
      "+-----------------------------------------------------------------------------+\r\n"
     ]
    }
   ],
   "source": [
    "!nvidia-smi"
   ]
  },
  {
   "cell_type": "code",
   "execution_count": 2,
   "metadata": {},
   "outputs": [],
   "source": [
    "go = False\n",
    "if go:\n",
    "    \n",
    "    import os\n",
    "    os.environ['TF_CPP_MIN_LOG_LEVEL'] = '2' \n",
    "    import tensorflow as tf\n",
    "    from keras import backend as K\n",
    "\n",
    "    set_gpu=True\n",
    "\n",
    "    if set_gpu:\n",
    "        os.environ[\"CUDA_DEVICE_ORDER\"]=\"PCI_BUS_ID\";  # The GPU id to use, usually either \"0\" or \"1\";\n",
    "        os.environ[\"CUDA_VISIBLE_DEVICES\"]=\"0\";  # Do other imports now...\n",
    "        print(os.environ[\"CUDA_VISIBLE_DEVICES\"])\n",
    "\n",
    "\n",
    "        num_cores = 39\n",
    "\n",
    "        GPU=True\n",
    "        CPU=False\n",
    "\n",
    "        if GPU:\n",
    "            num_GPU = 1\n",
    "            num_CPU = 1\n",
    "        if CPU:\n",
    "            num_CPU = 1\n",
    "            num_GPU = 0\n",
    "\n",
    "        config = tf.ConfigProto(intra_op_parallelism_threads=num_cores,\n",
    "                                inter_op_parallelism_threads=num_cores, \n",
    "                                allow_soft_placement=True,\n",
    "                                device_count = {'CPU' : num_CPU,\n",
    "                                                'GPU' : num_GPU}\n",
    "                               )\n",
    "\n",
    "        session = tf.Session(config=config)\n",
    "        K.set_session(session)\n"
   ]
  },
  {
   "cell_type": "code",
   "execution_count": 3,
   "metadata": {
    "colab": {
     "base_uri": "https://localhost:8080/",
     "height": 208
    },
    "colab_type": "code",
    "id": "VYyvPbEZ7sCY",
    "outputId": "081dc96e-0f2a-4345-b237-9ed7ce7c8b3e"
   },
   "outputs": [],
   "source": [
    "#!wget https://raw.githubusercontent.com/DBertazioli/host/master/datas/df_final_processed.csv"
   ]
  },
  {
   "cell_type": "code",
   "execution_count": 151,
   "metadata": {
    "colab": {
     "base_uri": "https://localhost:8080/",
     "height": 173
    },
    "colab_type": "code",
    "id": "14JMWnZb8Ead",
    "outputId": "31cd36c0-bc29-4c73-e0bc-0af9cad920dc"
   },
   "outputs": [
    {
     "data": {
      "text/plain": [
       "(78888, 1)"
      ]
     },
     "execution_count": 151,
     "metadata": {},
     "output_type": "execute_result"
    }
   ],
   "source": [
    "#!pip install pyforest\n",
    "#from pyforest import *\n",
    "import pandas as pd\n",
    "import numpy as np\n",
    "from matplotlib import pyplot as plt\n",
    "import keras\n",
    "\n",
    "\n",
    "df = pd.read_csv(\"../data/df_final_processed.csv\", index_col = 0)\n",
    "df.head()\n",
    "\n",
    "from keras.preprocessing.sequence import TimeseriesGenerator\n",
    "\n",
    "#some zeroes\n",
    "#series = df.level_scaled.values\n",
    "from sklearn.preprocessing import MinMaxScaler\n",
    "\n",
    "sc = MinMaxScaler(feature_range=(0.01, 1))\n",
    "\n",
    "series = sc.fit_transform(df.level.values.reshape(-1, 1))\n",
    "\n",
    "split_index = -7*24\n",
    "\n",
    "#test_series = series [split_index:]\n",
    "#series = series [:split_index]\n",
    "n_features = 1\n",
    "#series = series.reshape((len(series), n_features))\n",
    "#test_series = test_series.reshape((len(test_series), n_features))\n",
    "\n",
    "series.shape\n"
   ]
  },
  {
   "cell_type": "code",
   "execution_count": 152,
   "metadata": {},
   "outputs": [],
   "source": [
    "# 24h ahead single preds\n",
    "padded_series = np.expand_dims(np.concatenate([series.flatten(), series.mean()*np.ones(23)]), axis = -1)\n",
    "padded_series\n",
    "\n",
    "target_series = np.roll(padded_series, -23)[:series.shape[0]] #need to discard the last as well"
   ]
  },
  {
   "cell_type": "code",
   "execution_count": 153,
   "metadata": {},
   "outputs": [
    {
     "data": {
      "text/plain": [
       "((78865, 1), (78865, 1))"
      ]
     },
     "execution_count": 153,
     "metadata": {},
     "output_type": "execute_result"
    }
   ],
   "source": [
    "target_series[:-23].shape, series[:-23].shape"
   ]
  },
  {
   "cell_type": "code",
   "execution_count": null,
   "metadata": {},
   "outputs": [],
   "source": []
  },
  {
   "cell_type": "code",
   "execution_count": 154,
   "metadata": {},
   "outputs": [],
   "source": [
    "from keras.models import Sequential\n",
    "from keras.layers import LSTM, Dense, CuDNNLSTM, LeakyReLU, Dropout, BatchNormalization\n",
    "from keras.utils import multi_gpu_model\n",
    "from keras import backend as K\n",
    "from keras.optimizers import Adam \n",
    "\n",
    "\n",
    "# define model\n",
    "def make_model(n_input, n_features, \n",
    "               verbose = False, multi = True, use_CuDNNLSTM = True,\n",
    "              loss = \"mse\", metrics = [\"mae\", \"mape\"],\n",
    "              lr = 0.001):\n",
    "    K.clear_session()\n",
    "    LSTM_layer = LSTM if not use_CuDNNLSTM else CuDNNLSTM\n",
    "    opt = Adam (lr = lr )\n",
    "    \n",
    "    model = Sequential()\n",
    "    \n",
    "    model.add(LSTM_layer(512, input_shape=(n_input, n_features), return_sequences=True))\n",
    "    model.add(BatchNormalization())\n",
    "    model.add(LeakyReLU())\n",
    "    model.add(Dropout(rate = 0.3))\n",
    "    for i in range(0):\n",
    "        model.add(LSTM_layer(512, return_sequences=True))\n",
    "        model.add(BatchNormalization())\n",
    "        model.add(LeakyReLU())\n",
    "        model.add(Dropout( rate = 0.4))\n",
    "    \n",
    "    for i in range(1):\n",
    "        model.add(LSTM_layer(256, return_sequences = False))\n",
    "        model.add(BatchNormalization())\n",
    "        model.add(LeakyReLU())\n",
    "        model.add(Dropout(rate = 0.3))\n",
    "\n",
    "    model.add(Dense(128))\n",
    "    model.add(LeakyReLU())\n",
    "    model.add(Dropout(rate = 0.2))\n",
    "    \n",
    "    model.add(Dense(1))\n",
    "    \n",
    "    model.compile(optimizer=opt, loss=loss, metrics = metrics)\n",
    "    if verbose:\n",
    "        model.summary()\n",
    "    if multi:\n",
    "        mmodel = multi_gpu_model(model, 2)\n",
    "        mmodel.compile(optimizer=opt, loss=loss, metrics = metrics)\n",
    "        return mmodel, model\n",
    "    else: \n",
    "        \n",
    "        return None, model"
   ]
  },
  {
   "cell_type": "code",
   "execution_count": 166,
   "metadata": {},
   "outputs": [],
   "source": [
    "n_input = 1*24*7\n",
    "gen_batch_size = 256\n",
    "\n",
    "# define generator\n",
    "split_index = -168-1\n",
    "train_generator = TimeseriesGenerator(series[:split_index], target_series[:split_index], length=n_input, batch_size=gen_batch_size)\n",
    "train_list = []\n",
    "test_list = []\n",
    "for train,test in train_generator:\n",
    "    train_list.append(train)\n",
    "    test_list.append(test)\n",
    "train_input = np.concatenate(train_list, axis = 0)\n",
    "train_targets = np.concatenate(test_list, axis = 0)"
   ]
  },
  {
   "cell_type": "code",
   "execution_count": 156,
   "metadata": {},
   "outputs": [
    {
     "data": {
      "text/plain": [
       "((78551, 168, 1), (78551, 1))"
      ]
     },
     "execution_count": 156,
     "metadata": {},
     "output_type": "execute_result"
    }
   ],
   "source": [
    "train_input.shape, train_targets.shape"
   ]
  },
  {
   "cell_type": "code",
   "execution_count": 157,
   "metadata": {},
   "outputs": [],
   "source": [
    "ttest_generator = TimeseriesGenerator(series[-n_input + split_index:-23], target_series[-n_input + split_index:-23], length=n_input, batch_size=len(target_series[-n_input + split_index:]), shuffle=False) #a whole batch size for faster splitting after the padding zone\n",
    "\n",
    "train_test, test_test = ttest_generator[0]\n",
    "\n",
    "train_test.shape, test_test.shape\n",
    "\n",
    "val_train, val_test = train_test[:-1],test_test[:-1] #@-20 index starts the paddings due to h24 preds"
   ]
  },
  {
   "cell_type": "code",
   "execution_count": 158,
   "metadata": {},
   "outputs": [
    {
     "data": {
      "text/plain": [
       "((145, 168, 1), (145, 1))"
      ]
     },
     "execution_count": 158,
     "metadata": {},
     "output_type": "execute_result"
    }
   ],
   "source": [
    "val_train.shape, val_test.shape"
   ]
  },
  {
   "cell_type": "code",
   "execution_count": 159,
   "metadata": {},
   "outputs": [
    {
     "data": {
      "text/plain": [
       "True"
      ]
     },
     "execution_count": 159,
     "metadata": {},
     "output_type": "execute_result"
    }
   ],
   "source": [
    "import wandb\n",
    "wandb.login()\n"
   ]
  },
  {
   "cell_type": "code",
   "execution_count": 170,
   "metadata": {},
   "outputs": [
    {
     "data": {
      "text/html": [
       "\n",
       "                Logging results to <a href=\"https://wandb.com\" target=\"_blank\">Weights & Biases</a> <a href=\"https://docs.wandb.com/integrations/jupyter.html\" target=\"_blank\">(Documentation)</a>.<br/>\n",
       "                Project page: <a href=\"https://app.wandb.ai/dbertazioli/venice_is_drowing\" target=\"_blank\">https://app.wandb.ai/dbertazioli/venice_is_drowing</a><br/>\n",
       "                Run page: <a href=\"https://app.wandb.ai/dbertazioli/venice_is_drowing/runs/y3fw2jbk\" target=\"_blank\">https://app.wandb.ai/dbertazioli/venice_is_drowing/runs/y3fw2jbk</a><br/>\n",
       "            "
      ],
      "text/plain": [
       "<IPython.core.display.HTML object>"
      ]
     },
     "metadata": {},
     "output_type": "display_data"
    },
    {
     "name": "stderr",
     "output_type": "stream",
     "text": [
      "Failed to query for notebook name, you can set it manually with the WANDB_NOTEBOOK_NAME environment variable\n",
      "wandb: Wandb version 0.8.21 is available!  To upgrade, please run:\n",
      "wandb:  $ pip install wandb --upgrade\n"
     ]
    }
   ],
   "source": [
    "from wandb.keras import WandbCallback as wb\n",
    "\n",
    "wandb.init(project = \"venice_is_drowing\", name = \"lstm_single_output_test_24h_168_input\")\n",
    "cfg = wandb.config\n",
    "batch_size = 512\n",
    "cfg.batch_size = batch_size\n",
    "cfg.n_features = n_features\n",
    "cfg.n_input = n_input\n",
    "cfg.epochs = 150"
   ]
  },
  {
   "cell_type": "code",
   "execution_count": 171,
   "metadata": {
    "scrolled": true
   },
   "outputs": [
    {
     "name": "stdout",
     "output_type": "stream",
     "text": [
      "_________________________________________________________________\n",
      "Layer (type)                 Output Shape              Param #   \n",
      "=================================================================\n",
      "cu_dnnlstm_1 (CuDNNLSTM)     (None, 168, 512)          1054720   \n",
      "_________________________________________________________________\n",
      "batch_normalization_1 (Batch (None, 168, 512)          2048      \n",
      "_________________________________________________________________\n",
      "leaky_re_lu_1 (LeakyReLU)    (None, 168, 512)          0         \n",
      "_________________________________________________________________\n",
      "dropout_1 (Dropout)          (None, 168, 512)          0         \n",
      "_________________________________________________________________\n",
      "cu_dnnlstm_2 (CuDNNLSTM)     (None, 256)               788480    \n",
      "_________________________________________________________________\n",
      "batch_normalization_2 (Batch (None, 256)               1024      \n",
      "_________________________________________________________________\n",
      "leaky_re_lu_2 (LeakyReLU)    (None, 256)               0         \n",
      "_________________________________________________________________\n",
      "dropout_2 (Dropout)          (None, 256)               0         \n",
      "_________________________________________________________________\n",
      "dense_1 (Dense)              (None, 128)               32896     \n",
      "_________________________________________________________________\n",
      "leaky_re_lu_3 (LeakyReLU)    (None, 128)               0         \n",
      "_________________________________________________________________\n",
      "dropout_3 (Dropout)          (None, 128)               0         \n",
      "_________________________________________________________________\n",
      "dense_2 (Dense)              (None, 1)                 129       \n",
      "=================================================================\n",
      "Total params: 1,879,297\n",
      "Trainable params: 1,877,761\n",
      "Non-trainable params: 1,536\n",
      "_________________________________________________________________\n"
     ]
    }
   ],
   "source": [
    "mmodel, model = make_model(n_input, n_features, lr = 0.001,\n",
    "                           multi = True, use_CuDNNLSTM = True, verbose = True,\n",
    "                           loss = \"mse\", metrics = [\"mae\", \"mape\"])"
   ]
  },
  {
   "cell_type": "code",
   "execution_count": null,
   "metadata": {
    "scrolled": false
   },
   "outputs": [
    {
     "name": "stdout",
     "output_type": "stream",
     "text": [
      "Train on 78551 samples, validate on 145 samples\n",
      "Epoch 1/200\n",
      "  512/78551 [..............................] - ETA: 59s - loss: 0.0017 - mean_absolute_error: 0.0292 - mean_absolute_percentage_error: 6.7443"
     ]
    },
    {
     "name": "stderr",
     "output_type": "stream",
     "text": [
      "Failed to query for notebook name, you can set it manually with the WANDB_NOTEBOOK_NAME environment variable\n",
      "wandb: Wandb version 0.8.21 is available!  To upgrade, please run:\n",
      "wandb:  $ pip install wandb --upgrade\n"
     ]
    },
    {
     "ename": "BrokenPipeError",
     "evalue": "[Errno 32] Broken pipe",
     "output_type": "error",
     "traceback": [
      "\u001b[0;31m---------------------------------------------------------------------------\u001b[0m",
      "\u001b[0;31mBrokenPipeError\u001b[0m                           Traceback (most recent call last)",
      "\u001b[0;32m<ipython-input-180-ccbb467be107>\u001b[0m in \u001b[0;36m<module>\u001b[0;34m()\u001b[0m\n\u001b[1;32m     21\u001b[0m     callbacks=[plot_losses, \n\u001b[1;32m     22\u001b[0m               \u001b[0mes\u001b[0m\u001b[0;34m,\u001b[0m \u001b[0mrl\u001b[0m\u001b[0;34m,\u001b[0m\u001b[0;34m\u001b[0m\u001b[0m\n\u001b[0;32m---> 23\u001b[0;31m               \u001b[0mwb\u001b[0m\u001b[0;34m(\u001b[0m\u001b[0mlog_gradients\u001b[0m\u001b[0;34m=\u001b[0m\u001b[0;32mFalse\u001b[0m\u001b[0;34m,\u001b[0m \u001b[0mlog_weights\u001b[0m\u001b[0;34m=\u001b[0m\u001b[0;32mFalse\u001b[0m\u001b[0;34m)\u001b[0m\u001b[0;34m\u001b[0m\u001b[0m\n\u001b[0m\u001b[1;32m     24\u001b[0m               ]\n\u001b[1;32m     25\u001b[0m )\n",
      "\u001b[0;32m~/.local/lib/python3.6/site-packages/keras/engine/training.py\u001b[0m in \u001b[0;36mfit\u001b[0;34m(self, x, y, batch_size, epochs, verbose, callbacks, validation_split, validation_data, shuffle, class_weight, sample_weight, initial_epoch, steps_per_epoch, validation_steps, **kwargs)\u001b[0m\n\u001b[1;32m   1037\u001b[0m                                         \u001b[0minitial_epoch\u001b[0m\u001b[0;34m=\u001b[0m\u001b[0minitial_epoch\u001b[0m\u001b[0;34m,\u001b[0m\u001b[0;34m\u001b[0m\u001b[0m\n\u001b[1;32m   1038\u001b[0m                                         \u001b[0msteps_per_epoch\u001b[0m\u001b[0;34m=\u001b[0m\u001b[0msteps_per_epoch\u001b[0m\u001b[0;34m,\u001b[0m\u001b[0;34m\u001b[0m\u001b[0m\n\u001b[0;32m-> 1039\u001b[0;31m                                         validation_steps=validation_steps)\n\u001b[0m\u001b[1;32m   1040\u001b[0m \u001b[0;34m\u001b[0m\u001b[0m\n\u001b[1;32m   1041\u001b[0m     def evaluate(self, x=None, y=None,\n",
      "\u001b[0;32m~/.local/lib/python3.6/site-packages/keras/engine/training_arrays.py\u001b[0m in \u001b[0;36mfit_loop\u001b[0;34m(model, f, ins, out_labels, batch_size, epochs, verbose, callbacks, val_f, val_ins, shuffle, callback_metrics, initial_epoch, steps_per_epoch, validation_steps)\u001b[0m\n\u001b[1;32m    202\u001b[0m                     \u001b[0mbatch_logs\u001b[0m\u001b[0;34m[\u001b[0m\u001b[0ml\u001b[0m\u001b[0;34m]\u001b[0m \u001b[0;34m=\u001b[0m \u001b[0mo\u001b[0m\u001b[0;34m\u001b[0m\u001b[0m\n\u001b[1;32m    203\u001b[0m \u001b[0;34m\u001b[0m\u001b[0m\n\u001b[0;32m--> 204\u001b[0;31m                 \u001b[0mcallbacks\u001b[0m\u001b[0;34m.\u001b[0m\u001b[0mon_batch_end\u001b[0m\u001b[0;34m(\u001b[0m\u001b[0mbatch_index\u001b[0m\u001b[0;34m,\u001b[0m \u001b[0mbatch_logs\u001b[0m\u001b[0;34m)\u001b[0m\u001b[0;34m\u001b[0m\u001b[0m\n\u001b[0m\u001b[1;32m    205\u001b[0m                 \u001b[0;32mif\u001b[0m \u001b[0mcallback_model\u001b[0m\u001b[0;34m.\u001b[0m\u001b[0mstop_training\u001b[0m\u001b[0;34m:\u001b[0m\u001b[0;34m\u001b[0m\u001b[0m\n\u001b[1;32m    206\u001b[0m                     \u001b[0;32mbreak\u001b[0m\u001b[0;34m\u001b[0m\u001b[0m\n",
      "\u001b[0;32m~/.local/lib/python3.6/site-packages/keras/callbacks.py\u001b[0m in \u001b[0;36mon_batch_end\u001b[0;34m(self, batch, logs)\u001b[0m\n\u001b[1;32m    113\u001b[0m         \u001b[0mt_before_callbacks\u001b[0m \u001b[0;34m=\u001b[0m \u001b[0mtime\u001b[0m\u001b[0;34m.\u001b[0m\u001b[0mtime\u001b[0m\u001b[0;34m(\u001b[0m\u001b[0;34m)\u001b[0m\u001b[0;34m\u001b[0m\u001b[0m\n\u001b[1;32m    114\u001b[0m         \u001b[0;32mfor\u001b[0m \u001b[0mcallback\u001b[0m \u001b[0;32min\u001b[0m \u001b[0mself\u001b[0m\u001b[0;34m.\u001b[0m\u001b[0mcallbacks\u001b[0m\u001b[0;34m:\u001b[0m\u001b[0;34m\u001b[0m\u001b[0m\n\u001b[0;32m--> 115\u001b[0;31m             \u001b[0mcallback\u001b[0m\u001b[0;34m.\u001b[0m\u001b[0mon_batch_end\u001b[0m\u001b[0;34m(\u001b[0m\u001b[0mbatch\u001b[0m\u001b[0;34m,\u001b[0m \u001b[0mlogs\u001b[0m\u001b[0;34m)\u001b[0m\u001b[0;34m\u001b[0m\u001b[0m\n\u001b[0m\u001b[1;32m    116\u001b[0m         \u001b[0mself\u001b[0m\u001b[0;34m.\u001b[0m\u001b[0m_delta_ts_batch_end\u001b[0m\u001b[0;34m.\u001b[0m\u001b[0mappend\u001b[0m\u001b[0;34m(\u001b[0m\u001b[0mtime\u001b[0m\u001b[0;34m.\u001b[0m\u001b[0mtime\u001b[0m\u001b[0;34m(\u001b[0m\u001b[0;34m)\u001b[0m \u001b[0;34m-\u001b[0m \u001b[0mt_before_callbacks\u001b[0m\u001b[0;34m)\u001b[0m\u001b[0;34m\u001b[0m\u001b[0m\n\u001b[1;32m    117\u001b[0m         \u001b[0mdelta_t_median\u001b[0m \u001b[0;34m=\u001b[0m \u001b[0mnp\u001b[0m\u001b[0;34m.\u001b[0m\u001b[0mmedian\u001b[0m\u001b[0;34m(\u001b[0m\u001b[0mself\u001b[0m\u001b[0;34m.\u001b[0m\u001b[0m_delta_ts_batch_end\u001b[0m\u001b[0;34m)\u001b[0m\u001b[0;34m\u001b[0m\u001b[0m\n",
      "\u001b[0;32m~/.local/lib/python3.6/site-packages/wandb/keras/__init__.py\u001b[0m in \u001b[0;36mon_batch_end\u001b[0;34m(self, batch, logs)\u001b[0m\n\u001b[1;32m    308\u001b[0m         \u001b[0;32mif\u001b[0m \u001b[0;32mnot\u001b[0m \u001b[0mself\u001b[0m\u001b[0;34m.\u001b[0m\u001b[0m_graph_rendered\u001b[0m\u001b[0;34m:\u001b[0m\u001b[0;34m\u001b[0m\u001b[0m\n\u001b[1;32m    309\u001b[0m             \u001b[0;31m# Couldn't do this in train_begin because keras may still not be built\u001b[0m\u001b[0;34m\u001b[0m\u001b[0;34m\u001b[0m\u001b[0m\n\u001b[0;32m--> 310\u001b[0;31m             \u001b[0mwandb\u001b[0m\u001b[0;34m.\u001b[0m\u001b[0mrun\u001b[0m\u001b[0;34m.\u001b[0m\u001b[0msummary\u001b[0m\u001b[0;34m[\u001b[0m\u001b[0;34m'graph'\u001b[0m\u001b[0;34m]\u001b[0m \u001b[0;34m=\u001b[0m \u001b[0mwandb\u001b[0m\u001b[0;34m.\u001b[0m\u001b[0mGraph\u001b[0m\u001b[0;34m.\u001b[0m\u001b[0mfrom_keras\u001b[0m\u001b[0;34m(\u001b[0m\u001b[0mself\u001b[0m\u001b[0;34m.\u001b[0m\u001b[0mmodel\u001b[0m\u001b[0;34m)\u001b[0m\u001b[0;34m\u001b[0m\u001b[0m\n\u001b[0m\u001b[1;32m    311\u001b[0m             \u001b[0mself\u001b[0m\u001b[0;34m.\u001b[0m\u001b[0m_graph_rendered\u001b[0m \u001b[0;34m=\u001b[0m \u001b[0;32mTrue\u001b[0m\u001b[0;34m\u001b[0m\u001b[0m\n\u001b[1;32m    312\u001b[0m \u001b[0;34m\u001b[0m\u001b[0m\n",
      "\u001b[0;32m~/.local/lib/python3.6/site-packages/wandb/summary.py\u001b[0m in \u001b[0;36m__setitem__\u001b[0;34m(self, k, v)\u001b[0m\n\u001b[1;32m    136\u001b[0m         \u001b[0mself\u001b[0m\u001b[0;34m.\u001b[0m\u001b[0m_locked_keys\u001b[0m\u001b[0;34m.\u001b[0m\u001b[0madd\u001b[0m\u001b[0;34m(\u001b[0m\u001b[0mk\u001b[0m\u001b[0;34m)\u001b[0m\u001b[0;34m\u001b[0m\u001b[0m\n\u001b[1;32m    137\u001b[0m \u001b[0;34m\u001b[0m\u001b[0m\n\u001b[0;32m--> 138\u001b[0;31m         \u001b[0mself\u001b[0m\u001b[0;34m.\u001b[0m\u001b[0m_root\u001b[0m\u001b[0;34m.\u001b[0m\u001b[0m_write\u001b[0m\u001b[0;34m(\u001b[0m\u001b[0;34m)\u001b[0m\u001b[0;34m\u001b[0m\u001b[0m\n\u001b[0m\u001b[1;32m    139\u001b[0m \u001b[0;34m\u001b[0m\u001b[0m\n\u001b[1;32m    140\u001b[0m         \u001b[0;32mreturn\u001b[0m \u001b[0mv\u001b[0m\u001b[0;34m\u001b[0m\u001b[0m\n",
      "\u001b[0;32m~/.local/lib/python3.6/site-packages/wandb/summary.py\u001b[0m in \u001b[0;36m_write\u001b[0;34m(self, commit)\u001b[0m\n\u001b[1;32m    370\u001b[0m             \u001b[0mself\u001b[0m\u001b[0;34m.\u001b[0m\u001b[0m_h5\u001b[0m \u001b[0;34m=\u001b[0m \u001b[0;32mNone\u001b[0m\u001b[0;34m\u001b[0m\u001b[0m\n\u001b[1;32m    371\u001b[0m         \u001b[0;32mif\u001b[0m \u001b[0mwandb\u001b[0m\u001b[0;34m.\u001b[0m\u001b[0mrun\u001b[0m \u001b[0;32mand\u001b[0m \u001b[0mwandb\u001b[0m\u001b[0;34m.\u001b[0m\u001b[0mrun\u001b[0m\u001b[0;34m.\u001b[0m\u001b[0m_jupyter_agent\u001b[0m\u001b[0;34m:\u001b[0m\u001b[0;34m\u001b[0m\u001b[0m\n\u001b[0;32m--> 372\u001b[0;31m             \u001b[0mwandb\u001b[0m\u001b[0;34m.\u001b[0m\u001b[0mrun\u001b[0m\u001b[0;34m.\u001b[0m\u001b[0m_jupyter_agent\u001b[0m\u001b[0;34m.\u001b[0m\u001b[0mstart\u001b[0m\u001b[0;34m(\u001b[0m\u001b[0;34m)\u001b[0m\u001b[0;34m\u001b[0m\u001b[0m\n\u001b[0m\u001b[1;32m    373\u001b[0m \u001b[0;34m\u001b[0m\u001b[0m\n\u001b[1;32m    374\u001b[0m \u001b[0;34m\u001b[0m\u001b[0m\n",
      "\u001b[0;32m~/.local/lib/python3.6/site-packages/wandb/jupyter.py\u001b[0m in \u001b[0;36mstart\u001b[0;34m(self)\u001b[0m\n\u001b[1;32m    127\u001b[0m             \u001b[0;31m# we update the runs history._steps in extreme hack fashion\u001b[0m\u001b[0;34m\u001b[0m\u001b[0;34m\u001b[0m\u001b[0m\n\u001b[1;32m    128\u001b[0m             \u001b[0;31m# TODO: this reserves a bigtime refactor\u001b[0m\u001b[0;34m\u001b[0m\u001b[0;34m\u001b[0m\u001b[0m\n\u001b[0;32m--> 129\u001b[0;31m             \u001b[0mnew_step\u001b[0m \u001b[0;34m=\u001b[0m \u001b[0mself\u001b[0m\u001b[0;34m.\u001b[0m\u001b[0mrm\u001b[0m\u001b[0;34m.\u001b[0m\u001b[0minit_run\u001b[0m\u001b[0;34m(\u001b[0m\u001b[0mdict\u001b[0m\u001b[0;34m(\u001b[0m\u001b[0mos\u001b[0m\u001b[0;34m.\u001b[0m\u001b[0menviron\u001b[0m\u001b[0;34m)\u001b[0m\u001b[0;34m)\u001b[0m\u001b[0;34m\u001b[0m\u001b[0m\n\u001b[0m\u001b[1;32m    130\u001b[0m             \u001b[0;32mif\u001b[0m \u001b[0mnew_step\u001b[0m\u001b[0;34m:\u001b[0m\u001b[0;34m\u001b[0m\u001b[0m\n\u001b[1;32m    131\u001b[0m                 \u001b[0mwandb\u001b[0m\u001b[0;34m.\u001b[0m\u001b[0mrun\u001b[0m\u001b[0;34m.\u001b[0m\u001b[0mhistory\u001b[0m\u001b[0;34m.\u001b[0m\u001b[0m_steps\u001b[0m \u001b[0;34m=\u001b[0m \u001b[0mnew_step\u001b[0m \u001b[0;34m+\u001b[0m \u001b[0;36m1\u001b[0m\u001b[0;34m\u001b[0m\u001b[0m\n",
      "\u001b[0;32m~/.local/lib/python3.6/site-packages/wandb/run_manager.py\u001b[0m in \u001b[0;36minit_run\u001b[0;34m(self, env)\u001b[0m\n\u001b[1;32m    952\u001b[0m             \u001b[0mlogger\u001b[0m\u001b[0;34m.\u001b[0m\u001b[0minfo\u001b[0m\u001b[0;34m(\u001b[0m\u001b[0;34m\"upserting run before process can begin, waiting at most %d seconds\"\u001b[0m \u001b[0;34m%\u001b[0m \u001b[0mInternalApi\u001b[0m\u001b[0;34m.\u001b[0m\u001b[0mHTTP_TIMEOUT\u001b[0m\u001b[0;34m)\u001b[0m\u001b[0;34m\u001b[0m\u001b[0m\n\u001b[1;32m    953\u001b[0m             \u001b[0masync_upsert\u001b[0m \u001b[0;34m=\u001b[0m \u001b[0mutil\u001b[0m\u001b[0;34m.\u001b[0m\u001b[0masync_call\u001b[0m\u001b[0;34m(\u001b[0m\u001b[0mself\u001b[0m\u001b[0;34m.\u001b[0m\u001b[0m_upsert_run\u001b[0m\u001b[0;34m,\u001b[0m \u001b[0mtimeout\u001b[0m\u001b[0;34m=\u001b[0m\u001b[0mInternalApi\u001b[0m\u001b[0;34m.\u001b[0m\u001b[0mHTTP_TIMEOUT\u001b[0m\u001b[0;34m)\u001b[0m\u001b[0;34m\u001b[0m\u001b[0m\n\u001b[0;32m--> 954\u001b[0;31m             \u001b[0m_\u001b[0m\u001b[0;34m,\u001b[0m \u001b[0mself\u001b[0m\u001b[0;34m.\u001b[0m\u001b[0m_upsert_run_thread\u001b[0m \u001b[0;34m=\u001b[0m \u001b[0masync_upsert\u001b[0m\u001b[0;34m(\u001b[0m\u001b[0;32mTrue\u001b[0m\u001b[0;34m,\u001b[0m \u001b[0mstorage_id\u001b[0m\u001b[0;34m,\u001b[0m \u001b[0menv\u001b[0m\u001b[0;34m)\u001b[0m\u001b[0;34m\u001b[0m\u001b[0m\n\u001b[0m\u001b[1;32m    955\u001b[0m             \u001b[0;32mif\u001b[0m \u001b[0mself\u001b[0m\u001b[0;34m.\u001b[0m\u001b[0m_upsert_run_thread\u001b[0m\u001b[0;34m.\u001b[0m\u001b[0mis_alive\u001b[0m\u001b[0;34m(\u001b[0m\u001b[0;34m)\u001b[0m\u001b[0;34m:\u001b[0m\u001b[0;34m\u001b[0m\u001b[0m\n\u001b[1;32m    956\u001b[0m                 logger.error(\"Failed to connect to W&B servers after %i seconds.\\\n",
      "\u001b[0;32m~/.local/lib/python3.6/site-packages/wandb/util.py\u001b[0m in \u001b[0;36mwrapper\u001b[0;34m(*args, **kwargs)\u001b[0m\n\u001b[1;32m    747\u001b[0m             \u001b[0mresult\u001b[0m \u001b[0;34m=\u001b[0m \u001b[0mq\u001b[0m\u001b[0;34m.\u001b[0m\u001b[0mget\u001b[0m\u001b[0;34m(\u001b[0m\u001b[0;32mTrue\u001b[0m\u001b[0;34m,\u001b[0m \u001b[0mtimeout\u001b[0m\u001b[0;34m)\u001b[0m\u001b[0;34m\u001b[0m\u001b[0m\n\u001b[1;32m    748\u001b[0m             \u001b[0;32mif\u001b[0m \u001b[0misinstance\u001b[0m\u001b[0;34m(\u001b[0m\u001b[0mresult\u001b[0m\u001b[0;34m,\u001b[0m \u001b[0mException\u001b[0m\u001b[0;34m)\u001b[0m\u001b[0;34m:\u001b[0m\u001b[0;34m\u001b[0m\u001b[0m\n\u001b[0;32m--> 749\u001b[0;31m                 \u001b[0msix\u001b[0m\u001b[0;34m.\u001b[0m\u001b[0mreraise\u001b[0m\u001b[0;34m(\u001b[0m\u001b[0mtype\u001b[0m\u001b[0;34m(\u001b[0m\u001b[0mresult\u001b[0m\u001b[0;34m)\u001b[0m\u001b[0;34m,\u001b[0m \u001b[0mresult\u001b[0m\u001b[0;34m,\u001b[0m \u001b[0msys\u001b[0m\u001b[0;34m.\u001b[0m\u001b[0mexc_info\u001b[0m\u001b[0;34m(\u001b[0m\u001b[0;34m)\u001b[0m\u001b[0;34m[\u001b[0m\u001b[0;36m2\u001b[0m\u001b[0;34m]\u001b[0m\u001b[0;34m)\u001b[0m\u001b[0;34m\u001b[0m\u001b[0m\n\u001b[0m\u001b[1;32m    750\u001b[0m             \u001b[0;32mreturn\u001b[0m \u001b[0mresult\u001b[0m\u001b[0;34m,\u001b[0m \u001b[0mthread\u001b[0m\u001b[0;34m\u001b[0m\u001b[0m\n\u001b[1;32m    751\u001b[0m         \u001b[0;32mexcept\u001b[0m \u001b[0mqueue\u001b[0m\u001b[0;34m.\u001b[0m\u001b[0mEmpty\u001b[0m\u001b[0;34m:\u001b[0m\u001b[0;34m\u001b[0m\u001b[0m\n",
      "\u001b[0;32m~/.local/lib/python3.6/site-packages/six.py\u001b[0m in \u001b[0;36mreraise\u001b[0;34m(tp, value, tb)\u001b[0m\n\u001b[1;32m    693\u001b[0m                 \u001b[0mvalue\u001b[0m \u001b[0;34m=\u001b[0m \u001b[0mtp\u001b[0m\u001b[0;34m(\u001b[0m\u001b[0;34m)\u001b[0m\u001b[0;34m\u001b[0m\u001b[0m\n\u001b[1;32m    694\u001b[0m             \u001b[0;32mif\u001b[0m \u001b[0mvalue\u001b[0m\u001b[0;34m.\u001b[0m\u001b[0m__traceback__\u001b[0m \u001b[0;32mis\u001b[0m \u001b[0;32mnot\u001b[0m \u001b[0mtb\u001b[0m\u001b[0;34m:\u001b[0m\u001b[0;34m\u001b[0m\u001b[0m\n\u001b[0;32m--> 695\u001b[0;31m                 \u001b[0;32mraise\u001b[0m \u001b[0mvalue\u001b[0m\u001b[0;34m.\u001b[0m\u001b[0mwith_traceback\u001b[0m\u001b[0;34m(\u001b[0m\u001b[0mtb\u001b[0m\u001b[0;34m)\u001b[0m\u001b[0;34m\u001b[0m\u001b[0m\n\u001b[0m\u001b[1;32m    696\u001b[0m             \u001b[0;32mraise\u001b[0m \u001b[0mvalue\u001b[0m\u001b[0;34m\u001b[0m\u001b[0m\n\u001b[1;32m    697\u001b[0m         \u001b[0;32mfinally\u001b[0m\u001b[0;34m:\u001b[0m\u001b[0;34m\u001b[0m\u001b[0m\n",
      "\u001b[0;31mBrokenPipeError\u001b[0m: [Errno 32] Broken pipe"
     ]
    }
   ],
   "source": [
    "from keras.callbacks import EarlyStopping, ReduceLROnPlateau\n",
    "from myutils import TrainingPlot\n",
    "\n",
    "\n",
    "plot_losses = TrainingPlot()\n",
    "es = EarlyStopping(monitor = \"val_loss\", patience = 20, restore_best_weights = True, verbose = 1)\n",
    "rl = ReduceLROnPlateau(monitor = \"val_loss\", patience = 10, cooldown=5, factor=0.5, verbose = 1)\n",
    "\n",
    "# fit model\n",
    "history = mmodel.fit(\n",
    "    train_input, train_targets,\n",
    "    epochs=200,#cfg.epochs,\n",
    "    batch_size = 512,#cfg.batch_size,\n",
    "    \n",
    "    verbose=1, \n",
    "    \n",
    "    #validation_data=ttest_generator, \n",
    "    #validation_steps = 6,\n",
    "    validation_data = (val_train, val_test),\n",
    "    \n",
    "    callbacks=[plot_losses, \n",
    "              es, rl,\n",
    "              wb(log_gradients=False, log_weights=False)\n",
    "              ]\n",
    ")"
   ]
  },
  {
   "cell_type": "code",
   "execution_count": 177,
   "metadata": {},
   "outputs": [],
   "source": [
    "model.save(\"lstm_mape_168input_single_24_step_ahead_y_10_18.h5\")"
   ]
  },
  {
   "cell_type": "code",
   "execution_count": 176,
   "metadata": {},
   "outputs": [
    {
     "name": "stdout",
     "output_type": "stream",
     "text": [
      "145/145 [==============================] - 1s 4ms/step\n"
     ]
    },
    {
     "data": {
      "text/plain": [
       "[0.0009851725916538772, 0.02499643258493522, 7.49378583184604]"
      ]
     },
     "execution_count": 176,
     "metadata": {},
     "output_type": "execute_result"
    }
   ],
   "source": [
    "model.evaluate(val_train,val_test)"
   ]
  },
  {
   "cell_type": "code",
   "execution_count": 117,
   "metadata": {},
   "outputs": [
    {
     "data": {
      "text/plain": [
       "array([[[0.5905],\n",
       "        [0.586 ],\n",
       "        [0.5455],\n",
       "        [0.478 ],\n",
       "        [0.4285],\n",
       "        [0.397 ],\n",
       "        [0.4015],\n",
       "        [0.4465],\n",
       "        [0.514 ],\n",
       "        [0.577 ],\n",
       "        [0.6175],\n",
       "        [0.6445],\n",
       "        [0.64  ],\n",
       "        [0.577 ],\n",
       "        [0.4825],\n",
       "        [0.397 ],\n",
       "        [0.3025],\n",
       "        [0.217 ],\n",
       "        [0.181 ],\n",
       "        [0.1855],\n",
       "        [0.2485],\n",
       "        [0.343 ],\n",
       "        [0.433 ],\n",
       "        [3.    ]]])"
      ]
     },
     "execution_count": 117,
     "metadata": {},
     "output_type": "execute_result"
    }
   ],
   "source": [
    "init_test_arr = series[-n_input+split_index:split_index]\n",
    "test_features = np.squeeze(init_test_arr, axis = -1).tolist()\n",
    "test_features.append(3)\n",
    "np.atleast_3d(test_features[-n_input:])"
   ]
  },
  {
   "cell_type": "code",
   "execution_count": 118,
   "metadata": {},
   "outputs": [
    {
     "data": {
      "text/plain": [
       "0.38776547"
      ]
     },
     "execution_count": 118,
     "metadata": {},
     "output_type": "execute_result"
    }
   ],
   "source": [
    "pred = model.predict(np.expand_dims(init_test_arr, axis = 0))\n",
    "pred[0][0]"
   ]
  },
  {
   "cell_type": "code",
   "execution_count": 136,
   "metadata": {
    "scrolled": true
   },
   "outputs": [
    {
     "data": {
      "text/plain": [
       "(0.017210841178894043,\n",
       " array([ 73,  80, 111,  71,  16,  17, 100,  27,  92, 101,  81,  98,  29,\n",
       "         99,  74,  91,  28,  51,  75,  15,  72,  14, 103,  63,  76,  70,\n",
       "         47,  77,  97,  82, 133,   7,  62,  33,  26,  79,  52, 102,  32,\n",
       "        118, 114,  93,  50,  45,  78, 110,  18, 143,  24,  31,  53,  61,\n",
       "         13, 129,  83,  30, 142,  25,  64, 112,  84,  12,   8,  96, 117,\n",
       "        113, 134,  60,  54, 144,  90, 128, 119,  11,  19, 104,  89,  39,\n",
       "         38,  34,  40, 115,   6,  37,  95,  44,  69,  88,  94, 116,  65,\n",
       "         85,  46,  48,  49,  36,   9,  86,  41,  10,  55, 141, 130,  87,\n",
       "        132, 108,  43,  67, 109, 105,  35,   5,  66,  42, 120,  56,  59,\n",
       "        131,  68, 127, 107,  57, 106,  58,  20, 126,   4, 121, 135,  23,\n",
       "        140,   3, 122, 125,   2, 138, 139, 137,  21, 124, 136,   1, 123,\n",
       "         22,   0]),\n",
       " [0.017210841178894043,\n",
       "  0.06016944348812103,\n",
       "  0.08085457235574722,\n",
       "  0.09634290635585785,\n",
       "  0.13583682477474213,\n",
       "  0.15075667202472687,\n",
       "  0.1675337702035904,\n",
       "  0.22810913622379303,\n",
       "  0.23815089464187622,\n",
       "  0.2826353907585144,\n",
       "  0.3332129120826721,\n",
       "  0.410647451877594,\n",
       "  0.48533520102500916,\n",
       "  0.4994033873081207,\n",
       "  0.5088405609130859,\n",
       "  0.570181131362915,\n",
       "  0.581463098526001,\n",
       "  0.6666091084480286,\n",
       "  0.7082162499427795,\n",
       "  0.9443863034248352,\n",
       "  1.0023472309112549,\n",
       "  1.037554144859314,\n",
       "  1.061596393585205,\n",
       "  1.0652886629104614,\n",
       "  1.1166592836380005,\n",
       "  1.1652384996414185,\n",
       "  1.2346161603927612,\n",
       "  1.2425132989883423,\n",
       "  1.2995436191558838,\n",
       "  1.3203179836273193,\n",
       "  1.3608348369598389,\n",
       "  1.4586843252182007,\n",
       "  1.5316311120986938,\n",
       "  1.5606859922409058,\n",
       "  1.6270567178726196,\n",
       "  1.7689526081085205,\n",
       "  1.7794294357299805,\n",
       "  1.7799792289733887,\n",
       "  1.8930323123931885,\n",
       "  1.8932617902755737,\n",
       "  1.9524967670440674,\n",
       "  2.155160427093506,\n",
       "  2.1635165214538574,\n",
       "  2.164093017578125,\n",
       "  2.218801975250244,\n",
       "  2.2196176052093506,\n",
       "  2.3469953536987305,\n",
       "  2.5084121227264404,\n",
       "  2.59883189201355,\n",
       "  2.6718320846557617,\n",
       "  2.6825482845306396,\n",
       "  3.1765222549438477,\n",
       "  3.178128957748413,\n",
       "  3.229405403137207,\n",
       "  3.2415266036987305,\n",
       "  3.3085241317749023,\n",
       "  3.318131446838379,\n",
       "  3.3536813259124756,\n",
       "  3.501157522201538,\n",
       "  3.57926869392395,\n",
       "  3.658615827560425,\n",
       "  3.700258493423462,\n",
       "  3.7008442878723145,\n",
       "  3.7133800983428955,\n",
       "  3.717744827270508,\n",
       "  3.788177013397217,\n",
       "  3.8748483657836914,\n",
       "  4.168815612792969,\n",
       "  4.416238784790039,\n",
       "  4.44193172454834,\n",
       "  4.974881172180176,\n",
       "  5.236847877502441,\n",
       "  5.334898471832275,\n",
       "  5.496940612792969,\n",
       "  5.519343852996826,\n",
       "  5.8461833000183105,\n",
       "  5.871082305908203,\n",
       "  5.909482955932617,\n",
       "  5.958495140075684,\n",
       "  6.22305965423584,\n",
       "  6.437200546264648,\n",
       "  6.511020660400391,\n",
       "  6.724215984344482,\n",
       "  6.874831676483154,\n",
       "  6.886651515960693,\n",
       "  7.239439487457275,\n",
       "  7.247282028198242,\n",
       "  7.252861499786377,\n",
       "  7.281963348388672,\n",
       "  7.330774307250977,\n",
       "  7.338775634765625,\n",
       "  7.380800724029541,\n",
       "  7.459290981292725,\n",
       "  7.553194522857666,\n",
       "  7.639593124389648,\n",
       "  7.719424247741699,\n",
       "  7.754472732543945,\n",
       "  7.776064395904541,\n",
       "  7.982625961303711,\n",
       "  8.322039604187012,\n",
       "  8.370168685913086,\n",
       "  8.564718246459961,\n",
       "  8.71072769165039,\n",
       "  9.074202537536621,\n",
       "  9.278799057006836,\n",
       "  9.354480743408203,\n",
       "  9.527494430541992,\n",
       "  9.574061393737793,\n",
       "  9.671157836914062,\n",
       "  9.671669006347656,\n",
       "  9.693855285644531,\n",
       "  10.037205696105957,\n",
       "  10.047578811645508,\n",
       "  10.195316314697266,\n",
       "  10.201778411865234,\n",
       "  10.203391075134277,\n",
       "  10.219907760620117,\n",
       "  10.225301742553711,\n",
       "  10.262492179870605,\n",
       "  10.262678146362305,\n",
       "  10.711543083190918,\n",
       "  10.730207443237305,\n",
       "  11.048050880432129,\n",
       "  11.562214851379395,\n",
       "  12.000422477722168,\n",
       "  12.410808563232422,\n",
       "  12.906601905822754,\n",
       "  14.006569862365723,\n",
       "  14.367087364196777,\n",
       "  15.115870475769043,\n",
       "  15.196646690368652,\n",
       "  15.282726287841797,\n",
       "  17.55698013305664,\n",
       "  18.052331924438477,\n",
       "  18.559627532958984,\n",
       "  19.115764617919922,\n",
       "  19.207632064819336,\n",
       "  21.60171890258789,\n",
       "  21.758846282958984,\n",
       "  22.884830474853516,\n",
       "  23.567630767822266,\n",
       "  23.943016052246094,\n",
       "  24.492023468017578,\n",
       "  26.90032958984375,\n",
       "  30.122638702392578])"
      ]
     },
     "execution_count": 136,
     "metadata": {},
     "output_type": "execute_result"
    }
   ],
   "source": [
    "pred_test = [model.evaluate(val_train[i:i+1], val_test[i:i+1],verbose = 0)[2] for i in range(len(val_train))]\n",
    "min(pred_test), np.argsort(pred_test), sorted(pred_test)"
   ]
  },
  {
   "cell_type": "code",
   "execution_count": 127,
   "metadata": {},
   "outputs": [
    {
     "name": "stdout",
     "output_type": "stream",
     "text": [
      "\r",
      "1/1 [==============================] - 0s 6ms/step\n"
     ]
    },
    {
     "data": {
      "text/plain": [
       "[0.007848039269447327, 0.08858916163444519, 23.943016052246094]"
      ]
     },
     "execution_count": 127,
     "metadata": {},
     "output_type": "execute_result"
    }
   ],
   "source": [
    "model.evaluate(val_train[1:2], val_test[1:2])"
   ]
  },
  {
   "cell_type": "code",
   "execution_count": 173,
   "metadata": {},
   "outputs": [],
   "source": [
    "def iterate_prediction(input_seq = series[-n_input+split_index:split_index], pred_len = 145):\n",
    "    init_test_arr = np.expand_dims(input_seq, axis = 0)\n",
    "    preds = []\n",
    "    for i in range(pred_len):\n",
    "        if i < 24: #evaluate on real data for \n",
    "            pred = model.predict(val_train[i])[0][0]\n",
    "            preds.append(pred)\n",
    "        else:\n",
    "            test_features = np.squeeze(np.squeeze(init_test_arr, axis = -1), axis = 0).tolist()\n",
    "            pred = model.predict(init_test_arr)[0][0]\n",
    "            preds.append(pred)\n",
    "            test_features.append(pred)\n",
    "            init_test_arr = np.atleast_3d(test_features[-n_input:])\n",
    "\n",
    "    return np.array(preds)\n",
    "\n",
    "preds = iterate_prediction()\n",
    "\n"
   ]
  },
  {
   "cell_type": "code",
   "execution_count": 142,
   "metadata": {},
   "outputs": [
    {
     "data": {
      "image/png": "[encoded data removed]",
      "text/plain": [
       "<Figure size 576x396 with 1 Axes>"
      ]
     },
     "metadata": {},
     "output_type": "display_data"
    }
   ],
   "source": [
    "real_preds = model.predict(test_input).flatten()\n",
    "real_data = series[split_index:].flatten()\n",
    "real_data = test_targets.flatten()\n",
    "\n",
    "def plot_preds(real_preds, real_data, preds):\n",
    "    plt.plot(real_preds, label = \"real data preds\")\n",
    "    plt.plot(preds, label = \"iterated preds\")\n",
    "    plt.plot(real_data, label = \"real data\")\n",
    "    plt.legend()\n",
    "    plt.show()\n",
    "\n",
    "plot_preds(real_preds, real_data, preds)"
   ]
  },
  {
   "cell_type": "code",
   "execution_count": 143,
   "metadata": {},
   "outputs": [
    {
     "data": {
      "text/plain": [
       "(array([0.298 , 0.37  , 0.433 , 0.469 , 0.4735, 0.442 , 0.3925, 0.3475,\n",
       "        0.3205, 0.325 ]),\n",
       " array([0.38776547, 0.36740372, 0.3463915 , 0.34148502, 0.36215848,\n",
       "        0.4001834 , 0.44403288, 0.48240864, 0.50723153, 0.51131105],\n",
       "       dtype=float32))"
      ]
     },
     "execution_count": 143,
     "metadata": {},
     "output_type": "execute_result"
    }
   ],
   "source": [
    "real_data[0:10],preds[0:10]"
   ]
  },
  {
   "cell_type": "code",
   "execution_count": 145,
   "metadata": {},
   "outputs": [
    {
     "data": {
      "text/plain": [
       "(168,)"
      ]
     },
     "execution_count": 145,
     "metadata": {},
     "output_type": "execute_result"
    }
   ],
   "source": [
    "preds.shape, real"
   ]
  },
  {
   "cell_type": "code",
   "execution_count": 150,
   "metadata": {},
   "outputs": [
    {
     "name": "stdout",
     "output_type": "stream",
     "text": [
      "6.685846363101211\n",
      "22.009122083351308\n"
     ]
    }
   ],
   "source": [
    "def calc_mape(real, pred):\n",
    "    return (100*np.abs(real-pred)/real/real.shape[0]).sum()\n",
    "print(calc_mape(real_data, real_preds)) #mape on real-data preds\n",
    "print(calc_mape(real_data, preds)) #mape on iterated preds\n",
    "#print(calc_mape(real_data[0:1], preds[0:1]))"
   ]
  },
  {
   "cell_type": "code",
   "execution_count": null,
   "metadata": {},
   "outputs": [],
   "source": []
  },
  {
   "cell_type": "code",
   "execution_count": null,
   "metadata": {},
   "outputs": [],
   "source": [
    "pred_generator = TimeseriesGenerator(series[-n_input + split_index:], series[-n_input + split_index:], length=n_input, batch_size=1)\n",
    "mmodel.predict_generator(test_generator, steps=1)[0]"
   ]
  },
  {
   "cell_type": "code",
   "execution_count": null,
   "metadata": {},
   "outputs": [],
   "source": [
    "test_series = series[split_index:]\n",
    "test_series[0]"
   ]
  },
  {
   "cell_type": "code",
   "execution_count": null,
   "metadata": {},
   "outputs": [],
   "source": [
    "mape = (test_series[0]-mmodel.predict_generator(test_generator, steps=1)[0])/test_series[0]\n",
    "mape"
   ]
  },
  {
   "cell_type": "code",
   "execution_count": null,
   "metadata": {
    "colab": {
     "base_uri": "https://localhost:8080/",
     "height": 286
    },
    "colab_type": "code",
    "id": "Pad46DGVBowW",
    "outputId": "6ba2717f-2b63-452c-91bf-0c76bccadb07"
   },
   "outputs": [],
   "source": [
    "#plt.plot(history1.history[\"mean_absolute_error\"], label = \"mae\")\n",
    "#plt.plot(history1.history[\"mean_absolute_percentage_error\"], label = \"mape\")\n",
    "#plt.plot(history1.history[\"val_mean_absolute_error\"], label = \"val_mae\")\n",
    "plt.plot(history1.history[\"val_mean_absolute_percentage_error\"], label = \"val_mse\")\n",
    "#plt.ylim((0,1))\n",
    "plt.legend()\n",
    "plt.plot()"
   ]
  },
  {
   "cell_type": "code",
   "execution_count": null,
   "metadata": {
    "colab": {
     "base_uri": "https://localhost:8080/",
     "height": 282
    },
    "colab_type": "code",
    "id": "9ALRSDjj_VnU",
    "outputId": "3308e8cf-ad8b-48b6-c5cf-b851e121b18b"
   },
   "outputs": [],
   "source": [
    "plt.plot(test_series[1:])\n",
    "plt.plot(model.predict_generator(test_generator)[:-1])"
   ]
  },
  {
   "cell_type": "code",
   "execution_count": null,
   "metadata": {
    "colab": {
     "base_uri": "https://localhost:8080/",
     "height": 573
    },
    "colab_type": "code",
    "id": "Dh8IRzS1_8pc",
    "outputId": "47afa134-8ba1-4f53-ca29-0634839bc53b"
   },
   "outputs": [],
   "source": [
    "for x, y in test_generator:\n",
    "  print(x)\n",
    "  print(\"#\")\n",
    "  print(y)\n",
    "  break"
   ]
  },
  {
   "cell_type": "code",
   "execution_count": null,
   "metadata": {
    "colab": {
     "base_uri": "https://localhost:8080/",
     "height": 34
    },
    "colab_type": "code",
    "id": "i3vS0-z69-oq",
    "outputId": "71c1104e-7a91-474a-ad96-e1970a45b155"
   },
   "outputs": [],
   "source": [
    "model.evaluate_generator(test_generator)"
   ]
  },
  {
   "cell_type": "code",
   "execution_count": null,
   "metadata": {
    "colab": {},
    "colab_type": "code",
    "id": "49Yndrey-Fcw"
   },
   "outputs": [],
   "source": []
  }
 ],
 "metadata": {
  "accelerator": "GPU",
  "colab": {
   "collapsed_sections": [],
   "name": "venice_lstm_test.ipynb",
   "provenance": []
  },
  "kernelspec": {
   "display_name": "Python 3",
   "language": "python",
   "name": "python3"
  },
  "language_info": {
   "codemirror_mode": {
    "name": "ipython",
    "version": 3
   },
   "file_extension": ".py",
   "mimetype": "text/x-python",
   "name": "python",
   "nbconvert_exporter": "python",
   "pygments_lexer": "ipython3",
   "version": "3.6.3"
  }
 },
 "nbformat": 4,
 "nbformat_minor": 1
}
