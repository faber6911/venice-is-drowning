{
 "cells": [
  {
   "cell_type": "code",
   "execution_count": 2,
   "metadata": {},
   "outputs": [
    {
     "data": {
      "text/html": [
       "<div>\n",
       "<style scoped>\n",
       "    .dataframe tbody tr th:only-of-type {\n",
       "        vertical-align: middle;\n",
       "    }\n",
       "\n",
       "    .dataframe tbody tr th {\n",
       "        vertical-align: top;\n",
       "    }\n",
       "\n",
       "    .dataframe thead th {\n",
       "        text-align: right;\n",
       "    }\n",
       "</style>\n",
       "<table border=\"1\" class=\"dataframe\">\n",
       "  <thead>\n",
       "    <tr style=\"text-align: right;\">\n",
       "      <th></th>\n",
       "      <th>datetime</th>\n",
       "      <th>level</th>\n",
       "      <th>rain</th>\n",
       "      <th>vel_wind</th>\n",
       "      <th>dir_wind</th>\n",
       "      <th>level_std</th>\n",
       "      <th>level_scaled</th>\n",
       "      <th>dist</th>\n",
       "      <th>dist_std</th>\n",
       "      <th>dist_scaled</th>\n",
       "      <th>ts</th>\n",
       "      <th>inv_dist</th>\n",
       "      <th>inv_dist_std</th>\n",
       "      <th>inv_dist_scaled</th>\n",
       "      <th>inv_dist_2</th>\n",
       "      <th>inv_dist_2_std</th>\n",
       "      <th>inv_dist_2_scaled</th>\n",
       "    </tr>\n",
       "  </thead>\n",
       "  <tbody>\n",
       "    <tr>\n",
       "      <th>0</th>\n",
       "      <td>2010-01-01 00:00:00</td>\n",
       "      <td>102.0</td>\n",
       "      <td>0.0</td>\n",
       "      <td>0.2</td>\n",
       "      <td>337.5</td>\n",
       "      <td>2.461852</td>\n",
       "      <td>0.763636</td>\n",
       "      <td>353510.208614</td>\n",
       "      <td>-2.034933</td>\n",
       "      <td>0.043682</td>\n",
       "      <td>1262304000000000000</td>\n",
       "      <td>0.000003</td>\n",
       "      <td>2.156252</td>\n",
       "      <td>0.949046</td>\n",
       "      <td>8.001955e-12</td>\n",
       "      <td>2.219529</td>\n",
       "      <td>0.945147</td>\n",
       "    </tr>\n",
       "    <tr>\n",
       "      <th>1</th>\n",
       "      <td>2010-01-01 01:00:00</td>\n",
       "      <td>100.0</td>\n",
       "      <td>0.0</td>\n",
       "      <td>0.7</td>\n",
       "      <td>315.0</td>\n",
       "      <td>2.389875</td>\n",
       "      <td>0.754545</td>\n",
       "      <td>353731.458075</td>\n",
       "      <td>-2.020637</td>\n",
       "      <td>0.047277</td>\n",
       "      <td>1262307600000000000</td>\n",
       "      <td>0.000003</td>\n",
       "      <td>2.139458</td>\n",
       "      <td>0.944887</td>\n",
       "      <td>7.991948e-12</td>\n",
       "      <td>2.201361</td>\n",
       "      <td>0.940688</td>\n",
       "    </tr>\n",
       "    <tr>\n",
       "      <th>2</th>\n",
       "      <td>2010-01-01 02:00:00</td>\n",
       "      <td>86.0</td>\n",
       "      <td>0.0</td>\n",
       "      <td>1.5</td>\n",
       "      <td>247.5</td>\n",
       "      <td>1.886035</td>\n",
       "      <td>0.690909</td>\n",
       "      <td>354197.433405</td>\n",
       "      <td>-1.990529</td>\n",
       "      <td>0.054849</td>\n",
       "      <td>1262311200000000000</td>\n",
       "      <td>0.000003</td>\n",
       "      <td>2.104155</td>\n",
       "      <td>0.936144</td>\n",
       "      <td>7.970933e-12</td>\n",
       "      <td>2.163208</td>\n",
       "      <td>0.931324</td>\n",
       "    </tr>\n",
       "    <tr>\n",
       "      <th>3</th>\n",
       "      <td>2010-01-01 03:00:00</td>\n",
       "      <td>74.0</td>\n",
       "      <td>0.0</td>\n",
       "      <td>1.3</td>\n",
       "      <td>247.5</td>\n",
       "      <td>1.454172</td>\n",
       "      <td>0.636364</td>\n",
       "      <td>354875.253700</td>\n",
       "      <td>-1.946732</td>\n",
       "      <td>0.065863</td>\n",
       "      <td>1262314800000000000</td>\n",
       "      <td>0.000003</td>\n",
       "      <td>2.052969</td>\n",
       "      <td>0.923467</td>\n",
       "      <td>7.940513e-12</td>\n",
       "      <td>2.107977</td>\n",
       "      <td>0.917768</td>\n",
       "    </tr>\n",
       "    <tr>\n",
       "      <th>4</th>\n",
       "      <td>2010-01-01 04:00:00</td>\n",
       "      <td>65.0</td>\n",
       "      <td>0.0</td>\n",
       "      <td>1.3</td>\n",
       "      <td>247.5</td>\n",
       "      <td>1.130275</td>\n",
       "      <td>0.595455</td>\n",
       "      <td>355718.662776</td>\n",
       "      <td>-1.892236</td>\n",
       "      <td>0.079569</td>\n",
       "      <td>1262318400000000000</td>\n",
       "      <td>0.000003</td>\n",
       "      <td>1.989551</td>\n",
       "      <td>0.907761</td>\n",
       "      <td>7.902904e-12</td>\n",
       "      <td>2.039695</td>\n",
       "      <td>0.901010</td>\n",
       "    </tr>\n",
       "  </tbody>\n",
       "</table>\n",
       "</div>"
      ],
      "text/plain": [
       "              datetime  level  rain  vel_wind  dir_wind  level_std  \\\n",
       "0  2010-01-01 00:00:00  102.0   0.0       0.2     337.5   2.461852   \n",
       "1  2010-01-01 01:00:00  100.0   0.0       0.7     315.0   2.389875   \n",
       "2  2010-01-01 02:00:00   86.0   0.0       1.5     247.5   1.886035   \n",
       "3  2010-01-01 03:00:00   74.0   0.0       1.3     247.5   1.454172   \n",
       "4  2010-01-01 04:00:00   65.0   0.0       1.3     247.5   1.130275   \n",
       "\n",
       "   level_scaled           dist  dist_std  dist_scaled                   ts  \\\n",
       "0      0.763636  353510.208614 -2.034933     0.043682  1262304000000000000   \n",
       "1      0.754545  353731.458075 -2.020637     0.047277  1262307600000000000   \n",
       "2      0.690909  354197.433405 -1.990529     0.054849  1262311200000000000   \n",
       "3      0.636364  354875.253700 -1.946732     0.065863  1262314800000000000   \n",
       "4      0.595455  355718.662776 -1.892236     0.079569  1262318400000000000   \n",
       "\n",
       "   inv_dist  inv_dist_std  inv_dist_scaled    inv_dist_2  inv_dist_2_std  \\\n",
       "0  0.000003      2.156252         0.949046  8.001955e-12        2.219529   \n",
       "1  0.000003      2.139458         0.944887  7.991948e-12        2.201361   \n",
       "2  0.000003      2.104155         0.936144  7.970933e-12        2.163208   \n",
       "3  0.000003      2.052969         0.923467  7.940513e-12        2.107977   \n",
       "4  0.000003      1.989551         0.907761  7.902904e-12        2.039695   \n",
       "\n",
       "   inv_dist_2_scaled  \n",
       "0           0.945147  \n",
       "1           0.940688  \n",
       "2           0.931324  \n",
       "3           0.917768  \n",
       "4           0.901010  "
      ]
     },
     "execution_count": 2,
     "metadata": {},
     "output_type": "execute_result"
    }
   ],
   "source": [
    "df = pd.read_csv(\"../data/df_final_processed.csv\", index_col = 0)\n",
    "df.head()"
   ]
  },
  {
   "cell_type": "markdown",
   "metadata": {},
   "source": [
    "# Creating dummy columns with extreme values"
   ]
  },
  {
   "cell_type": "code",
   "execution_count": 7,
   "metadata": {},
   "outputs": [
    {
     "data": {
      "text/plain": [
       "count    78888.000000\n",
       "mean         0.090782\n",
       "std          0.744970\n",
       "min          0.000000\n",
       "25%          0.000000\n",
       "50%          0.000000\n",
       "75%          0.000000\n",
       "max         66.400000\n",
       "Name: rain, dtype: float64"
      ]
     },
     "execution_count": 7,
     "metadata": {},
     "output_type": "execute_result"
    }
   ],
   "source": [
    "df.rain.describe()"
   ]
  },
  {
   "cell_type": "code",
   "execution_count": 35,
   "metadata": {},
   "outputs": [
    {
     "name": "stdout",
     "output_type": "stream",
     "text": [
      "0.99 2.4\n",
      "0.991 2.6\n",
      "0.992 2.8\n",
      "0.993 3.0\n",
      "0.994 3.3999999999999995\n",
      "0.995 3.8\n",
      "0.996 4.4\n",
      "0.997 5.2\n",
      "0.998 6.6\n",
      "0.999 9.6\n",
      "1.0 66.4\n"
     ]
    }
   ],
   "source": [
    "\n",
    "for i in np.arange(0.99, 1.,0.001):\n",
    "    print(i,df.rain.quantile(i))"
   ]
  },
  {
   "cell_type": "code",
   "execution_count": 36,
   "metadata": {},
   "outputs": [
    {
     "data": {
      "text/plain": [
       "2.4"
      ]
     },
     "execution_count": 36,
     "metadata": {},
     "output_type": "execute_result"
    }
   ],
   "source": [
    "threshold = df.rain.quantile(0.99)\n",
    "threshold"
   ]
  },
  {
   "cell_type": "code",
   "execution_count": 37,
   "metadata": {},
   "outputs": [],
   "source": [
    "df[\"dummy_rain\"] = df.rain.map(lambda x: 0 if x < threshold else 1)"
   ]
  },
  {
   "cell_type": "code",
   "execution_count": 40,
   "metadata": {},
   "outputs": [
    {
     "data": {
      "text/plain": [
       "78888"
      ]
     },
     "execution_count": 40,
     "metadata": {},
     "output_type": "execute_result"
    }
   ],
   "source": [
    "df.dummy_rain."
   ]
  },
  {
   "cell_type": "code",
   "execution_count": 41,
   "metadata": {},
   "outputs": [],
   "source": [
    "df.to_csv(\"../data/df_final_processed.csv\")"
   ]
  },
  {
   "cell_type": "code",
   "execution_count": 38,
   "metadata": {},
   "outputs": [
    {
     "name": "stderr",
     "output_type": "stream",
     "text": [
      "/usr/lib/python3/dist-packages/ipykernel_launcher.py:1: FutureWarning: The signature of `Series.to_csv` was aligned to that of `DataFrame.to_csv`, and argument 'header' will change its default value from False to True: please pass an explicit value to suppress this warning.\n",
      "  \"\"\"Entry point for launching an IPython kernel.\n"
     ]
    }
   ],
   "source": [
    "df.dummy_rain.to_csv(\"../data/output/df_rain_dummy.csv\", index = False)"
   ]
  },
  {
   "cell_type": "code",
   "execution_count": 17,
   "metadata": {},
   "outputs": [
    {
     "data": {
      "text/plain": [
       "0.0"
      ]
     },
     "execution_count": 17,
     "metadata": {},
     "output_type": "execute_result"
    }
   ],
   "source": [
    "df.rain.median()"
   ]
  },
  {
   "cell_type": "code",
   "execution_count": 21,
   "metadata": {},
   "outputs": [
    {
     "data": {
      "text/plain": [
       "((95,), 78888)"
      ]
     },
     "execution_count": 21,
     "metadata": {},
     "output_type": "execute_result"
    }
   ],
   "source": [
    "df.rain.unique().shape, len(df.rain)"
   ]
  },
  {
   "cell_type": "code",
   "execution_count": 28,
   "metadata": {
    "scrolled": true
   },
   "outputs": [
    {
     "name": "stdout",
     "output_type": "stream",
     "text": [
      "0.0 73860\n",
      "0.2 1462\n",
      "0.4 697\n",
      "0.6 457\n",
      "0.8 376\n",
      "1.0 300\n",
      "1.2 241\n",
      "1.4 182\n",
      "1.6 160\n",
      "1.8 135\n",
      "2.0 109\n",
      "2.2 106\n",
      "2.4 89\n",
      "2.6 81\n",
      "2.8 66\n",
      "3.0 49\n",
      "3.2 43\n",
      "3.6 42\n",
      "3.4 35\n",
      "3.8 29\n",
      "4.4 28\n",
      "5.0 22\n",
      "4.0 21\n",
      "4.2 19\n",
      "4.8 18\n",
      "5.4 16\n",
      "6.4 14\n",
      "5.6 14\n",
      "6.6 14\n",
      "5.8 13\n",
      "4.6 13\n",
      "5.2 12\n",
      "7.4 12\n",
      "6.8 11\n",
      "6.0 8\n",
      "7.6 8\n",
      "6.2 7\n",
      "10.0 6\n",
      "8.0 6\n",
      "9.2 5\n",
      "8.8 5\n",
      "12.2 5\n",
      "9.4 5\n",
      "10.8 4\n",
      "7.2 4\n",
      "8.6 4\n",
      "11.4 3\n",
      "8.2 3\n",
      "10.4 3\n",
      "9.8 3\n",
      "11.6 3\n",
      "10.6 3\n",
      "11.2 3\n",
      "9.6 3\n",
      "7.0 3\n",
      "14.2 2\n",
      "21.0 2\n",
      "14.8 2\n",
      "12.0 2\n",
      "10.2 2\n",
      "18.8 2\n",
      "8.4 2\n",
      "11.8 2\n",
      "17.8 1\n",
      "17.2 1\n",
      "7.8 1\n",
      "18.0 1\n",
      "17.4 1\n",
      "13.6 1\n",
      "14.6 1\n",
      "38.4 1\n",
      "16.6 1\n",
      "21.4 1\n",
      "30.2 1\n",
      "13.4 1\n",
      "35.8 1\n",
      "35.6 1\n",
      "18.2 1\n",
      "13.2 1\n",
      "23.0 1\n",
      "15.4 1\n",
      "16.8 1\n",
      "36.0 1\n",
      "15.0 1\n",
      "15.2 1\n",
      "9.0 1\n",
      "19.2 1\n",
      "66.4 1\n",
      "38.6 1\n",
      "13.0 1\n",
      "15.8 1\n",
      "33.4 1\n",
      "20.8 1\n",
      "16.2 1\n",
      "16.4 1\n"
     ]
    }
   ],
   "source": [
    "a = df.rain.value_counts()\n",
    "\n",
    "for index, elem in enumerate(a): \n",
    "    print(a.index[index],elem)"
   ]
  },
  {
   "cell_type": "code",
   "execution_count": 16,
   "metadata": {},
   "outputs": [
    {
     "data": {
      "text/plain": [
       "(0, 1)"
      ]
     },
     "execution_count": 16,
     "metadata": {},
     "output_type": "execute_result"
    },
    {
     "data": {
      "image/png": "[encoded data removed]",
      "text/plain": [
       "<Figure size 432x288 with 1 Axes>"
      ]
     },
     "metadata": {
      "needs_background": "light"
     },
     "output_type": "display_data"
    }
   ],
   "source": [
    "sns.distplot(df.rain.map(lambda x : np.log(x+0.0001)))\n",
    "plt.xlim((-10,10))\n",
    "plt.ylim((0,1))"
   ]
  },
  {
   "cell_type": "code",
   "execution_count": 39,
   "metadata": {},
   "outputs": [
    {
     "data": {
      "text/plain": [
       "0.6     3113\n",
       "0.5     3111\n",
       "0.4     3084\n",
       "0.8     3052\n",
       "0.7     3018\n",
       "        ... \n",
       "8.3        1\n",
       "8.4        1\n",
       "9.6        1\n",
       "8.8        1\n",
       "10.4       1\n",
       "Name: vel_wind, Length: 91, dtype: int64"
      ]
     },
     "execution_count": 39,
     "metadata": {},
     "output_type": "execute_result"
    }
   ],
   "source": [
    "df.vel_wind.value_counts()"
   ]
  },
  {
   "cell_type": "code",
   "execution_count": 45,
   "metadata": {},
   "outputs": [
    {
     "data": {
      "text/plain": [
       "False"
      ]
     },
     "execution_count": 45,
     "metadata": {},
     "output_type": "execute_result"
    }
   ],
   "source": [
    "df.vel_wind.isna().any()"
   ]
  },
  {
   "cell_type": "code",
   "execution_count": 55,
   "metadata": {},
   "outputs": [],
   "source": [
    "df[\"vel_wind_kmh\"] = 3.6*df.vel_wind"
   ]
  },
  {
   "cell_type": "code",
   "execution_count": 57,
   "metadata": {},
   "outputs": [
    {
     "data": {
      "text/plain": [
       "<matplotlib.axes._subplots.AxesSubplot at 0x7f64d6262190>"
      ]
     },
     "execution_count": 57,
     "metadata": {},
     "output_type": "execute_result"
    },
    {
     "data": {
      "image/png": "[encoded data removed]",
      "text/plain": [
       "<Figure size 432x288 with 1 Axes>"
      ]
     },
     "metadata": {
      "needs_background": "light"
     },
     "output_type": "display_data"
    }
   ],
   "source": [
    "sns.distplot(df.vel_wind_kmh.apply(lambda x: np.log(x+0.0000001)))\n",
    "sns.distplot(df.vel_wind_kmh)"
   ]
  },
  {
   "cell_type": "code",
   "execution_count": 61,
   "metadata": {},
   "outputs": [
    {
     "name": "stdout",
     "output_type": "stream",
     "text": [
      "0.9 10.44\n",
      "0.91 10.8\n",
      "0.92 11.16\n",
      "0.93 11.879999999999999\n",
      "0.9400000000000001 12.239999999999998\n",
      "0.9500000000000001 12.96\n",
      "0.9600000000000001 13.68\n",
      "0.9700000000000001 14.759999999999998\n",
      "0.9800000000000001 16.2\n",
      "0.9900000000000001 18.36\n"
     ]
    }
   ],
   "source": [
    "for i in np.arange(0.9, 1.,0.01):\n",
    "    print(i,df.vel_wind_kmh.quantile(i))"
   ]
  },
  {
   "cell_type": "code",
   "execution_count": 54,
   "metadata": {},
   "outputs": [
    {
     "data": {
      "text/plain": [
       "2.16     3113\n",
       "1.80     3111\n",
       "1.44     3084\n",
       "2.88     3052\n",
       "2.52     3018\n",
       "         ... \n",
       "35.64       1\n",
       "34.56       1\n",
       "30.24       1\n",
       "31.68       1\n",
       "37.44       1\n",
       "Name: vel_wind, Length: 91, dtype: int64"
      ]
     },
     "execution_count": 54,
     "metadata": {},
     "output_type": "execute_result"
    }
   ],
   "source": [
    "(3.6*df.vel_wind).value_counts()"
   ]
  },
  {
   "cell_type": "code",
   "execution_count": 68,
   "metadata": {},
   "outputs": [],
   "source": [
    "th_wind = df.vel_wind_kmh.quantile(0.99)"
   ]
  },
  {
   "cell_type": "code",
   "execution_count": 62,
   "metadata": {},
   "outputs": [
    {
     "data": {
      "text/plain": [
       "(763,)"
      ]
     },
     "execution_count": 62,
     "metadata": {},
     "output_type": "execute_result"
    }
   ],
   "source": [
    "df.vel_wind_kmh[df.vel_wind_kmh>df.vel_wind_kmh.quantile(0.99)].shape"
   ]
  },
  {
   "cell_type": "code",
   "execution_count": 69,
   "metadata": {},
   "outputs": [],
   "source": [
    "df[\"vel_wind_dummy\"] = df.vel_wind_kmh.apply(lambda x: 0 if x < th_wind else 1)"
   ]
  },
  {
   "cell_type": "code",
   "execution_count": null,
   "metadata": {},
   "outputs": [],
   "source": [
    "df.to_csv(\"../data/df_final_processed.csv\")"
   ]
  }
 ],
 "metadata": {
  "kernelspec": {
   "display_name": "Python 3",
   "language": "python",
   "name": "python3"
  },
  "language_info": {
   "codemirror_mode": {
    "name": "ipython",
    "version": 3
   },
   "file_extension": ".py",
   "mimetype": "text/x-python",
   "name": "python",
   "nbconvert_exporter": "python",
   "pygments_lexer": "ipython3",
   "version": "3.7.5"
  }
 },
 "nbformat": 4,
 "nbformat_minor": 2
}
