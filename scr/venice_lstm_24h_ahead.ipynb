{
 "cells": [
  {
   "cell_type": "code",
   "execution_count": 2,
   "metadata": {},
   "outputs": [],
   "source": [
    "check_setup = False\n",
    "if check_setup:\n",
    "    \n",
    "    import os\n",
    "    os.environ['TF_CPP_MIN_LOG_LEVEL'] = '2' \n",
    "    import tensorflow as tf\n",
    "    from keras import backend as K\n",
    "\n",
    "    set_gpu=True\n",
    "\n",
    "    if set_gpu:\n",
    "        os.environ[\"CUDA_DEVICE_ORDER\"]=\"PCI_BUS_ID\";  # The GPU id to use, usually either \"0\" or \"1\";\n",
    "        os.environ[\"CUDA_VISIBLE_DEVICES\"]=\"0\";  # Do other imports now...\n",
    "        print(os.environ[\"CUDA_VISIBLE_DEVICES\"])\n",
    "\n",
    "\n",
    "        num_cores = 39\n",
    "\n",
    "        GPU=True\n",
    "        CPU=False\n",
    "\n",
    "        if GPU:\n",
    "            num_GPU = 1\n",
    "            num_CPU = 1\n",
    "        if CPU:\n",
    "            num_CPU = 1\n",
    "            num_GPU = 0\n",
    "\n",
    "        config = tf.ConfigProto(intra_op_parallelism_threads=num_cores,\n",
    "                                inter_op_parallelism_threads=num_cores, \n",
    "                                allow_soft_placement=True,\n",
    "                                device_count = {'CPU' : num_CPU,\n",
    "                                                'GPU' : num_GPU}\n",
    "                               )\n",
    "\n",
    "        session = tf.Session(config=config)\n",
    "        K.set_session(session)\n"
   ]
  },
  {
   "cell_type": "code",
   "execution_count": 3,
   "metadata": {
    "colab": {
     "base_uri": "https://localhost:8080/",
     "height": 208
    },
    "colab_type": "code",
    "id": "VYyvPbEZ7sCY",
    "outputId": "081dc96e-0f2a-4345-b237-9ed7ce7c8b3e"
   },
   "outputs": [],
   "source": [
    "#!wget https://raw.githubusercontent.com/DBertazioli/host/master/datas/df_final_processed.csv"
   ]
  },
  {
   "cell_type": "code",
   "execution_count": null,
   "metadata": {
    "colab": {
     "base_uri": "https://localhost:8080/",
     "height": 173
    },
    "colab_type": "code",
    "id": "14JMWnZb8Ead",
    "outputId": "31cd36c0-bc29-4c73-e0bc-0af9cad920dc"
   },
   "outputs": [],
   "source": [
    "#!pip install pyforest\n",
    "#from pyforest import *\n",
    "import pandas as pd\n",
    "import numpy as np\n",
    "from matplotlib import pyplot as plt\n",
    "import keras"
   ]
  },
  {
   "cell_type": "markdown",
   "metadata": {},
   "source": [
    "# Data Loading and Processing"
   ]
  },
  {
   "cell_type": "code",
   "execution_count": 82,
   "metadata": {
    "colab": {
     "base_uri": "https://localhost:8080/",
     "height": 173
    },
    "colab_type": "code",
    "id": "14JMWnZb8Ead",
    "outputId": "31cd36c0-bc29-4c73-e0bc-0af9cad920dc"
   },
   "outputs": [
    {
     "data": {
      "text/html": [
       "<div>\n",
       "<style scoped>\n",
       "    .dataframe tbody tr th:only-of-type {\n",
       "        vertical-align: middle;\n",
       "    }\n",
       "\n",
       "    .dataframe tbody tr th {\n",
       "        vertical-align: top;\n",
       "    }\n",
       "\n",
       "    .dataframe thead th {\n",
       "        text-align: right;\n",
       "    }\n",
       "</style>\n",
       "<table border=\"1\" class=\"dataframe\">\n",
       "  <thead>\n",
       "    <tr style=\"text-align: right;\">\n",
       "      <th></th>\n",
       "      <th>datetime</th>\n",
       "      <th>level</th>\n",
       "      <th>rain</th>\n",
       "      <th>vel_wind</th>\n",
       "      <th>dir_wind</th>\n",
       "      <th>level_std</th>\n",
       "      <th>level_scaled</th>\n",
       "      <th>dist</th>\n",
       "      <th>dist_std</th>\n",
       "      <th>dist_scaled</th>\n",
       "      <th>ts</th>\n",
       "      <th>inv_dist</th>\n",
       "      <th>inv_dist_std</th>\n",
       "      <th>inv_dist_scaled</th>\n",
       "      <th>inv_dist_2</th>\n",
       "      <th>inv_dist_2_std</th>\n",
       "      <th>inv_dist_2_scaled</th>\n",
       "      <th>dummy_rain</th>\n",
       "      <th>vel_wind_kmh</th>\n",
       "      <th>vel_wind_dummy</th>\n",
       "    </tr>\n",
       "  </thead>\n",
       "  <tbody>\n",
       "    <tr>\n",
       "      <th>0</th>\n",
       "      <td>2010-01-01 00:00:00</td>\n",
       "      <td>102.0</td>\n",
       "      <td>0.0</td>\n",
       "      <td>0.2</td>\n",
       "      <td>337.5</td>\n",
       "      <td>2.461852</td>\n",
       "      <td>0.763636</td>\n",
       "      <td>353510.208614</td>\n",
       "      <td>-2.034933</td>\n",
       "      <td>0.043682</td>\n",
       "      <td>1262304000000000000</td>\n",
       "      <td>0.000003</td>\n",
       "      <td>2.156252</td>\n",
       "      <td>0.949046</td>\n",
       "      <td>8.001955e-12</td>\n",
       "      <td>2.219529</td>\n",
       "      <td>0.945147</td>\n",
       "      <td>0</td>\n",
       "      <td>0.72</td>\n",
       "      <td>0</td>\n",
       "    </tr>\n",
       "    <tr>\n",
       "      <th>1</th>\n",
       "      <td>2010-01-01 01:00:00</td>\n",
       "      <td>100.0</td>\n",
       "      <td>0.0</td>\n",
       "      <td>0.7</td>\n",
       "      <td>315.0</td>\n",
       "      <td>2.389875</td>\n",
       "      <td>0.754545</td>\n",
       "      <td>353731.458075</td>\n",
       "      <td>-2.020637</td>\n",
       "      <td>0.047277</td>\n",
       "      <td>1262307600000000000</td>\n",
       "      <td>0.000003</td>\n",
       "      <td>2.139458</td>\n",
       "      <td>0.944887</td>\n",
       "      <td>7.991948e-12</td>\n",
       "      <td>2.201361</td>\n",
       "      <td>0.940688</td>\n",
       "      <td>0</td>\n",
       "      <td>2.52</td>\n",
       "      <td>0</td>\n",
       "    </tr>\n",
       "    <tr>\n",
       "      <th>2</th>\n",
       "      <td>2010-01-01 02:00:00</td>\n",
       "      <td>86.0</td>\n",
       "      <td>0.0</td>\n",
       "      <td>1.5</td>\n",
       "      <td>247.5</td>\n",
       "      <td>1.886035</td>\n",
       "      <td>0.690909</td>\n",
       "      <td>354197.433405</td>\n",
       "      <td>-1.990529</td>\n",
       "      <td>0.054849</td>\n",
       "      <td>1262311200000000000</td>\n",
       "      <td>0.000003</td>\n",
       "      <td>2.104155</td>\n",
       "      <td>0.936144</td>\n",
       "      <td>7.970933e-12</td>\n",
       "      <td>2.163208</td>\n",
       "      <td>0.931324</td>\n",
       "      <td>0</td>\n",
       "      <td>5.40</td>\n",
       "      <td>0</td>\n",
       "    </tr>\n",
       "    <tr>\n",
       "      <th>3</th>\n",
       "      <td>2010-01-01 03:00:00</td>\n",
       "      <td>74.0</td>\n",
       "      <td>0.0</td>\n",
       "      <td>1.3</td>\n",
       "      <td>247.5</td>\n",
       "      <td>1.454172</td>\n",
       "      <td>0.636364</td>\n",
       "      <td>354875.253700</td>\n",
       "      <td>-1.946732</td>\n",
       "      <td>0.065863</td>\n",
       "      <td>1262314800000000000</td>\n",
       "      <td>0.000003</td>\n",
       "      <td>2.052969</td>\n",
       "      <td>0.923467</td>\n",
       "      <td>7.940513e-12</td>\n",
       "      <td>2.107977</td>\n",
       "      <td>0.917768</td>\n",
       "      <td>0</td>\n",
       "      <td>4.68</td>\n",
       "      <td>0</td>\n",
       "    </tr>\n",
       "    <tr>\n",
       "      <th>4</th>\n",
       "      <td>2010-01-01 04:00:00</td>\n",
       "      <td>65.0</td>\n",
       "      <td>0.0</td>\n",
       "      <td>1.3</td>\n",
       "      <td>247.5</td>\n",
       "      <td>1.130275</td>\n",
       "      <td>0.595455</td>\n",
       "      <td>355718.662776</td>\n",
       "      <td>-1.892236</td>\n",
       "      <td>0.079569</td>\n",
       "      <td>1262318400000000000</td>\n",
       "      <td>0.000003</td>\n",
       "      <td>1.989551</td>\n",
       "      <td>0.907761</td>\n",
       "      <td>7.902904e-12</td>\n",
       "      <td>2.039695</td>\n",
       "      <td>0.901010</td>\n",
       "      <td>0</td>\n",
       "      <td>4.68</td>\n",
       "      <td>0</td>\n",
       "    </tr>\n",
       "  </tbody>\n",
       "</table>\n",
       "</div>"
      ],
      "text/plain": [
       "              datetime  level  rain  vel_wind  dir_wind  level_std  \\\n",
       "0  2010-01-01 00:00:00  102.0   0.0       0.2     337.5   2.461852   \n",
       "1  2010-01-01 01:00:00  100.0   0.0       0.7     315.0   2.389875   \n",
       "2  2010-01-01 02:00:00   86.0   0.0       1.5     247.5   1.886035   \n",
       "3  2010-01-01 03:00:00   74.0   0.0       1.3     247.5   1.454172   \n",
       "4  2010-01-01 04:00:00   65.0   0.0       1.3     247.5   1.130275   \n",
       "\n",
       "   level_scaled           dist  dist_std  dist_scaled                   ts  \\\n",
       "0      0.763636  353510.208614 -2.034933     0.043682  1262304000000000000   \n",
       "1      0.754545  353731.458075 -2.020637     0.047277  1262307600000000000   \n",
       "2      0.690909  354197.433405 -1.990529     0.054849  1262311200000000000   \n",
       "3      0.636364  354875.253700 -1.946732     0.065863  1262314800000000000   \n",
       "4      0.595455  355718.662776 -1.892236     0.079569  1262318400000000000   \n",
       "\n",
       "   inv_dist  inv_dist_std  inv_dist_scaled    inv_dist_2  inv_dist_2_std  \\\n",
       "0  0.000003      2.156252         0.949046  8.001955e-12        2.219529   \n",
       "1  0.000003      2.139458         0.944887  7.991948e-12        2.201361   \n",
       "2  0.000003      2.104155         0.936144  7.970933e-12        2.163208   \n",
       "3  0.000003      2.052969         0.923467  7.940513e-12        2.107977   \n",
       "4  0.000003      1.989551         0.907761  7.902904e-12        2.039695   \n",
       "\n",
       "   inv_dist_2_scaled  dummy_rain  vel_wind_kmh  vel_wind_dummy  \n",
       "0           0.945147           0          0.72               0  \n",
       "1           0.940688           0          2.52               0  \n",
       "2           0.931324           0          5.40               0  \n",
       "3           0.917768           0          4.68               0  \n",
       "4           0.901010           0          4.68               0  "
      ]
     },
     "execution_count": 82,
     "metadata": {},
     "output_type": "execute_result"
    }
   ],
   "source": [
    "df = pd.read_csv(\"../data/df_final_processed.csv\", index_col = 0)\n",
    "df.head()"
   ]
  },
  {
   "cell_type": "markdown",
   "metadata": {},
   "source": [
    "Scaling the series in a (0.01, 1) range for the lstm treatment, being careful not to generate problems with mape evaluation."
   ]
  },
  {
   "cell_type": "code",
   "execution_count": 83,
   "metadata": {
    "colab": {
     "base_uri": "https://localhost:8080/",
     "height": 173
    },
    "colab_type": "code",
    "id": "14JMWnZb8Ead",
    "outputId": "31cd36c0-bc29-4c73-e0bc-0af9cad920dc"
   },
   "outputs": [
    {
     "data": {
      "text/plain": [
       "(78888, 1)"
      ]
     },
     "execution_count": 83,
     "metadata": {},
     "output_type": "execute_result"
    }
   ],
   "source": [
    "from keras.preprocessing.sequence import TimeseriesGenerator\n",
    "from sklearn.preprocessing import MinMaxScaler\n",
    "\n",
    "sc = MinMaxScaler(feature_range=(0.01, 1))\n",
    "\n",
    "series = sc.fit_transform(df.level.values.reshape(-1, 1))\n",
    "series.shape"
   ]
  },
  {
   "cell_type": "markdown",
   "metadata": {},
   "source": [
    "Creating the n-hour shifted series (using np.roll plus padding in order to be able to easy combine with the keras built in TimeseriesGenerator"
   ]
  },
  {
   "cell_type": "markdown",
   "metadata": {},
   "source": [
    "In particular, this notebook demonstrate the procedure for predicting a single 24h ahead step.\n",
    "\n",
    "For the 1h ahead step, the procedure is even less complicated (no need to create the shifted target series with padding and rolling the original series,)\n",
    "\n",
    "For the 168h ahead step, the procedure is identical with a different roll shift and slightly different splittings in the generator steps"
   ]
  },
  {
   "cell_type": "code",
   "execution_count": 85,
   "metadata": {},
   "outputs": [
    {
     "data": {
      "text/plain": [
       "((78842, 1), (78842, 1))"
      ]
     },
     "execution_count": 85,
     "metadata": {},
     "output_type": "execute_result"
    }
   ],
   "source": [
    "# 24h ahead single preds\n",
    "padded_series = np.expand_dims(np.concatenate([series.flatten(), np.zeros(23)]), axis = -1)\n",
    "padded_series\n",
    "\n",
    "target_series = np.roll(padded_series, -23)[:series.shape[0]] #need to discard the last as well\n",
    "\n",
    "target_series = target_series[:-23]  #removing the zero padding\n",
    "series = series[:-23] #removing the zero padding\n",
    "\n",
    "series.shape, target_series.shape"
   ]
  },
  {
   "cell_type": "markdown",
   "metadata": {},
   "source": [
    "Splitting the time series into 3 disjoint but subsequential sets:\n",
    " - the train set \n",
    " - the validation set (the week before the last week)\n",
    " - the test set (the last week)\n",
    " \n",
    "the training is validated with the validation set, in such a way not to exploit informations relative to the final test set (treated as unknown)."
   ]
  },
  {
   "cell_type": "code",
   "execution_count": 141,
   "metadata": {},
   "outputs": [],
   "source": [
    "split_index = -7*24 #one week split\n",
    "\n",
    "train_generator = TimeseriesGenerator(series, target_series, start_index=0, end_index=len(series) + 2*split_index-1, length=n_input, batch_size=1)\n",
    "val_generator = TimeseriesGenerator(series, target_series, start_index=len(series) + 2*split_index-n_input, end_index=len(series)+split_index-1, length=n_input, batch_size=1)\n",
    "test_generator = TimeseriesGenerator(series, target_series, start_index=len(series) + split_index -n_input, end_index=len(series)-1, length=n_input, batch_size=1)"
   ]
  },
  {
   "cell_type": "markdown",
   "metadata": {},
   "source": [
    "Demonstrating the non-overlapping splits"
   ]
  },
  {
   "cell_type": "code",
   "execution_count": 143,
   "metadata": {
    "scrolled": true
   },
   "outputs": [
    {
     "name": "stdout",
     "output_type": "stream",
     "text": [
      "78481\n",
      "[[[0.4735]\n",
      "  [0.505 ]\n",
      "  [0.541 ]\n",
      "  [0.5725]\n",
      "  [0.5815]\n",
      "  [0.5725]\n",
      "  [0.55  ]\n",
      "  [0.514 ]\n",
      "  [0.4735]\n",
      "  [0.4465]\n",
      "  [0.4375]\n",
      "  [0.442 ]\n",
      "  [0.4645]\n",
      "  [0.4735]\n",
      "  [0.4735]\n",
      "  [0.46  ]\n",
      "  [0.4375]\n",
      "  [0.406 ]\n",
      "  [0.388 ]\n",
      "  [0.37  ]\n",
      "  [0.361 ]\n",
      "  [0.3475]\n",
      "  [0.3565]\n",
      "  [0.37  ]]] [[0.3925]]\n",
      "[[[0.505 ]\n",
      "  [0.541 ]\n",
      "  [0.5725]\n",
      "  [0.5815]\n",
      "  [0.5725]\n",
      "  [0.55  ]\n",
      "  [0.514 ]\n",
      "  [0.4735]\n",
      "  [0.4465]\n",
      "  [0.4375]\n",
      "  [0.442 ]\n",
      "  [0.4645]\n",
      "  [0.4735]\n",
      "  [0.4735]\n",
      "  [0.46  ]\n",
      "  [0.4375]\n",
      "  [0.406 ]\n",
      "  [0.388 ]\n",
      "  [0.37  ]\n",
      "  [0.361 ]\n",
      "  [0.3475]\n",
      "  [0.3565]\n",
      "  [0.37  ]\n",
      "  [0.4015]]] [[0.424]]\n"
     ]
    }
   ],
   "source": [
    "for it, (train, test) in enumerate(train_generator):\n",
    "    #print(it)\n",
    "    if it == len(train_generator)-1:\n",
    "        print(it)\n",
    "        print(train, test)\n",
    "for train, test in val_generator:\n",
    "    print(train, test)\n",
    "    break"
   ]
  },
  {
   "cell_type": "code",
   "execution_count": 144,
   "metadata": {
    "scrolled": true
   },
   "outputs": [
    {
     "name": "stdout",
     "output_type": "stream",
     "text": [
      "167\n",
      "[[[0.496 ]\n",
      "  [0.4465]\n",
      "  [0.4105]\n",
      "  [0.4105]\n",
      "  [0.4465]\n",
      "  [0.5095]\n",
      "  [0.5725]\n",
      "  [0.631 ]\n",
      "  [0.6715]\n",
      "  [0.6715]\n",
      "  [0.6355]\n",
      "  [0.55  ]\n",
      "  [0.4555]\n",
      "  [0.352 ]\n",
      "  [0.253 ]\n",
      "  [0.181 ]\n",
      "  [0.1495]\n",
      "  [0.19  ]\n",
      "  [0.2845]\n",
      "  [0.3925]\n",
      "  [0.4825]\n",
      "  [0.5545]\n",
      "  [0.5995]\n",
      "  [0.5995]]] [[0.5905]]\n",
      "[[[0.4465]\n",
      "  [0.4105]\n",
      "  [0.4105]\n",
      "  [0.4465]\n",
      "  [0.5095]\n",
      "  [0.5725]\n",
      "  [0.631 ]\n",
      "  [0.6715]\n",
      "  [0.6715]\n",
      "  [0.6355]\n",
      "  [0.55  ]\n",
      "  [0.4555]\n",
      "  [0.352 ]\n",
      "  [0.253 ]\n",
      "  [0.181 ]\n",
      "  [0.1495]\n",
      "  [0.19  ]\n",
      "  [0.2845]\n",
      "  [0.3925]\n",
      "  [0.4825]\n",
      "  [0.5545]\n",
      "  [0.5995]\n",
      "  [0.5995]\n",
      "  [0.559 ]]] [[0.586]]\n"
     ]
    }
   ],
   "source": [
    "for it, (train, test) in enumerate(val_generator):\n",
    "    #print(it)\n",
    "    if it == len(val_generator)-1:\n",
    "        print(it)\n",
    "        print(train, test)\n",
    "for train, test in test_generator:\n",
    "    print(train, test)\n",
    "    break"
   ]
  },
  {
   "cell_type": "code",
   "execution_count": 145,
   "metadata": {},
   "outputs": [
    {
     "data": {
      "text/plain": [
       "(78482, 168, 168)"
      ]
     },
     "execution_count": 145,
     "metadata": {},
     "output_type": "execute_result"
    }
   ],
   "source": [
    "len(train_generator), len(val_generator), len(test_generator)"
   ]
  },
  {
   "cell_type": "markdown",
   "metadata": {},
   "source": [
    "However, the generator approach (i.e. using fit_generator, predict_generator and so on) with a multigpu model seems very slow, thus we transfor the generator batches into a whole batch dataset for the train, val and test phases."
   ]
  },
  {
   "cell_type": "code",
   "execution_count": 93,
   "metadata": {},
   "outputs": [
    {
     "data": {
      "text/plain": [
       "((78483, 24, 1), (78483, 1))"
      ]
     },
     "execution_count": 93,
     "metadata": {},
     "output_type": "execute_result"
    }
   ],
   "source": [
    "train_list = []\n",
    "test_list = []\n",
    "for train,test in train_generator:\n",
    "    train_list.append(train)\n",
    "    test_list.append(test)\n",
    "train_input = np.concatenate(train_list, axis = 0)\n",
    "train_targets = np.concatenate(test_list, axis = 0)\n",
    "train_input.shape, train_targets.shape"
   ]
  },
  {
   "cell_type": "code",
   "execution_count": 97,
   "metadata": {},
   "outputs": [
    {
     "data": {
      "text/plain": [
       "((168, 24, 1), (168, 1))"
      ]
     },
     "execution_count": 97,
     "metadata": {},
     "output_type": "execute_result"
    }
   ],
   "source": [
    "train_list = []\n",
    "test_list = []\n",
    "for train,test in val_generator:\n",
    "    train_list.append(train)\n",
    "    test_list.append(test)\n",
    "val_input = np.concatenate(train_list, axis = 0)\n",
    "val_targets = np.concatenate(test_list, axis = 0)\n",
    "val_input.shape, val_targets.shape"
   ]
  },
  {
   "cell_type": "code",
   "execution_count": 146,
   "metadata": {},
   "outputs": [
    {
     "data": {
      "text/plain": [
       "((168, 24, 1), (168, 1))"
      ]
     },
     "execution_count": 146,
     "metadata": {},
     "output_type": "execute_result"
    }
   ],
   "source": [
    "train_list = []\n",
    "test_list = []\n",
    "for train, test in test_generator: #some weird but with the last access\n",
    "    train_list.append(train)\n",
    "    test_list.append(test)\n",
    "\n",
    "    \n",
    "test_input = np.concatenate(train_list, axis = 0)\n",
    "test_targets = np.concatenate(test_list, axis = 0)\n",
    "test_input.shape, test_targets.shape"
   ]
  },
  {
   "cell_type": "markdown",
   "metadata": {},
   "source": [
    "# The Model"
   ]
  },
  {
   "cell_type": "markdown",
   "metadata": {},
   "source": [
    "Many attempts were made, in order to define a deep learning model suitable for the task.\n",
    "\n",
    "LSTM seems to outperform the others (RNN, GRUs), even though the GRU model had quite similar performances."
   ]
  },
  {
   "cell_type": "code",
   "execution_count": 91,
   "metadata": {},
   "outputs": [],
   "source": [
    "from keras.models import Sequential\n",
    "from keras.layers import LSTM, Dense, CuDNNLSTM, LeakyReLU, Dropout, BatchNormalization\n",
    "from keras.utils import multi_gpu_model\n",
    "from keras import backend as K\n",
    "from keras.optimizers import Adam \n",
    "\n",
    "n_features = 1\n",
    "\n",
    "# define model\n",
    "def make_model(n_input, n_features, \n",
    "               verbose = False, multi = True, use_CuDNNLSTM = True,\n",
    "              loss = \"mse\", metrics = [\"mae\", \"mape\"],\n",
    "              lr = 0.001):\n",
    "    K.clear_session()\n",
    "    LSTM_layer = LSTM if not use_CuDNNLSTM else CuDNNLSTM\n",
    "    opt = Adam (lr = lr )\n",
    "    \n",
    "    model = Sequential()\n",
    "    \n",
    "    model.add(LSTM_layer(512, input_shape=(n_input, n_features), return_sequences=True))\n",
    "    model.add(BatchNormalization())\n",
    "    model.add(LeakyReLU())\n",
    "    model.add(Dropout(rate = 0.3))\n",
    "    for i in range(0):\n",
    "        model.add(LSTM_layer(512, return_sequences=True))\n",
    "        model.add(BatchNormalization())\n",
    "        model.add(LeakyReLU())\n",
    "        model.add(Dropout( rate = 0.4))\n",
    "    \n",
    "    for i in range(1):\n",
    "        model.add(LSTM_layer(256, return_sequences = False))\n",
    "        model.add(BatchNormalization())\n",
    "        model.add(LeakyReLU())\n",
    "        model.add(Dropout(rate = 0.3))\n",
    "\n",
    "    model.add(Dense(128))\n",
    "    model.add(LeakyReLU())\n",
    "    model.add(Dropout(rate = 0.2))\n",
    "    \n",
    "    model.add(Dense(1))\n",
    "    \n",
    "    model.compile(optimizer=opt, loss=loss, metrics = metrics)\n",
    "    if verbose:\n",
    "        model.summary()\n",
    "    if multi:\n",
    "        mmodel = multi_gpu_model(model, 2)\n",
    "        mmodel.compile(optimizer=opt, loss=loss, metrics = metrics)\n",
    "        return mmodel, model\n",
    "    else: \n",
    "        \n",
    "        return None, model"
   ]
  },
  {
   "cell_type": "markdown",
   "metadata": {},
   "source": [
    "Initializing the wandb callback for a nice experiment tracking"
   ]
  },
  {
   "cell_type": "code",
   "execution_count": 100,
   "metadata": {},
   "outputs": [
    {
     "data": {
      "text/plain": [
       "True"
      ]
     },
     "execution_count": 100,
     "metadata": {},
     "output_type": "execute_result"
    }
   ],
   "source": [
    "import wandb\n",
    "wandb.login()\n"
   ]
  },
  {
   "cell_type": "markdown",
   "metadata": {},
   "source": [
    "Many attempts were made, exploring different input configurations (which lags to get as input).\n",
    "The training plots of some of those attempts are visible in the wandb repository linked in the cell below."
   ]
  },
  {
   "cell_type": "code",
   "execution_count": 110,
   "metadata": {},
   "outputs": [
    {
     "data": {
      "text/html": [
       "\n",
       "                Logging results to <a href=\"https://wandb.com\" target=\"_blank\">Weights & Biases</a> <a href=\"https://docs.wandb.com/integrations/jupyter.html\" target=\"_blank\">(Documentation)</a>.<br/>\n",
       "                Project page: <a href=\"https://app.wandb.ai/dbertazioli/venice_is_drowing\" target=\"_blank\">https://app.wandb.ai/dbertazioli/venice_is_drowing</a><br/>\n",
       "                Run page: <a href=\"https://app.wandb.ai/dbertazioli/venice_is_drowing/runs/0cd0pjiq\" target=\"_blank\">https://app.wandb.ai/dbertazioli/venice_is_drowing/runs/0cd0pjiq</a><br/>\n",
       "            "
      ],
      "text/plain": [
       "<IPython.core.display.HTML object>"
      ]
     },
     "metadata": {},
     "output_type": "display_data"
    },
    {
     "name": "stderr",
     "output_type": "stream",
     "text": [
      "Failed to query for notebook name, you can set it manually with the WANDB_NOTEBOOK_NAME environment variable\n",
      "wandb: Wandb version 0.8.21 is available!  To upgrade, please run:\n",
      "wandb:  $ pip install wandb --upgrade\n"
     ]
    }
   ],
   "source": [
    "from wandb.keras import WandbCallback as wb\n",
    "\n",
    "wandb.init(project = \"venice_is_drowing\", name = \"lstm_single_output_test_24h\")\n",
    "cfg = wandb.config\n",
    "#lookback size\n",
    "n_input = 1*24\n",
    "batch_size = 256\n",
    "cfg.batch_size = batch_size\n",
    "cfg.n_features = n_features\n",
    "cfg.n_input = n_input\n",
    "cfg.epochs = 150"
   ]
  },
  {
   "cell_type": "markdown",
   "metadata": {},
   "source": [
    "Defining the model, using a univariate input (the lagged time series itself), and the CUDA implementation of the LSTM node, which is much faster particularly with a multi-gpu support"
   ]
  },
  {
   "cell_type": "code",
   "execution_count": 114,
   "metadata": {
    "scrolled": true
   },
   "outputs": [
    {
     "name": "stdout",
     "output_type": "stream",
     "text": [
      "_________________________________________________________________\n",
      "Layer (type)                 Output Shape              Param #   \n",
      "=================================================================\n",
      "cu_dnnlstm_1 (CuDNNLSTM)     (None, 24, 512)           1054720   \n",
      "_________________________________________________________________\n",
      "batch_normalization_1 (Batch (None, 24, 512)           2048      \n",
      "_________________________________________________________________\n",
      "leaky_re_lu_1 (LeakyReLU)    (None, 24, 512)           0         \n",
      "_________________________________________________________________\n",
      "dropout_1 (Dropout)          (None, 24, 512)           0         \n",
      "_________________________________________________________________\n",
      "cu_dnnlstm_2 (CuDNNLSTM)     (None, 256)               788480    \n",
      "_________________________________________________________________\n",
      "batch_normalization_2 (Batch (None, 256)               1024      \n",
      "_________________________________________________________________\n",
      "leaky_re_lu_2 (LeakyReLU)    (None, 256)               0         \n",
      "_________________________________________________________________\n",
      "dropout_2 (Dropout)          (None, 256)               0         \n",
      "_________________________________________________________________\n",
      "dense_1 (Dense)              (None, 128)               32896     \n",
      "_________________________________________________________________\n",
      "leaky_re_lu_3 (LeakyReLU)    (None, 128)               0         \n",
      "_________________________________________________________________\n",
      "dropout_3 (Dropout)          (None, 128)               0         \n",
      "_________________________________________________________________\n",
      "dense_2 (Dense)              (None, 1)                 129       \n",
      "=================================================================\n",
      "Total params: 1,879,297\n",
      "Trainable params: 1,877,761\n",
      "Non-trainable params: 1,536\n",
      "_________________________________________________________________\n"
     ]
    }
   ],
   "source": [
    "mmodel, model = make_model(n_input, n_features, lr = 0.001,\n",
    "                           multi = True, use_CuDNNLSTM = True, verbose = True,\n",
    "                           loss = \"mse\", metrics = [\"mae\", \"mape\"])"
   ]
  },
  {
   "cell_type": "markdown",
   "metadata": {},
   "source": [
    "Early Stopping and a Learning Rate Scheduler are implemented in order not to overfit the model onto the training set.\n",
    "\n",
    "As a choice of not-overfitting the validation set (upon which the Early stopping is monitoring) the weights are not restored after the early stopping."
   ]
  },
  {
   "cell_type": "code",
   "execution_count": 115,
   "metadata": {},
   "outputs": [
    {
     "data": {
      "image/png": "[encoded data removed]",
      "text/plain": [
       "<Figure size 1440x720 with 2 Axes>"
      ]
     },
     "metadata": {},
     "output_type": "display_data"
    },
    {
     "name": "stdout",
     "output_type": "stream",
     "text": [
      "Epoch 91/150\n",
      "78695/78695 [==============================] - 16s 205us/step - loss: 0.0019 - mean_absolute_error: 0.0317 - mean_absolute_percentage_error: 7.5567 - val_loss: 0.0013 - val_mean_absolute_error: 0.0281 - val_mean_absolute_percentage_error: 8.0759\n",
      "Restoring model weights from the end of the best epoch\n",
      "Epoch 00091: early stopping\n"
     ]
    }
   ],
   "source": [
    "from keras.callbacks import EarlyStopping, ReduceLROnPlateau\n",
    "from myutils import TrainingPlot\n",
    "\n",
    "\n",
    "plot_losses = TrainingPlot()\n",
    "es = EarlyStopping(monitor = \"val_loss\", patience = 20, restore_best_weights = False, verbose = 1)\n",
    "rl = ReduceLROnPlateau(monitor = \"val_loss\", patience = 10, cooldown=5, factor=0.5, verbose = 1)\n",
    "\n",
    "# fit model\n",
    "history = mmodel.fit(\n",
    "    train_input, train_targets,\n",
    "    epochs=cfg.epochs,\n",
    "    batch_size = cfg.batch_size,\n",
    "    \n",
    "    verbose=1, \n",
    "    \n",
    "    #validation_data=ttest_generator, \n",
    "    #validation_steps = 6,\n",
    "    validation_data = (val_input, val_targets),\n",
    "    \n",
    "    callbacks=[plot_losses, \n",
    "              es, rl,\n",
    "              wb(log_gradients=False, log_weights=False)\n",
    "              ]\n",
    ")"
   ]
  },
  {
   "cell_type": "code",
   "execution_count": 116,
   "metadata": {},
   "outputs": [],
   "source": [
    "#model.save(\"lstm_mape_single_24_step_ahead_y_10_18.h5\")"
   ]
  },
  {
   "cell_type": "code",
   "execution_count": 12,
   "metadata": {},
   "outputs": [],
   "source": [
    "#from keras.models import load_model\n",
    "#model = load_model(\"lstm_mape_single_24_step_ahead_y_10_18.h5\")"
   ]
  },
  {
   "cell_type": "markdown",
   "metadata": {},
   "source": [
    "# Predictions and Evaluations\n",
    "\n",
    "Two different kind of predictions are made for each n-h ahead step:\n",
    "\n",
    "- one shot predictions (the model predicts only 1 step ahead (n-hours, in this case 24h))\n",
    "\n",
    "- iterated predictions based real data (the  model takes as input real data from the test set)\n",
    "\n",
    "- iterated predictions based on previously made predictions (the  model takes as input the previously predicted points)\n",
    "\n",
    "the iterated predictions are averaged over the whole week of the final test set\n",
    "\n"
   ]
  },
  {
   "cell_type": "markdown",
   "metadata": {},
   "source": [
    "In keras, It is straightforward to get one shots predictions and iterated predictions over the real data "
   ]
  },
  {
   "cell_type": "code",
   "execution_count": 150,
   "metadata": {
    "scrolled": true
   },
   "outputs": [
    {
     "data": {
      "text/plain": [
       "0.58040655"
      ]
     },
     "execution_count": 150,
     "metadata": {},
     "output_type": "execute_result"
    }
   ],
   "source": [
    "real_preds1 = model.predict(test_input).flatten() #iterated predictions on real data\n",
    "\n",
    "real_preds1[0] #one_shot prediction on the first step in the test set\n"
   ]
  },
  {
   "cell_type": "markdown",
   "metadata": {},
   "source": [
    "Regarding the iterated predictions on the predicted data, one need a custom function to iterated over the test set.\n",
    "\n",
    "First (i<24) we predict the first 24 points of the test set using the real data of the validation set, then we iterate the predictions on those already-predicted data"
   ]
  },
  {
   "cell_type": "code",
   "execution_count": 151,
   "metadata": {},
   "outputs": [],
   "source": [
    "def iterate_prediction(input_seq = series[-n_input+split_index:split_index], pred_len = 168):\n",
    "    init_test_arr = np.expand_dims(input_seq, axis = 0)\n",
    "    #init_test_arr = np.concatenate((init_test_arr, np.zero_like(init_test_arr))\n",
    "    preds = []\n",
    "    for i in range(pred_len):\n",
    "        if i < 24: #evaluate on real data for \n",
    "            pred = model.predict(test_input[i:i+1], )[0][0]\n",
    "            preds.append(pred)\n",
    "        else:\n",
    "            test_features = np.squeeze(np.squeeze(init_test_arr, axis = -1), axis = 0).tolist()\n",
    "            pred = model.predict(init_test_arr)[0][0]\n",
    "            preds.append(pred)\n",
    "            test_features.append(pred)\n",
    "            init_test_arr = np.atleast_3d(test_features[-n_input:])\n",
    "\n",
    "    return np.array(preds)\n",
    "\n",
    "preds1 = iterate_prediction()"
   ]
  },
  {
   "cell_type": "code",
   "execution_count": 183,
   "metadata": {},
   "outputs": [
    {
     "data": {
      "image/png": "[encoded data removed]",
      "text/plain": [
       "<Figure size 720x720 with 1 Axes>"
      ]
     },
     "metadata": {
      "needs_background": "light"
     },
     "output_type": "display_data"
    }
   ],
   "source": [
    "#real_data = series[split_index:].flatten()\n",
    "real_data = test_targets.flatten()\n",
    "def plot_preds(real_preds, real_data, preds):\n",
    "    plt.figure(figsize=(10,10))\n",
    "    plt.plot(real_preds, label = \"real data preds\")\n",
    "    plt.plot(preds, label = \"iterated preds\")\n",
    "    plt.plot(real_data, label = \"real data\")\n",
    "    plt.legend()\n",
    "    plt.show()\n",
    "\n",
    "plot_preds(real_preds1, real_data, preds1)"
   ]
  },
  {
   "cell_type": "code",
   "execution_count": 148,
   "metadata": {},
   "outputs": [],
   "source": [
    "# utility for calculating mape and rmse"
   ]
  },
  {
   "cell_type": "code",
   "execution_count": 161,
   "metadata": {},
   "outputs": [
    {
     "data": {
      "text/plain": [
       "((168,), (168,))"
      ]
     },
     "execution_count": 161,
     "metadata": {},
     "output_type": "execute_result"
    }
   ],
   "source": [
    "real_preds1.shape, preds1.shape"
   ]
  },
  {
   "cell_type": "markdown",
   "metadata": {},
   "source": [
    "# Evaluations:\n",
    "\n",
    "- RMSE"
   ]
  },
  {
   "cell_type": "code",
   "execution_count": 181,
   "metadata": {},
   "outputs": [
    {
     "data": {
      "text/plain": [
       "(8.322509894099385, 19.163658623481385, 1.2430191040039062)"
      ]
     },
     "execution_count": 181,
     "metadata": {},
     "output_type": "execute_result"
    }
   ],
   "source": [
    "from sklearn.metrics import mean_squared_error\n",
    "from math import sqrt\n",
    "\n",
    "\n",
    "rmse_real_preds = sqrt(mean_squared_error(sc.inverse_transform(real_preds1.reshape(-1, 1)), sc.inverse_transform(real_data.reshape(-1, 1))))\n",
    "rmse_preds = sqrt(mean_squared_error(sc.inverse_transform(preds1.reshape(-1, 1)), sc.inverse_transform(real_data.reshape(-1, 1))))\n",
    "rmse_single_pred = sqrt(mean_squared_error(sc.inverse_transform(real_data[0:1].reshape(-1, 1)), sc.inverse_transform(preds1[0:1].reshape(-1, 1))))\n",
    "\n",
    "rmse_real_preds, rmse_preds, rmse_single_pred"
   ]
  },
  {
   "cell_type": "markdown",
   "metadata": {},
   "source": [
    "- mape"
   ]
  },
  {
   "cell_type": "code",
   "execution_count": 182,
   "metadata": {},
   "outputs": [
    {
     "name": "stdout",
     "output_type": "stream",
     "text": [
      "6.104819368559127\n",
      "20.721032408874194\n",
      "0.9545345762076987\n"
     ]
    }
   ],
   "source": [
    "def calc_mape(real, pred):\n",
    "    return (100*np.abs(real-pred)/real/real.shape[0]).sum()\n",
    "print(calc_mape(real_data, real_preds1)) #mape on real-data preds\n",
    "print(calc_mape(real_data, preds1)) #mape on iterated preds\n",
    "print(calc_mape(real_data[0:1], preds1[0:1]))"
   ]
  }
 ],
 "metadata": {
  "accelerator": "GPU",
  "colab": {
   "collapsed_sections": [],
   "name": "venice_lstm_test.ipynb",
   "provenance": []
  },
  "kernelspec": {
   "display_name": "Python 3",
   "language": "python",
   "name": "python3"
  },
  "language_info": {
   "codemirror_mode": {
    "name": "ipython",
    "version": 3
   },
   "file_extension": ".py",
   "mimetype": "text/x-python",
   "name": "python",
   "nbconvert_exporter": "python",
   "pygments_lexer": "ipython3",
   "version": "3.6.3"
  }
 },
 "nbformat": 4,
 "nbformat_minor": 1
}
